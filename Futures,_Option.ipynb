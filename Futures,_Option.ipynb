{
  "nbformat": 4,
  "nbformat_minor": 0,
  "metadata": {
    "colab": {
      "name": "Futures, Option.ipynb",
      "private_outputs": true,
      "provenance": [],
      "toc_visible": true,
      "authorship_tag": "ABX9TyOoJXMdhvwDegbySXCy4slz",
      "include_colab_link": true
    },
    "kernelspec": {
      "name": "python3",
      "display_name": "Python 3"
    },
    "language_info": {
      "name": "python"
    }
  },
  "cells": [
    {
      "cell_type": "markdown",
      "metadata": {
        "id": "view-in-github",
        "colab_type": "text"
      },
      "source": [
        "<a href=\"https://colab.research.google.com/github/realyou0312/DataAnalysis/blob/main/Futures%2C_Option.ipynb\" target=\"_parent\"><img src=\"https://colab.research.google.com/assets/colab-badge.svg\" alt=\"Open In Colab\"/></a>"
      ]
    },
    {
      "cell_type": "code",
      "metadata": {
        "id": "OViKM20-0iiW"
      },
      "source": [
        "!pip install yfinance\n",
        "!pip install pandas-datareader\n",
        "!pip install pykrx\n",
        "!pip install finance-datareader"
      ],
      "execution_count": null,
      "outputs": []
    },
    {
      "cell_type": "code",
      "metadata": {
        "id": "X8CIHhKU0vAb"
      },
      "source": [
        "import pandas as pd\n",
        "import numpy as np\n",
        "import pandas_datareader as pdr\n",
        "import FinanceDataReader as fdr\n",
        "import seaborn as sns\n",
        "from matplotlib import dates as mdates\n",
        "import matplotlib.pyplot as plt\n",
        "%matplotlib inline\n",
        "\n",
        "import warnings\n",
        "warnings.filterwarnings(action='ignore')\n",
        "\n"
      ],
      "execution_count": null,
      "outputs": []
    },
    {
      "cell_type": "code",
      "metadata": {
        "id": "ca8qZ5f91A40"
      },
      "source": [
        "ss = fdr.DataReader('005930', '2021-05-01')\n",
        "\n",
        "lg = fdr.DataReader('066570', '2021-05-01')\n",
        "\n",
        "app = fdr.DataReader('AAPL', '2021-05-01')"
      ],
      "execution_count": null,
      "outputs": []
    },
    {
      "cell_type": "code",
      "metadata": {
        "id": "H59MrQ4E1aVY"
      },
      "source": [
        "ss.info()"
      ],
      "execution_count": null,
      "outputs": []
    },
    {
      "cell_type": "code",
      "metadata": {
        "id": "UE7TL_9K1dfc"
      },
      "source": [
        "ss.head()"
      ],
      "execution_count": null,
      "outputs": []
    },
    {
      "cell_type": "code",
      "metadata": {
        "id": "5NJInxPS1mxD"
      },
      "source": [
        "df = pd.concat([ss['Close'], lg['Close'], app['Close']], axis=1, keys=['ss', 'lg', 'app'])\n",
        "# df.columns = ['ss', 'lg', 'app']\n",
        "df.head()"
      ],
      "execution_count": null,
      "outputs": []
    },
    {
      "cell_type": "code",
      "metadata": {
        "id": "S7yWkBFq3TQF"
      },
      "source": [
        "import matplotlib.font_manager as fm\n",
        "import matplotlib as mpl\n",
        "mpl.rcParams['axes.unicode_minus'] = False\n",
        "mpl.rcParams[\"figure.figsize\"] = (14,4)\n",
        "mpl.rcParams['axes.grid'] = True \n",
        "path = 'C:\\\\windows\\Fonts\\x7f\\x7f\\x7f\\x7fBOLD.ttf'\n",
        "font_name = fm.FontProperties(fname=path, size=10).get_name()\n",
        "print(font_name)\n",
        "plt.rc('font', family=font_name)\n",
        "# plt.title('한글제목')\n",
        "# plt.show()\n"
      ],
      "execution_count": null,
      "outputs": []
    },
    {
      "cell_type": "code",
      "metadata": {
        "id": "j41Aw1bw4w-a"
      },
      "source": [
        "def myplot(df, nrows=5,  kind='line', title='제목', labels=False):  \n",
        "    if nrows > 0:\n",
        "        print(df.head(nrows))\n",
        "    else:\n",
        "        print(df.tail(nrows))\n",
        "    \n",
        "    if labels:\n",
        "        cols = df.columns\n",
        "        for i, col in enumerate(cols):\n",
        "            df[col].plot(label=labels[i], kind=kind)\n",
        "    else :\n",
        "        df.plot(kind=kind)\n",
        "    \n",
        "    plt.title(title)\n",
        "    plt.legend()\n",
        "    plt.show()\n"
      ],
      "execution_count": null,
      "outputs": []
    },
    {
      "cell_type": "code",
      "metadata": {
        "id": "VtvY5Lcg4-gy"
      },
      "source": [
        "def myplotmix(df1, df2, y1='ylabel-1', y2='ylabel-2', kind1='bar', kind2='line', title='제목',  nrows1=5, nrows2=5,  labels=False):  \n",
        "    ytl=['b', 'g', 'r', 'c', 'm', 'y', 'k', 'w']\n",
        "\n",
        "    if nrows1 > 0:\n",
        "        print(df1.head(nrows1))\n",
        "    elif nrows1 < 0:\n",
        "        print(df1.tail(nrows1))\n",
        "    if nrows2 > 0:\n",
        "        print(df2.head(nrows2))\n",
        "    else:\n",
        "        print(df2.tail(nrows2))\n",
        "    fig, ax1 = plt.subplots(figsize=(12, 4))\n",
        "    ax2=ax1.twinx()\n",
        "    if kind1 == 'line':\n",
        "        df1.plot(kind=kind1, ax=ax2, marker='d',color='#e35f62')  #color='y', \n",
        "        df2.plot(kind=kind2, ax=ax1)  #bar\n",
        "    else:\n",
        "        df1.plot(kind=kind1, ax=ax1,color='#bcbd22')\n",
        "        df2.plot(kind=kind2, ax=ax2) #color='y',\n",
        "        \n",
        "    # df['date'] = df['date'].dt.strftime('%Y-%m-%d')\n",
        "    # ax1.set_xticklabels(df['date'])    \n",
        "    ax1.yaxis.tick_right()\n",
        "    ax2.yaxis.tick_left()\n",
        "    ax1.set_ylabel(y1) #, color='red')\n",
        "    ax2.set_ylabel(y2) #, color='red')\n",
        "    ax1.legend(loc=1)\n",
        "    ax2.legend(loc=2)\n",
        "    plt.title(title)\n",
        "    ax1.grid(False)\n",
        "plt.show()\n"
      ],
      "execution_count": null,
      "outputs": []
    },
    {
      "cell_type": "markdown",
      "metadata": {
        "id": "wcY22J-T53Ll"
      },
      "source": [
        "## 변동률\n",
        "- ((df_app['Close'] - df_app['전일종가']) / dfapp['전일종가']) * 100\n",
        "- (오늘가격 - 어제가격) / 어제가격 * 100"
      ]
    },
    {
      "cell_type": "code",
      "metadata": {
        "id": "apUXjS2G4_A4"
      },
      "source": [
        "df['ssv'] = df['ss'].pct_change(periods=1) * 100\n",
        "df['lgv'] = df['lg'].pct_change(periods=1) * 100\n",
        "df['apv'] = df['app'].pct_change(periods=1) * 100\n",
        "df = df.fillna(0)\n",
        "df.head()"
      ],
      "execution_count": null,
      "outputs": []
    },
    {
      "cell_type": "code",
      "metadata": {
        "id": "MCq1GV8m62Cn"
      },
      "source": [
        "myplot(df[['ssv', 'lgv', 'apv']], kind='line', title='Juga' )"
      ],
      "execution_count": null,
      "outputs": []
    },
    {
      "cell_type": "code",
      "metadata": {
        "id": "uaVuHx9n6-f7"
      },
      "source": [
        "myplot(df[[ 'ssv', 'lgv', 'apv']].cumsum(), title='주가 변동률')"
      ],
      "execution_count": null,
      "outputs": []
    },
    {
      "cell_type": "code",
      "metadata": {
        "id": "cVrPyVuc78-q"
      },
      "source": [
        "df.to_csv('sample.csv')"
      ],
      "execution_count": null,
      "outputs": []
    },
    {
      "cell_type": "markdown",
      "metadata": {
        "id": "byG6443K_Lci"
      },
      "source": [
        "## 가격지수\n",
        "- 가격변동률 : 오늘주가 - 기준일주가 / 기준일 주가 * 100\n",
        "- 시가총액 : 주가 * 발행수 * 유동비율\n",
        "- 가격지수 : 오늘시가총액 / 기준일시가총액 * 100"
      ]
    },
    {
      "cell_type": "code",
      "metadata": {
        "id": "5Zkus17K8dU8"
      },
      "source": [
        ""
      ],
      "execution_count": null,
      "outputs": []
    }
  ]
}