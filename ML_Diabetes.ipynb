{
 "cells": [
  {
   "cell_type": "code",
   "execution_count": 1,
   "id": "caroline-concentration",
   "metadata": {},
   "outputs": [],
   "source": [
    "import warnings\n",
    "warnings.filterwarnings(action='ignore')\n",
    "import pandas as pd\n",
    "import numpy as np\n",
    "import matplotlib.pyplot as plt\n",
    "import seaborn as sns\n",
    "\n",
    "from sklearn.tree import DecisionTreeClassifier\n",
    "from sklearn.ensemble import RandomForestClassifier, VotingClassifier\n",
    "from sklearn.linear_model import LogisticRegression\n",
    "from sklearn.neighbors import KNeighborsClassifier\n",
    "\n",
    "from sklearn.model_selection import train_test_split\n",
    "from sklearn.metrics import accuracy_score, precision_score, recall_score, f1_score, roc_auc_score, roc_curve\n",
    "from sklearn.metrics import confusion_matrix\n",
    "from sklearn.model_selection import KFold, StratifiedKFold, cross_val_score, GridSearchCV\n",
    "\n",
    "dt = DecisionTreeClassifier()\n",
    "rf = RandomForestClassifier()\n",
    "lr = LogisticRegression()\n",
    "knn = KNeighborsClassifier()\n",
    "\n",
    "#train_X.drop[(['T_MR'], axis=1, inplace=True)\n",
    "#train['Fare'].fillna(train.groupby('Pclass')['Fare'].transform('median'))"
   ]
  },
  {
   "cell_type": "markdown",
   "id": "municipal-secretary",
   "metadata": {},
   "source": [
    "### 1. 데이터 사전 탐색 (EDA)"
   ]
  },
  {
   "cell_type": "code",
   "execution_count": 2,
   "id": "daily-lounge",
   "metadata": {
    "scrolled": true
   },
   "outputs": [
    {
     "name": "stdout",
     "output_type": "stream",
     "text": [
      "<class 'pandas.core.frame.DataFrame'>\n",
      "RangeIndex: 768 entries, 0 to 767\n",
      "Data columns (total 9 columns):\n",
      " #   Column                    Non-Null Count  Dtype  \n",
      "---  ------                    --------------  -----  \n",
      " 0   Pregnancies               768 non-null    int64  \n",
      " 1   Glucose                   768 non-null    int64  \n",
      " 2   BloodPressure             768 non-null    int64  \n",
      " 3   SkinThickness             768 non-null    int64  \n",
      " 4   Insulin                   768 non-null    int64  \n",
      " 5   BMI                       768 non-null    float64\n",
      " 6   DiabetesPedigreeFunction  768 non-null    float64\n",
      " 7   Age                       768 non-null    int64  \n",
      " 8   Outcome                   768 non-null    int64  \n",
      "dtypes: float64(2), int64(7)\n",
      "memory usage: 54.1 KB\n"
     ]
    },
    {
     "data": {
      "text/html": [
       "<div>\n",
       "<style scoped>\n",
       "    .dataframe tbody tr th:only-of-type {\n",
       "        vertical-align: middle;\n",
       "    }\n",
       "\n",
       "    .dataframe tbody tr th {\n",
       "        vertical-align: top;\n",
       "    }\n",
       "\n",
       "    .dataframe thead th {\n",
       "        text-align: right;\n",
       "    }\n",
       "</style>\n",
       "<table border=\"1\" class=\"dataframe\">\n",
       "  <thead>\n",
       "    <tr style=\"text-align: right;\">\n",
       "      <th></th>\n",
       "      <th>Pregnancies</th>\n",
       "      <th>Glucose</th>\n",
       "      <th>BloodPressure</th>\n",
       "      <th>SkinThickness</th>\n",
       "      <th>Insulin</th>\n",
       "      <th>BMI</th>\n",
       "      <th>DiabetesPedigreeFunction</th>\n",
       "      <th>Age</th>\n",
       "      <th>Outcome</th>\n",
       "    </tr>\n",
       "  </thead>\n",
       "  <tbody>\n",
       "    <tr>\n",
       "      <th>0</th>\n",
       "      <td>6</td>\n",
       "      <td>148</td>\n",
       "      <td>72</td>\n",
       "      <td>35</td>\n",
       "      <td>0</td>\n",
       "      <td>33.6</td>\n",
       "      <td>0.627</td>\n",
       "      <td>50</td>\n",
       "      <td>1</td>\n",
       "    </tr>\n",
       "    <tr>\n",
       "      <th>1</th>\n",
       "      <td>1</td>\n",
       "      <td>85</td>\n",
       "      <td>66</td>\n",
       "      <td>29</td>\n",
       "      <td>0</td>\n",
       "      <td>26.6</td>\n",
       "      <td>0.351</td>\n",
       "      <td>31</td>\n",
       "      <td>0</td>\n",
       "    </tr>\n",
       "    <tr>\n",
       "      <th>2</th>\n",
       "      <td>8</td>\n",
       "      <td>183</td>\n",
       "      <td>64</td>\n",
       "      <td>0</td>\n",
       "      <td>0</td>\n",
       "      <td>23.3</td>\n",
       "      <td>0.672</td>\n",
       "      <td>32</td>\n",
       "      <td>1</td>\n",
       "    </tr>\n",
       "    <tr>\n",
       "      <th>3</th>\n",
       "      <td>1</td>\n",
       "      <td>89</td>\n",
       "      <td>66</td>\n",
       "      <td>23</td>\n",
       "      <td>94</td>\n",
       "      <td>28.1</td>\n",
       "      <td>0.167</td>\n",
       "      <td>21</td>\n",
       "      <td>0</td>\n",
       "    </tr>\n",
       "    <tr>\n",
       "      <th>4</th>\n",
       "      <td>0</td>\n",
       "      <td>137</td>\n",
       "      <td>40</td>\n",
       "      <td>35</td>\n",
       "      <td>168</td>\n",
       "      <td>43.1</td>\n",
       "      <td>2.288</td>\n",
       "      <td>33</td>\n",
       "      <td>1</td>\n",
       "    </tr>\n",
       "  </tbody>\n",
       "</table>\n",
       "</div>"
      ],
      "text/plain": [
       "   Pregnancies  Glucose  BloodPressure  SkinThickness  Insulin   BMI  \\\n",
       "0            6      148             72             35        0  33.6   \n",
       "1            1       85             66             29        0  26.6   \n",
       "2            8      183             64              0        0  23.3   \n",
       "3            1       89             66             23       94  28.1   \n",
       "4            0      137             40             35      168  43.1   \n",
       "\n",
       "   DiabetesPedigreeFunction  Age  Outcome  \n",
       "0                     0.627   50        1  \n",
       "1                     0.351   31        0  \n",
       "2                     0.672   32        1  \n",
       "3                     0.167   21        0  \n",
       "4                     2.288   33        1  "
      ]
     },
     "execution_count": 2,
     "metadata": {},
     "output_type": "execute_result"
    }
   ],
   "source": [
    "data = pd.read_csv('diabetes.csv')\n",
    "data.shape\n",
    "data.info()\n",
    "data.head()"
   ]
  },
  {
   "cell_type": "code",
   "execution_count": 3,
   "id": "assisted-catholic",
   "metadata": {},
   "outputs": [],
   "source": [
    "### 무조건 점수부터 보자 (결측없고 수치형피쳐)"
   ]
  },
  {
   "cell_type": "code",
   "execution_count": 4,
   "id": "atmospheric-highlight",
   "metadata": {},
   "outputs": [],
   "source": [
    "def myfit(X, y, model, imp=1, tsize=0.2):\n",
    "    X_train, X_test, y_train, y_test = train_test_split(X, y, test_size=tsize, random_state=100, shuffle=False)\n",
    "    model.fit(X_train, y_train)\n",
    "    pred = model.predict(X_test)\n",
    "    accuracy = accuracy_score(pred, y_test)\n",
    "    precision = precision_score(pred, y_test)\n",
    "    recall = recall_score(pred, y_test)\n",
    "    f1 = f1_score(pred, y_test)\n",
    "    print('Accuracy:{:.6f} Precision:{:.6f} Recall:{:.6f} F1:{:.6f}'.format(accuracy, precision, recall, f1))\n",
    "    \n",
    "#     if imp==1:\n",
    "#         imp_df = pd.DataFrame({'feature': X_train.columns, 'importance':model.feature_importances_})\n",
    "#         imp_df = imp_df.sort_values('importance', ascending=False).T\n",
    "#         print(imp_df)"
   ]
  },
  {
   "cell_type": "code",
   "execution_count": 5,
   "id": "adapted-recognition",
   "metadata": {},
   "outputs": [],
   "source": [
    "#불균형 확인"
   ]
  },
  {
   "cell_type": "code",
   "execution_count": 6,
   "id": "surgical-lawyer",
   "metadata": {},
   "outputs": [
    {
     "data": {
      "text/plain": [
       "0    500\n",
       "1    268\n",
       "Name: Outcome, dtype: int64"
      ]
     },
     "execution_count": 6,
     "metadata": {},
     "output_type": "execute_result"
    }
   ],
   "source": [
    "data['Outcome'].value_counts()"
   ]
  },
  {
   "cell_type": "code",
   "execution_count": 7,
   "id": "sophisticated-actor",
   "metadata": {},
   "outputs": [
    {
     "data": {
      "image/png": "[encoded data removed]",
      "text/plain": [
       "<Figure size 432x288 with 9 Axes>"
      ]
     },
     "metadata": {
      "needs_background": "light"
     },
     "output_type": "display_data"
    }
   ],
   "source": [
    "data.hist()\n",
    "plt.show()"
   ]
  },
  {
   "cell_type": "code",
   "execution_count": 8,
   "id": "fantastic-arkansas",
   "metadata": {},
   "outputs": [],
   "source": [
    "# 0데이터 확인"
   ]
  },
  {
   "cell_type": "code",
   "execution_count": 9,
   "id": "bibliographic-persian",
   "metadata": {},
   "outputs": [
    {
     "data": {
      "text/html": [
       "<div>\n",
       "<style scoped>\n",
       "    .dataframe tbody tr th:only-of-type {\n",
       "        vertical-align: middle;\n",
       "    }\n",
       "\n",
       "    .dataframe tbody tr th {\n",
       "        vertical-align: top;\n",
       "    }\n",
       "\n",
       "    .dataframe thead th {\n",
       "        text-align: right;\n",
       "    }\n",
       "</style>\n",
       "<table border=\"1\" class=\"dataframe\">\n",
       "  <thead>\n",
       "    <tr style=\"text-align: right;\">\n",
       "      <th></th>\n",
       "      <th>CNT</th>\n",
       "      <th>RATE</th>\n",
       "    </tr>\n",
       "  </thead>\n",
       "  <tbody>\n",
       "    <tr>\n",
       "      <th>Outcome</th>\n",
       "      <td>500</td>\n",
       "      <td>65.104167</td>\n",
       "    </tr>\n",
       "    <tr>\n",
       "      <th>Insulin</th>\n",
       "      <td>374</td>\n",
       "      <td>48.697917</td>\n",
       "    </tr>\n",
       "    <tr>\n",
       "      <th>SkinThickness</th>\n",
       "      <td>227</td>\n",
       "      <td>29.557292</td>\n",
       "    </tr>\n",
       "    <tr>\n",
       "      <th>Pregnancies</th>\n",
       "      <td>111</td>\n",
       "      <td>14.453125</td>\n",
       "    </tr>\n",
       "    <tr>\n",
       "      <th>BloodPressure</th>\n",
       "      <td>35</td>\n",
       "      <td>4.557292</td>\n",
       "    </tr>\n",
       "    <tr>\n",
       "      <th>BMI</th>\n",
       "      <td>11</td>\n",
       "      <td>1.432292</td>\n",
       "    </tr>\n",
       "    <tr>\n",
       "      <th>Glucose</th>\n",
       "      <td>5</td>\n",
       "      <td>0.651042</td>\n",
       "    </tr>\n",
       "  </tbody>\n",
       "</table>\n",
       "</div>"
      ],
      "text/plain": [
       "               CNT       RATE\n",
       "Outcome        500  65.104167\n",
       "Insulin        374  48.697917\n",
       "SkinThickness  227  29.557292\n",
       "Pregnancies    111  14.453125\n",
       "BloodPressure   35   4.557292\n",
       "BMI             11   1.432292\n",
       "Glucose          5   0.651042"
      ]
     },
     "execution_count": 9,
     "metadata": {},
     "output_type": "execute_result"
    }
   ],
   "source": [
    "nan_dict = {'CNT':data.isin([0]).sum(), 'RATE': data.isin([0]).sum()/data.shape[0] * 100}\n",
    "nan_df = pd.DataFrame(nan_dict)\n",
    "nan_df[nan_df['RATE']>0].sort_values('CNT', ascending=False)"
   ]
  },
  {
   "cell_type": "code",
   "execution_count": 10,
   "id": "needed-intent",
   "metadata": {},
   "outputs": [],
   "source": [
    "# 각 피쳐당 0값을 평균으로 대체"
   ]
  },
  {
   "cell_type": "code",
   "execution_count": 11,
   "id": "advanced-constitution",
   "metadata": {},
   "outputs": [
    {
     "name": "stdout",
     "output_type": "stream",
     "text": [
      "(768,) (768, 8)\n"
     ]
    }
   ],
   "source": [
    "zero_feature = ['Insulin', 'SkinThickness', 'BloodPressure', 'BMI']\n",
    "zero_mean = data[zero_feature].mean()\n",
    "data[zero_feature] = data[zero_feature].replace(0, zero_mean)\n",
    "\n",
    "rf = RandomForestClassifier(random_state=100)\n",
    "df_y = data[\"Outcome\"]\n",
    "df_X = data.drop(\"Outcome\", axis=1)\n",
    "print(df_y.shape, df_X.shape)\n"
   ]
  },
  {
   "cell_type": "code",
   "execution_count": 29,
   "id": "turkish-community",
   "metadata": {},
   "outputs": [],
   "source": [
    "def myscore(y_test, pred, proba, pr_curve=0, auc_curve=0):\n",
    "    accuracy = accuracy_score(y_test, pred)\n",
    "    precision = precision_score(y_test, pred)\n",
    "    recall = recall_score(y_test, pred)\n",
    "    f1 = f1_score(y_test, pred)\n",
    "    auc = roc_auc_score(y_test, proba[:,-1])\n",
    "    #print(f'{scaler[0]:s}:{df_score:.4f}')\n",
    "    #print('Accuracy:{:.6f} Precision:{:.6f} Recall:{:.6f} F1:{:.6f}'.format(accuracy, precision, recall, f1))\n",
    "    print(f'Accuracy:{accuracy:.6f}, Precision:{precision:.6f}, Recall:{recall:.6f}, F1:{f1:.6f}, AUC:{auc:.6f}')\n",
    "    \n",
    "    mtx = confusion_matrix(y_test, pred)\n",
    "    print(mtx)\n",
    "    \n",
    "    if pr_curve==1:\n",
    "        mycurve(y_test, proba)\n",
    "    if auc_curve==1:\n",
    "        mycurve_auc(y_test, proba)"
   ]
  },
  {
   "cell_type": "code",
   "execution_count": 13,
   "id": "fitting-nevada",
   "metadata": {},
   "outputs": [],
   "source": [
    "from sklearn.metrics import precision_recall_curve\n",
    "def mycurve(y_test, proba):\n",
    "    precision, recall, thresholds = precision_recall_curve(y_test, proba[:, -1])\n",
    "    print(len(precision), len(recall), len(thresholds))\n",
    "    plt.plot(thresholds, precision[:len(thresholds)], label='precision')\n",
    "    plt.plot(thresholds, recall[:len(thresholds)], label='recall')\n",
    "    plt.xlabel('thresholds')\n",
    "    plt.ylabel('score')\n",
    "    plt.grid()\n",
    "    plt.legend()\n",
    "    plt.show()"
   ]
  },
  {
   "cell_type": "code",
   "execution_count": 14,
   "id": "utility-windsor",
   "metadata": {},
   "outputs": [],
   "source": [
    "# AUC일정한 이유를 찾아서\n",
    "def mycurve_auc(y_test, proba):\n",
    "    fpr, tpr, thresholds = roc_curve(y_test, proba[:,-1])\n",
    "    print(len(fpr), len(tpr), len(thresholds))\n",
    "    plt.plot(fpr, tpr, label='roc')\n",
    "    plt.plot([0,1], [0,1], label='th:0.5')\n",
    "    plt.xlabel('FPR(1-TNR(specificity))')       #FP\n",
    "    plt.ylabel('TPR(recall, sensitivity)')      #TP\n",
    "    plt.title(f'auc:{roc_auc_score(y_test, proba[:,-1]):.4f}') #roc 아래 면적 = auc\n",
    "    plt.grid()\n",
    "    plt.legend()\n",
    "    plt.show()"
   ]
  },
  {
   "cell_type": "code",
   "execution_count": 15,
   "id": "minor-struggle",
   "metadata": {},
   "outputs": [],
   "source": [
    "# 정규화, 이상치, 스케일링"
   ]
  },
  {
   "cell_type": "markdown",
   "id": "weekly-typing",
   "metadata": {},
   "source": [
    "## 방법1 각각 스케일링"
   ]
  },
  {
   "cell_type": "code",
   "execution_count": 18,
   "id": "induced-distribution",
   "metadata": {},
   "outputs": [
    {
     "ename": "TypeError",
     "evalue": "myscore() missing 1 required positional argument: 'proba'",
     "output_type": "error",
     "traceback": [
      "\u001b[1;31m---------------------------------------------------------------------------\u001b[0m",
      "\u001b[1;31mTypeError\u001b[0m                                 Traceback (most recent call last)",
      "\u001b[1;32m<ipython-input-18-9ae2e8e7a6e9>\u001b[0m in \u001b[0;36m<module>\u001b[1;34m\u001b[0m\n\u001b[0;32m     13\u001b[0m     \u001b[0mrf\u001b[0m\u001b[1;33m.\u001b[0m\u001b[0mfit\u001b[0m\u001b[1;33m(\u001b[0m\u001b[0mX_train_scaler\u001b[0m\u001b[1;33m,\u001b[0m \u001b[0my_train\u001b[0m\u001b[1;33m)\u001b[0m\u001b[1;33m\u001b[0m\u001b[1;33m\u001b[0m\u001b[0m\n\u001b[0;32m     14\u001b[0m     \u001b[0mpred\u001b[0m \u001b[1;33m=\u001b[0m \u001b[0mrf\u001b[0m\u001b[1;33m.\u001b[0m\u001b[0mpredict\u001b[0m\u001b[1;33m(\u001b[0m\u001b[0mX_test_scaler\u001b[0m\u001b[1;33m)\u001b[0m \u001b[1;31m#테스트(본시험) 파일 (스케일링 안한 상태)\u001b[0m\u001b[1;33m\u001b[0m\u001b[1;33m\u001b[0m\u001b[0m\n\u001b[1;32m---> 15\u001b[1;33m     \u001b[0mmyscore\u001b[0m\u001b[1;33m(\u001b[0m\u001b[0my_test\u001b[0m\u001b[1;33m,\u001b[0m \u001b[0mpred\u001b[0m\u001b[1;33m)\u001b[0m\u001b[1;33m\u001b[0m\u001b[1;33m\u001b[0m\u001b[0m\n\u001b[0m\u001b[0;32m     16\u001b[0m \u001b[1;33m\u001b[0m\u001b[0m\n\u001b[0;32m     17\u001b[0m \u001b[1;31m# std_scaler.fit(test_X) # 스케일변환 금지 -> 테스트셋에는 fit 적용 금지\u001b[0m\u001b[1;33m\u001b[0m\u001b[1;33m\u001b[0m\u001b[1;33m\u001b[0m\u001b[0m\n",
      "\u001b[1;31mTypeError\u001b[0m: myscore() missing 1 required positional argument: 'proba'"
     ]
    }
   ],
   "source": [
    "from sklearn.preprocessing import MinMaxScaler, StandardScaler, RobustScaler\n",
    "std_scalar = StandardScaler()\n",
    "rbs_scaler = RobustScaler()\n",
    "mmx_scaler = MinMaxScaler()\n",
    "scaler_list = [('StandardScaler',std_scalar)]#, ('RobustScaler',rbs_scaler), ('MinMaxScaler',mmx_scaler)]\n",
    "\n",
    "for scaler in scaler_list:\n",
    "    #df_X_scaler = scaler[1].fit_transform(df_X)\n",
    "    X_train, X_test, y_train, y_test = train_test_split(df_X, df_y, test_size=0.2, random_state=100, shuffle=False)\n",
    "    X_train_scaler = scaler[1].fit_transform(X_train)   # 각각 스케일링\n",
    "    X_test_scaler  = scaler[1].transform(X_test)\n",
    "\n",
    "    rf.fit(X_train_scaler, y_train)\n",
    "    pred = rf.predict(X_test_scaler) #테스트(본시험) 파일 (스케일링 안한 상태)\n",
    "    myscore(y_test, pred)\n",
    "\n",
    "# std_scaler.fit(test_X) # 스케일변환 금지 -> 테스트셋에는 fit 적용 금지\n",
    "# std_scaler.transform(test_X)"
   ]
  },
  {
   "cell_type": "markdown",
   "id": "equipped-shopping",
   "metadata": {},
   "source": [
    "### 방법2 전체 스케일링후 나누기 (시계열은 위험)"
   ]
  },
  {
   "cell_type": "code",
   "execution_count": null,
   "id": "conscious-ebony",
   "metadata": {},
   "outputs": [],
   "source": [
    "for scaler in scaler_list:\n",
    "    df_X_scaler = scaler[1].fit_transform(df_X)  # 스케일링하고 나누기\n",
    "    X_train, X_test, y_train, y_test = train_test_split(df_X_scaler, df_y, test_size=0.2, random_state=100, shuffle=False)\n",
    "\n",
    "    rf.fit(X_train, y_train)\n",
    "    pred = rf.predict(X_test)\n",
    "    myscore(y_test, pred)"
   ]
  },
  {
   "cell_type": "markdown",
   "id": "confidential-ladder",
   "metadata": {},
   "source": [
    "### Proba"
   ]
  },
  {
   "cell_type": "code",
   "execution_count": 26,
   "id": "after-program",
   "metadata": {},
   "outputs": [
    {
     "name": "stdout",
     "output_type": "stream",
     "text": [
      "[1 0 0 0 1] [[0.19 0.81]\n",
      " [0.92 0.08]\n",
      " [0.66 0.34]\n",
      " [0.92 0.08]\n",
      " [0.42 0.58]]\n",
      "Accuracy:0.733766, Precision:0.659091, Recall:0.527273, F1:0.585859, AUC:0.830211\n",
      "[[84 15]\n",
      " [26 29]]\n",
      "61 61 60\n"
     ]
    },
    {
     "data": {
      "image/png": "[encoded data removed]",
      "text/plain": [
       "<Figure size 432x288 with 1 Axes>"
      ]
     },
     "metadata": {
      "needs_background": "light"
     },
     "output_type": "display_data"
    },
    {
     "name": "stdout",
     "output_type": "stream",
     "text": [
      "62 62 62\n"
     ]
    },
    {
     "data": {
      "image/png": "[encoded data removed]",
      "text/plain": [
       "<Figure size 432x288 with 1 Axes>"
      ]
     },
     "metadata": {
      "needs_background": "light"
     },
     "output_type": "display_data"
    }
   ],
   "source": [
    "std_scalar = StandardScaler()\n",
    "    \n",
    "X_train, X_test, y_train, y_test = train_test_split(df_X, df_y, test_size=0.2, random_state=100, shuffle=False)\n",
    "\n",
    "X_train_scaler = std_scalar.fit_transform(X_train)\n",
    "X_test_scaler  = std_scalar.transform(X_test)\n",
    "\n",
    "rf.fit(X_train_scaler, y_train)\n",
    "pred = rf.predict(X_test_scaler)\n",
    "proba = rf.predict_proba(X_test_scaler)\n",
    "\n",
    "print(pred[:5], proba[:5])\n",
    "\n",
    "myscore(y_test, pred, proba, pr_curve=1, auc_curve=1)"
   ]
  },
  {
   "cell_type": "code",
   "execution_count": null,
   "id": "alternative-birthday",
   "metadata": {},
   "outputs": [],
   "source": [
    "# FPR=0 인 경우 -> FP=0 -> th=1 = all Negative\n",
    "# FPR=1 인 경우 -> FP=1 -> th=0 = all Positive"
   ]
  },
  {
   "cell_type": "code",
   "execution_count": 31,
   "id": "tender-delay",
   "metadata": {},
   "outputs": [
    {
     "name": "stdout",
     "output_type": "stream",
     "text": [
      "N:P (0, 1)\n",
      "Accuracy:0.363636, Precision:0.359477, Recall:1.000000, F1:0.528846, AUC:0.830211\n",
      "[[ 1 98]\n",
      " [ 0 55]]\n",
      "N:P (0.35, 0.65)\n",
      "Accuracy:0.733766, Precision:0.609375, Recall:0.709091, F1:0.655462, AUC:0.830211\n",
      "[[74 25]\n",
      " [16 39]]\n",
      "N:P (0.4, 0.6)\n",
      "Accuracy:0.733766, Precision:0.612903, Recall:0.690909, F1:0.649573, AUC:0.830211\n",
      "[[75 24]\n",
      " [17 38]]\n",
      "N:P (0.45, 0.55)\n",
      "Accuracy:0.753247, Precision:0.654545, Recall:0.654545, F1:0.654545, AUC:0.830211\n",
      "[[80 19]\n",
      " [19 36]]\n",
      "N:P (0.5, 0.5)\n",
      "Accuracy:0.733766, Precision:0.659091, Recall:0.527273, F1:0.585859, AUC:0.830211\n",
      "[[84 15]\n",
      " [26 29]]\n",
      "N:P (0.55, 0.44999999999999996)\n",
      "Accuracy:0.753247, Precision:0.729730, Recall:0.490909, F1:0.586957, AUC:0.830211\n",
      "[[89 10]\n",
      " [28 27]]\n",
      "N:P (1, 0)\n",
      "Accuracy:0.642857, Precision:0.000000, Recall:0.000000, F1:0.000000, AUC:0.830211\n",
      "[[99  0]\n",
      " [55  0]]\n"
     ]
    }
   ],
   "source": [
    "from sklearn.preprocessing import Binarizer\n",
    "ths = [0, 0.35, 0.4, 0.45, 0.5, 0.55, 1] # 임계치 임의조정\n",
    "for th in ths:\n",
    "    bi = Binarizer(threshold=th)\n",
    "    pred = bi.fit_transform(proba[:,-1].reshape(-1,1))\n",
    "    print(f'N:P {th, 1-th}')\n",
    "    myscore(y_test, pred, proba)"
   ]
  },
  {
   "cell_type": "code",
   "execution_count": null,
   "id": "authorized-bracelet",
   "metadata": {},
   "outputs": [],
   "source": []
  }
 ],
 "metadata": {
  "kernelspec": {
   "display_name": "Python 3",
   "language": "python",
   "name": "python3"
  },
  "language_info": {
   "codemirror_mode": {
    "name": "ipython",
    "version": 3
   },
   "file_extension": ".py",
   "mimetype": "text/x-python",
   "name": "python",
   "nbconvert_exporter": "python",
   "pygments_lexer": "ipython3",
   "version": "3.7.10"
  }
 },
 "nbformat": 4,
 "nbformat_minor": 5
}
