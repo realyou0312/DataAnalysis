{
 "cells": [
  {
   "cell_type": "markdown",
   "id": "classified-tribune",
   "metadata": {},
   "source": [
    "# 주가 지수화\n",
    "* ref :  https://github.com/FinanceData/FinanceDataReader\n",
    "* pip install yfinance\n",
    "* pip install pandas-datareader\n",
    "* pip install pykrx\n"
   ]
  },
  {
   "cell_type": "code",
   "execution_count": 1,
   "id": "seasonal-capital",
   "metadata": {},
   "outputs": [],
   "source": [
    "import pandas as pd\n",
    "import numpy as np\n",
    "import pandas_datareader as pdr\n",
    "import FinanceDataReader as fdr\n",
    "import seaborn as sns\n",
    "from matplotlib import dates as mdates\n",
    "import matplotlib.pyplot as plt\n",
    "%matplotlib inline\n",
    "\n",
    "import warnings\n",
    "warnings.filterwarnings(action='ignore')"
   ]
  },
  {
   "cell_type": "code",
   "execution_count": 2,
   "id": "cardiovascular-description",
   "metadata": {},
   "outputs": [
    {
     "name": "stdout",
     "output_type": "stream",
     "text": [
      "NanumGothic\n"
     ]
    }
   ],
   "source": [
    "import matplotlib.font_manager as fm\n",
    "import matplotlib as mpl\n",
    "mpl.rcParams['axes.unicode_minus'] = False\n",
    "mpl.rcParams[\"figure.figsize\"] = (14,4)\n",
    "mpl.rcParams['axes.grid'] = True \n",
    "path = 'C:\\\\Windows\\\\Fonts\\\\\\x7f\\x7f\\x7f\\x7fBOLD.TTF'\n",
    "font_name = fm.FontProperties(fname=path, size=10).get_name()\n",
    "print(font_name)\n",
    "plt.rc('font', family=font_name)\n",
    "# plt.title('한글제목')\n",
    "# plt.show()"
   ]
  },
  {
   "cell_type": "code",
   "execution_count": 3,
   "id": "stopped-timeline",
   "metadata": {},
   "outputs": [],
   "source": [
    "def myplot(df, nrows=5,  kind='line', title='제목', labels=False):  \n",
    "    if nrows > 0:\n",
    "        print(df.head(nrows))\n",
    "    else:\n",
    "        print(df.tail(nrows))\n",
    "    \n",
    "    if labels:\n",
    "        cols = df.columns\n",
    "        for i, col in enumerate(cols):\n",
    "            df[col].plot(label=labels[i], kind=kind)\n",
    "    else :\n",
    "        df.plot(kind=kind)\n",
    "    \n",
    "    plt.title(title)\n",
    "    plt.legend()\n",
    "    plt.show()"
   ]
  },
  {
   "cell_type": "code",
   "execution_count": 4,
   "id": "universal-contrast",
   "metadata": {},
   "outputs": [],
   "source": [
    "def myplotmix(df1, df2, y1='ylabel-1', y2='ylabel-2', kind1='bar', kind2='line', title='제목',  nrows1=5, nrows2=5,  labels=False):  \n",
    "    ytl=['b', 'g', 'r', 'c', 'm', 'y', 'k', 'w']\n",
    "\n",
    "    if nrows1 > 0:\n",
    "        print(df1.head(nrows1))\n",
    "    elif nrows1 < 0:\n",
    "        print(df1.tail(nrows1))\n",
    "    if nrows2 > 0:\n",
    "        print(df2.head(nrows2))\n",
    "    else:\n",
    "        print(df2.tail(nrows2))\n",
    "    fig, ax1 = plt.subplots(figsize=(12, 4))\n",
    "    ax2=ax1.twinx()\n",
    "    if kind1 == 'line':\n",
    "        df1.plot(kind=kind1, ax=ax2, marker='d',color='#e35f62')  #color='y', \n",
    "        df2.plot(kind=kind2, ax=ax1)  #bar\n",
    "    else:\n",
    "        df1.plot(kind=kind1, ax=ax1,color='#bcbd22')\n",
    "        df2.plot(kind=kind2, ax=ax2) #color='y',\n",
    "        \n",
    "    # df['date'] = df['date'].dt.strftime('%Y-%m-%d')\n",
    "    # ax1.set_xticklabels(df['date'])    \n",
    "    ax1.yaxis.tick_right()\n",
    "    ax2.yaxis.tick_left()\n",
    "    ax1.set_ylabel(y1) #, color='red')\n",
    "    ax2.set_ylabel(y2) #, color='red')\n",
    "    ax1.legend(loc=1)\n",
    "    ax2.legend(loc=2)\n",
    "    plt.title(title)\n",
    "    ax1.grid(False)\n",
    "    ax2.grid(False)\n",
    "    plt.show()"
   ]
  },
  {
   "cell_type": "code",
   "execution_count": 5,
   "id": "variable-paradise",
   "metadata": {},
   "outputs": [],
   "source": [
    "# 삼성전자(005930) 전체 (1996-11-05 ~ 현재)\n",
    "ss = fdr.DataReader('005930','2021-05-01')\n",
    "\n",
    "#LG전자 (066570)\n",
    "lg = fdr.DataReader('066570','2021-05-01')\n",
    "\n",
    "# Apple(AAPL), 2017-01-01 ~ Now\n",
    "ap = fdr.DataReader('AAPL', '2021-05-01')"
   ]
  },
  {
   "cell_type": "code",
   "execution_count": 6,
   "id": "attempted-alexander",
   "metadata": {},
   "outputs": [
    {
     "name": "stdout",
     "output_type": "stream",
     "text": [
      "(17, 6) (17, 6) (18, 6)\n"
     ]
    }
   ],
   "source": [
    "print(ss.shape, lg.shape, ap.shape)"
   ]
  },
  {
   "cell_type": "code",
   "execution_count": 7,
   "id": "infinite-trance",
   "metadata": {},
   "outputs": [
    {
     "name": "stdout",
     "output_type": "stream",
     "text": [
      "<class 'pandas.core.frame.DataFrame'>\n",
      "DatetimeIndex: 17 entries, 2021-05-03 to 2021-05-27\n",
      "Data columns (total 6 columns):\n",
      " #   Column  Non-Null Count  Dtype  \n",
      "---  ------  --------------  -----  \n",
      " 0   Open    17 non-null     int64  \n",
      " 1   High    17 non-null     int64  \n",
      " 2   Low     17 non-null     int64  \n",
      " 3   Close   17 non-null     int64  \n",
      " 4   Volume  17 non-null     int64  \n",
      " 5   Change  17 non-null     float64\n",
      "dtypes: float64(1), int64(5)\n",
      "memory usage: 952.0 bytes\n"
     ]
    }
   ],
   "source": [
    "ss.info()"
   ]
  },
  {
   "cell_type": "code",
   "execution_count": 8,
   "id": "threatened-grammar",
   "metadata": {},
   "outputs": [
    {
     "name": "stdout",
     "output_type": "stream",
     "text": [
      "<class 'pandas.core.frame.DataFrame'>\n",
      "DatetimeIndex: 18 entries, 2021-05-03 to 2021-05-26\n",
      "Data columns (total 6 columns):\n",
      " #   Column  Non-Null Count  Dtype  \n",
      "---  ------  --------------  -----  \n",
      " 0   Close   18 non-null     float64\n",
      " 1   Open    18 non-null     float64\n",
      " 2   High    18 non-null     float64\n",
      " 3   Low     18 non-null     float64\n",
      " 4   Volume  18 non-null     float64\n",
      " 5   Change  18 non-null     float64\n",
      "dtypes: float64(6)\n",
      "memory usage: 1008.0 bytes\n"
     ]
    }
   ],
   "source": [
    "ap.info()"
   ]
  },
  {
   "cell_type": "code",
   "execution_count": 9,
   "id": "great-proxy",
   "metadata": {},
   "outputs": [
    {
     "data": {
      "text/html": [
       "<div>\n",
       "<style scoped>\n",
       "    .dataframe tbody tr th:only-of-type {\n",
       "        vertical-align: middle;\n",
       "    }\n",
       "\n",
       "    .dataframe tbody tr th {\n",
       "        vertical-align: top;\n",
       "    }\n",
       "\n",
       "    .dataframe thead th {\n",
       "        text-align: right;\n",
       "    }\n",
       "</style>\n",
       "<table border=\"1\" class=\"dataframe\">\n",
       "  <thead>\n",
       "    <tr style=\"text-align: right;\">\n",
       "      <th></th>\n",
       "      <th>Open</th>\n",
       "      <th>High</th>\n",
       "      <th>Low</th>\n",
       "      <th>Close</th>\n",
       "      <th>Volume</th>\n",
       "      <th>Change</th>\n",
       "    </tr>\n",
       "    <tr>\n",
       "      <th>Date</th>\n",
       "      <th></th>\n",
       "      <th></th>\n",
       "      <th></th>\n",
       "      <th></th>\n",
       "      <th></th>\n",
       "      <th></th>\n",
       "    </tr>\n",
       "  </thead>\n",
       "  <tbody>\n",
       "    <tr>\n",
       "      <th>2021-05-03</th>\n",
       "      <td>81000</td>\n",
       "      <td>82400</td>\n",
       "      <td>81000</td>\n",
       "      <td>81700</td>\n",
       "      <td>15710336</td>\n",
       "      <td>0.002454</td>\n",
       "    </tr>\n",
       "    <tr>\n",
       "      <th>2021-05-04</th>\n",
       "      <td>81900</td>\n",
       "      <td>82600</td>\n",
       "      <td>81800</td>\n",
       "      <td>82600</td>\n",
       "      <td>12532550</td>\n",
       "      <td>0.011016</td>\n",
       "    </tr>\n",
       "    <tr>\n",
       "      <th>2021-05-06</th>\n",
       "      <td>81700</td>\n",
       "      <td>82300</td>\n",
       "      <td>81700</td>\n",
       "      <td>82300</td>\n",
       "      <td>17047511</td>\n",
       "      <td>-0.003632</td>\n",
       "    </tr>\n",
       "    <tr>\n",
       "      <th>2021-05-07</th>\n",
       "      <td>81800</td>\n",
       "      <td>82100</td>\n",
       "      <td>81500</td>\n",
       "      <td>81900</td>\n",
       "      <td>14154882</td>\n",
       "      <td>-0.004860</td>\n",
       "    </tr>\n",
       "    <tr>\n",
       "      <th>2021-05-10</th>\n",
       "      <td>82300</td>\n",
       "      <td>83500</td>\n",
       "      <td>81800</td>\n",
       "      <td>83200</td>\n",
       "      <td>19385027</td>\n",
       "      <td>0.015873</td>\n",
       "    </tr>\n",
       "  </tbody>\n",
       "</table>\n",
       "</div>"
      ],
      "text/plain": [
       "             Open   High    Low  Close    Volume    Change\n",
       "Date                                                      \n",
       "2021-05-03  81000  82400  81000  81700  15710336  0.002454\n",
       "2021-05-04  81900  82600  81800  82600  12532550  0.011016\n",
       "2021-05-06  81700  82300  81700  82300  17047511 -0.003632\n",
       "2021-05-07  81800  82100  81500  81900  14154882 -0.004860\n",
       "2021-05-10  82300  83500  81800  83200  19385027  0.015873"
      ]
     },
     "execution_count": 9,
     "metadata": {},
     "output_type": "execute_result"
    }
   ],
   "source": [
    "ss.head()"
   ]
  },
  {
   "cell_type": "code",
   "execution_count": 10,
   "id": "naughty-venture",
   "metadata": {},
   "outputs": [
    {
     "data": {
      "text/html": [
       "<div>\n",
       "<style scoped>\n",
       "    .dataframe tbody tr th:only-of-type {\n",
       "        vertical-align: middle;\n",
       "    }\n",
       "\n",
       "    .dataframe tbody tr th {\n",
       "        vertical-align: top;\n",
       "    }\n",
       "\n",
       "    .dataframe thead th {\n",
       "        text-align: right;\n",
       "    }\n",
       "</style>\n",
       "<table border=\"1\" class=\"dataframe\">\n",
       "  <thead>\n",
       "    <tr style=\"text-align: right;\">\n",
       "      <th></th>\n",
       "      <th>Close</th>\n",
       "      <th>Open</th>\n",
       "      <th>High</th>\n",
       "      <th>Low</th>\n",
       "      <th>Volume</th>\n",
       "      <th>Change</th>\n",
       "    </tr>\n",
       "    <tr>\n",
       "      <th>Date</th>\n",
       "      <th></th>\n",
       "      <th></th>\n",
       "      <th></th>\n",
       "      <th></th>\n",
       "      <th></th>\n",
       "      <th></th>\n",
       "    </tr>\n",
       "  </thead>\n",
       "  <tbody>\n",
       "    <tr>\n",
       "      <th>2021-05-03</th>\n",
       "      <td>132.54</td>\n",
       "      <td>132.04</td>\n",
       "      <td>134.07</td>\n",
       "      <td>131.83</td>\n",
       "      <td>75140000.0</td>\n",
       "      <td>0.0082</td>\n",
       "    </tr>\n",
       "    <tr>\n",
       "      <th>2021-05-04</th>\n",
       "      <td>127.85</td>\n",
       "      <td>131.19</td>\n",
       "      <td>131.49</td>\n",
       "      <td>126.70</td>\n",
       "      <td>137560000.0</td>\n",
       "      <td>-0.0354</td>\n",
       "    </tr>\n",
       "    <tr>\n",
       "      <th>2021-05-05</th>\n",
       "      <td>128.10</td>\n",
       "      <td>129.20</td>\n",
       "      <td>130.45</td>\n",
       "      <td>127.97</td>\n",
       "      <td>84000000.0</td>\n",
       "      <td>0.0020</td>\n",
       "    </tr>\n",
       "    <tr>\n",
       "      <th>2021-05-06</th>\n",
       "      <td>129.74</td>\n",
       "      <td>127.89</td>\n",
       "      <td>129.75</td>\n",
       "      <td>127.13</td>\n",
       "      <td>78130000.0</td>\n",
       "      <td>0.0128</td>\n",
       "    </tr>\n",
       "    <tr>\n",
       "      <th>2021-05-07</th>\n",
       "      <td>130.21</td>\n",
       "      <td>130.85</td>\n",
       "      <td>131.26</td>\n",
       "      <td>129.47</td>\n",
       "      <td>78970000.0</td>\n",
       "      <td>0.0036</td>\n",
       "    </tr>\n",
       "  </tbody>\n",
       "</table>\n",
       "</div>"
      ],
      "text/plain": [
       "             Close    Open    High     Low       Volume  Change\n",
       "Date                                                           \n",
       "2021-05-03  132.54  132.04  134.07  131.83   75140000.0  0.0082\n",
       "2021-05-04  127.85  131.19  131.49  126.70  137560000.0 -0.0354\n",
       "2021-05-05  128.10  129.20  130.45  127.97   84000000.0  0.0020\n",
       "2021-05-06  129.74  127.89  129.75  127.13   78130000.0  0.0128\n",
       "2021-05-07  130.21  130.85  131.26  129.47   78970000.0  0.0036"
      ]
     },
     "execution_count": 10,
     "metadata": {},
     "output_type": "execute_result"
    }
   ],
   "source": [
    "ap.head()"
   ]
  },
  {
   "cell_type": "code",
   "execution_count": 11,
   "id": "resident-disposition",
   "metadata": {},
   "outputs": [
    {
     "data": {
      "text/html": [
       "<div>\n",
       "<style scoped>\n",
       "    .dataframe tbody tr th:only-of-type {\n",
       "        vertical-align: middle;\n",
       "    }\n",
       "\n",
       "    .dataframe tbody tr th {\n",
       "        vertical-align: top;\n",
       "    }\n",
       "\n",
       "    .dataframe thead th {\n",
       "        text-align: right;\n",
       "    }\n",
       "</style>\n",
       "<table border=\"1\" class=\"dataframe\">\n",
       "  <thead>\n",
       "    <tr style=\"text-align: right;\">\n",
       "      <th></th>\n",
       "      <th>ss</th>\n",
       "      <th>lg</th>\n",
       "      <th>ap</th>\n",
       "    </tr>\n",
       "    <tr>\n",
       "      <th>Date</th>\n",
       "      <th></th>\n",
       "      <th></th>\n",
       "      <th></th>\n",
       "    </tr>\n",
       "  </thead>\n",
       "  <tbody>\n",
       "    <tr>\n",
       "      <th>2021-05-03</th>\n",
       "      <td>81700.0</td>\n",
       "      <td>155000.0</td>\n",
       "      <td>132.54</td>\n",
       "    </tr>\n",
       "    <tr>\n",
       "      <th>2021-05-04</th>\n",
       "      <td>82600.0</td>\n",
       "      <td>154500.0</td>\n",
       "      <td>127.85</td>\n",
       "    </tr>\n",
       "    <tr>\n",
       "      <th>2021-05-05</th>\n",
       "      <td>82300.0</td>\n",
       "      <td>151500.0</td>\n",
       "      <td>128.10</td>\n",
       "    </tr>\n",
       "    <tr>\n",
       "      <th>2021-05-06</th>\n",
       "      <td>82300.0</td>\n",
       "      <td>151500.0</td>\n",
       "      <td>129.74</td>\n",
       "    </tr>\n",
       "    <tr>\n",
       "      <th>2021-05-07</th>\n",
       "      <td>81900.0</td>\n",
       "      <td>153000.0</td>\n",
       "      <td>130.21</td>\n",
       "    </tr>\n",
       "  </tbody>\n",
       "</table>\n",
       "</div>"
      ],
      "text/plain": [
       "                 ss        lg      ap\n",
       "Date                                 \n",
       "2021-05-03  81700.0  155000.0  132.54\n",
       "2021-05-04  82600.0  154500.0  127.85\n",
       "2021-05-05  82300.0  151500.0  128.10\n",
       "2021-05-06  82300.0  151500.0  129.74\n",
       "2021-05-07  81900.0  153000.0  130.21"
      ]
     },
     "execution_count": 11,
     "metadata": {},
     "output_type": "execute_result"
    }
   ],
   "source": [
    "df = pd.concat( [ss['Close'], lg['Close'], ap['Close'] ], axis=1, keys = ['ss', 'lg', 'ap'])\n",
    "# df.columns = ['ss', 'lg', 'ap']\n",
    "df = df.fillna(method='bfill')\n",
    "df.head()"
   ]
  },
  {
   "cell_type": "markdown",
   "id": "boxed-cheese",
   "metadata": {},
   "source": [
    "### 변동률(%) 계산 \n",
    "* ((df_appl['Close'] - df_appl['전일종가'] )/ df_appl['전일종가']) * 100\n",
    "* (오늘가격 - 어제가격) / 어제가격  * 100"
   ]
  },
  {
   "cell_type": "code",
   "execution_count": 12,
   "id": "subject-costume",
   "metadata": {},
   "outputs": [
    {
     "data": {
      "text/plain": [
       "Index(['ss', 'lg', 'ap', 'ssv', 'lgv', 'apv'], dtype='object')"
      ]
     },
     "execution_count": 12,
     "metadata": {},
     "output_type": "execute_result"
    }
   ],
   "source": [
    "df['ssv'] = df['ss'].pct_change(periods=1) * 100 \n",
    "df['lgv'] = df['lg'].pct_change(periods=1) * 100 \n",
    "df['apv'] = df['ap'].pct_change(periods=1) * 100 \n",
    "df = df.fillna(0)\n",
    "df.head()\n",
    "# df_ss['일별등락률'].cumsum()\n",
    "df.columns "
   ]
  },
  {
   "cell_type": "code",
   "execution_count": 13,
   "id": "union-vegetation",
   "metadata": {},
   "outputs": [
    {
     "name": "stdout",
     "output_type": "stream",
     "text": [
      "                 ssv       lgv       apv\n",
      "Date                                    \n",
      "2021-05-03  0.000000  0.000000  0.000000\n",
      "2021-05-04  1.101591 -0.322581 -3.538554\n",
      "2021-05-05  0.738395 -2.264328 -3.343013\n",
      "2021-05-06  0.738395 -2.264328 -2.062763\n",
      "2021-05-07  0.252368 -1.274229 -1.700500\n"
     ]
    },
    {
     "data": {
      "image/png": "[encoded data removed]",
      "text/plain": [
       "<Figure size 1008x288 with 1 Axes>"
      ]
     },
     "metadata": {
      "needs_background": "light"
     },
     "output_type": "display_data"
    }
   ],
   "source": [
    "myplot(df[[ 'ssv', 'lgv', 'apv']].cumsum(), title='주가 변동률')"
   ]
  },
  {
   "cell_type": "code",
   "execution_count": 14,
   "id": "removable-minneapolis",
   "metadata": {},
   "outputs": [],
   "source": [
    "df.to_csv(\"samlpe.csv\")"
   ]
  },
  {
   "cell_type": "markdown",
   "id": "written-employer",
   "metadata": {},
   "source": [
    "## 가격지수\n",
    "* 가격변동률 : (오늘주가-기준일주가) / 기준일주가 * 100\n",
    "* 시가총액 : 주가 * 발행수           *(다우존스 방식일 경우에만 : 유동비율)\n",
    "* 가격지수 : 비교일시가총액 / 기준일시가총액 * 100"
   ]
  },
  {
   "cell_type": "markdown",
   "id": "precious-flesh",
   "metadata": {},
   "source": [
    "### Fdr 캔들차트\n",
    "* pip install bokeh"
   ]
  },
  {
   "cell_type": "code",
   "execution_count": 15,
   "id": "sunset-philosophy",
   "metadata": {},
   "outputs": [
    {
     "name": "stdout",
     "output_type": "stream",
     "text": [
      "Requirement already satisfied: bokeh in c:\\it\\pythonproject2\\venv\\lib\\site-packages (2.3.2)\n",
      "Requirement already satisfied: PyYAML>=3.10 in c:\\it\\pythonproject2\\venv\\lib\\site-packages (from bokeh) (5.4.1)\n",
      "Requirement already satisfied: packaging>=16.8 in c:\\it\\pythonproject2\\venv\\lib\\site-packages (from bokeh) (20.9)\n",
      "Requirement already satisfied: python-dateutil>=2.1 in c:\\it\\pythonproject2\\venv\\lib\\site-packages (from bokeh) (2.8.1)\n",
      "Requirement already satisfied: numpy>=1.11.3 in c:\\it\\pythonproject2\\venv\\lib\\site-packages (from bokeh) (1.16.6)\n",
      "Requirement already satisfied: typing-extensions>=3.7.4 in c:\\it\\pythonproject2\\venv\\lib\\site-packages (from bokeh) (3.7.4.3)\n",
      "Requirement already satisfied: pillow>=7.1.0 in c:\\it\\pythonproject2\\venv\\lib\\site-packages (from bokeh) (8.1.2)\n",
      "Requirement already satisfied: Jinja2>=2.9 in c:\\it\\pythonproject2\\venv\\lib\\site-packages (from bokeh) (2.11.3)\n",
      "Requirement already satisfied: tornado>=5.1 in c:\\it\\pythonproject2\\venv\\lib\\site-packages (from bokeh) (6.1)\n",
      "Requirement already satisfied: MarkupSafe>=0.23 in c:\\it\\pythonproject2\\venv\\lib\\site-packages (from Jinja2>=2.9->bokeh) (1.1.1)\n",
      "Requirement already satisfied: pyparsing>=2.0.2 in c:\\it\\pythonproject2\\venv\\lib\\site-packages (from packaging>=16.8->bokeh) (2.4.7)\n",
      "Requirement already satisfied: six>=1.5 in c:\\it\\pythonproject2\\venv\\lib\\site-packages (from python-dateutil>=2.1->bokeh) (1.15.0)\n",
      "Note: you may need to restart the kernel to use updated packages.\n"
     ]
    },
    {
     "name": "stderr",
     "output_type": "stream",
     "text": [
      "WARNING: You are using pip version 21.0.1; however, version 21.1.1 is available.\n",
      "You should consider upgrading via the 'c:\\it\\pythonproject2\\venv\\scripts\\python.exe -m pip install --upgrade pip' command.\n"
     ]
    }
   ],
   "source": [
    "pip install bokeh"
   ]
  },
  {
   "cell_type": "code",
   "execution_count": 16,
   "id": "occasional-defensive",
   "metadata": {},
   "outputs": [
    {
     "data": {
      "text/html": [
       "<div>\n",
       "<style scoped>\n",
       "    .dataframe tbody tr th:only-of-type {\n",
       "        vertical-align: middle;\n",
       "    }\n",
       "\n",
       "    .dataframe tbody tr th {\n",
       "        vertical-align: top;\n",
       "    }\n",
       "\n",
       "    .dataframe thead th {\n",
       "        text-align: right;\n",
       "    }\n",
       "</style>\n",
       "<table border=\"1\" class=\"dataframe\">\n",
       "  <thead>\n",
       "    <tr style=\"text-align: right;\">\n",
       "      <th></th>\n",
       "      <th>ss</th>\n",
       "      <th>lg</th>\n",
       "      <th>ap</th>\n",
       "      <th>ssv</th>\n",
       "      <th>lgv</th>\n",
       "      <th>apv</th>\n",
       "    </tr>\n",
       "    <tr>\n",
       "      <th>Date</th>\n",
       "      <th></th>\n",
       "      <th></th>\n",
       "      <th></th>\n",
       "      <th></th>\n",
       "      <th></th>\n",
       "      <th></th>\n",
       "    </tr>\n",
       "  </thead>\n",
       "  <tbody>\n",
       "    <tr>\n",
       "      <th>2021-05-03</th>\n",
       "      <td>81700.0</td>\n",
       "      <td>155000.0</td>\n",
       "      <td>132.54</td>\n",
       "      <td>0.000000</td>\n",
       "      <td>0.000000</td>\n",
       "      <td>0.000000</td>\n",
       "    </tr>\n",
       "    <tr>\n",
       "      <th>2021-05-04</th>\n",
       "      <td>82600.0</td>\n",
       "      <td>154500.0</td>\n",
       "      <td>127.85</td>\n",
       "      <td>1.101591</td>\n",
       "      <td>-0.322581</td>\n",
       "      <td>-3.538554</td>\n",
       "    </tr>\n",
       "    <tr>\n",
       "      <th>2021-05-05</th>\n",
       "      <td>82300.0</td>\n",
       "      <td>151500.0</td>\n",
       "      <td>128.10</td>\n",
       "      <td>-0.363196</td>\n",
       "      <td>-1.941748</td>\n",
       "      <td>0.195542</td>\n",
       "    </tr>\n",
       "    <tr>\n",
       "      <th>2021-05-06</th>\n",
       "      <td>82300.0</td>\n",
       "      <td>151500.0</td>\n",
       "      <td>129.74</td>\n",
       "      <td>0.000000</td>\n",
       "      <td>0.000000</td>\n",
       "      <td>1.280250</td>\n",
       "    </tr>\n",
       "    <tr>\n",
       "      <th>2021-05-07</th>\n",
       "      <td>81900.0</td>\n",
       "      <td>153000.0</td>\n",
       "      <td>130.21</td>\n",
       "      <td>-0.486027</td>\n",
       "      <td>0.990099</td>\n",
       "      <td>0.362263</td>\n",
       "    </tr>\n",
       "  </tbody>\n",
       "</table>\n",
       "</div>"
      ],
      "text/plain": [
       "                 ss        lg      ap       ssv       lgv       apv\n",
       "Date                                                               \n",
       "2021-05-03  81700.0  155000.0  132.54  0.000000  0.000000  0.000000\n",
       "2021-05-04  82600.0  154500.0  127.85  1.101591 -0.322581 -3.538554\n",
       "2021-05-05  82300.0  151500.0  128.10 -0.363196 -1.941748  0.195542\n",
       "2021-05-06  82300.0  151500.0  129.74  0.000000  0.000000  1.280250\n",
       "2021-05-07  81900.0  153000.0  130.21 -0.486027  0.990099  0.362263"
      ]
     },
     "execution_count": 16,
     "metadata": {},
     "output_type": "execute_result"
    }
   ],
   "source": [
    "df.head()"
   ]
  },
  {
   "cell_type": "code",
   "execution_count": 19,
   "id": "seeing-reading",
   "metadata": {},
   "outputs": [
    {
     "data": {
      "text/plain": [
       "Date\n",
       "2021-05-03    81700.0\n",
       "2021-05-04    82600.0\n",
       "2021-05-05    82300.0\n",
       "2021-05-06    82300.0\n",
       "2021-05-07    81900.0\n",
       "2021-05-10    83200.0\n",
       "2021-05-11    81200.0\n",
       "2021-05-12    80000.0\n",
       "2021-05-13    78500.0\n",
       "2021-05-14    80100.0\n",
       "2021-05-17    79600.0\n",
       "2021-05-18    79600.0\n",
       "2021-05-19    79500.0\n",
       "2021-05-20    79500.0\n",
       "2021-05-21    80100.0\n",
       "2021-05-24    79700.0\n",
       "2021-05-25    79900.0\n",
       "2021-05-26    79800.0\n",
       "2021-05-27    79600.0\n",
       "Freq: B, Name: ss, dtype: float64"
      ]
     },
     "execution_count": 19,
     "metadata": {},
     "output_type": "execute_result"
    }
   ],
   "source": [
    "df['ss']"
   ]
  },
  {
   "cell_type": "code",
   "execution_count": 28,
   "id": "finnish-kingdom",
   "metadata": {},
   "outputs": [
    {
     "data": {
      "text/html": [
       "\n",
       "    <div class=\"bk-root\">\n",
       "        <a href=\"https://bokeh.org\" target=\"_blank\" class=\"bk-logo bk-logo-small bk-logo-notebook\"></a>\n",
       "        <span id=\"5892\">Loading BokehJS ...</span>\n",
       "    </div>"
      ]
     },
     "metadata": {},
     "output_type": "display_data"
    },
    {
     "data": {
      "application/javascript": [
       "\n",
       "(function(root) {\n",
       "  function now() {\n",
       "    return new Date();\n",
       "  }\n",
       "\n",
       "  var force = true;\n",
       "\n",
       "  if (typeof root._bokeh_onload_callbacks === \"undefined\" || force === true) {\n",
       "    root._bokeh_onload_callbacks = [];\n",
       "    root._bokeh_is_loading = undefined;\n",
       "  }\n",
       "\n",
       "  var JS_MIME_TYPE = 'application/javascript';\n",
       "  var HTML_MIME_TYPE = 'text/html';\n",
       "  var EXEC_MIME_TYPE = 'application/vnd.bokehjs_exec.v0+json';\n",
       "  var CLASS_NAME = 'output_bokeh rendered_html';\n",
       "\n",
       "  /**\n",
       "   * Render data to the DOM node\n",
       "   */\n",
       "  function render(props, node) {\n",
       "    var script = document.createElement(\"script\");\n",
       "    node.appendChild(script);\n",
       "  }\n",
       "\n",
       "  /**\n",
       "   * Handle when an output is cleared or removed\n",
       "   */\n",
       "  function handleClearOutput(event, handle) {\n",
       "    var cell = handle.cell;\n",
       "\n",
       "    var id = cell.output_area._bokeh_element_id;\n",
       "    var server_id = cell.output_area._bokeh_server_id;\n",
       "    // Clean up Bokeh references\n",
       "    if (id != null && id in Bokeh.index) {\n",
       "      Bokeh.index[id].model.document.clear();\n",
       "      delete Bokeh.index[id];\n",
       "    }\n",
       "\n",
       "    if (server_id !== undefined) {\n",
       "      // Clean up Bokeh references\n",
       "      var cmd = \"from bokeh.io.state import curstate; print(curstate().uuid_to_server['\" + server_id + \"'].get_sessions()[0].document.roots[0]._id)\";\n",
       "      cell.notebook.kernel.execute(cmd, {\n",
       "        iopub: {\n",
       "          output: function(msg) {\n",
       "            var id = msg.content.text.trim();\n",
       "            if (id in Bokeh.index) {\n",
       "              Bokeh.index[id].model.document.clear();\n",
       "              delete Bokeh.index[id];\n",
       "            }\n",
       "          }\n",
       "        }\n",
       "      });\n",
       "      // Destroy server and session\n",
       "      var cmd = \"import bokeh.io.notebook as ion; ion.destroy_server('\" + server_id + \"')\";\n",
       "      cell.notebook.kernel.execute(cmd);\n",
       "    }\n",
       "  }\n",
       "\n",
       "  /**\n",
       "   * Handle when a new output is added\n",
       "   */\n",
       "  function handleAddOutput(event, handle) {\n",
       "    var output_area = handle.output_area;\n",
       "    var output = handle.output;\n",
       "\n",
       "    // limit handleAddOutput to display_data with EXEC_MIME_TYPE content only\n",
       "    if ((output.output_type != \"display_data\") || (!Object.prototype.hasOwnProperty.call(output.data, EXEC_MIME_TYPE))) {\n",
       "      return\n",
       "    }\n",
       "\n",
       "    var toinsert = output_area.element.find(\".\" + CLASS_NAME.split(' ')[0]);\n",
       "\n",
       "    if (output.metadata[EXEC_MIME_TYPE][\"id\"] !== undefined) {\n",
       "      toinsert[toinsert.length - 1].firstChild.textContent = output.data[JS_MIME_TYPE];\n",
       "      // store reference to embed id on output_area\n",
       "      output_area._bokeh_element_id = output.metadata[EXEC_MIME_TYPE][\"id\"];\n",
       "    }\n",
       "    if (output.metadata[EXEC_MIME_TYPE][\"server_id\"] !== undefined) {\n",
       "      var bk_div = document.createElement(\"div\");\n",
       "      bk_div.innerHTML = output.data[HTML_MIME_TYPE];\n",
       "      var script_attrs = bk_div.children[0].attributes;\n",
       "      for (var i = 0; i < script_attrs.length; i++) {\n",
       "        toinsert[toinsert.length - 1].firstChild.setAttribute(script_attrs[i].name, script_attrs[i].value);\n",
       "        toinsert[toinsert.length - 1].firstChild.textContent = bk_div.children[0].textContent\n",
       "      }\n",
       "      // store reference to server id on output_area\n",
       "      output_area._bokeh_server_id = output.metadata[EXEC_MIME_TYPE][\"server_id\"];\n",
       "    }\n",
       "  }\n",
       "\n",
       "  function register_renderer(events, OutputArea) {\n",
       "\n",
       "    function append_mime(data, metadata, element) {\n",
       "      // create a DOM node to render to\n",
       "      var toinsert = this.create_output_subarea(\n",
       "        metadata,\n",
       "        CLASS_NAME,\n",
       "        EXEC_MIME_TYPE\n",
       "      );\n",
       "      this.keyboard_manager.register_events(toinsert);\n",
       "      // Render to node\n",
       "      var props = {data: data, metadata: metadata[EXEC_MIME_TYPE]};\n",
       "      render(props, toinsert[toinsert.length - 1]);\n",
       "      element.append(toinsert);\n",
       "      return toinsert\n",
       "    }\n",
       "\n",
       "    /* Handle when an output is cleared or removed */\n",
       "    events.on('clear_output.CodeCell', handleClearOutput);\n",
       "    events.on('delete.Cell', handleClearOutput);\n",
       "\n",
       "    /* Handle when a new output is added */\n",
       "    events.on('output_added.OutputArea', handleAddOutput);\n",
       "\n",
       "    /**\n",
       "     * Register the mime type and append_mime function with output_area\n",
       "     */\n",
       "    OutputArea.prototype.register_mime_type(EXEC_MIME_TYPE, append_mime, {\n",
       "      /* Is output safe? */\n",
       "      safe: true,\n",
       "      /* Index of renderer in `output_area.display_order` */\n",
       "      index: 0\n",
       "    });\n",
       "  }\n",
       "\n",
       "  // register the mime type if in Jupyter Notebook environment and previously unregistered\n",
       "  if (root.Jupyter !== undefined) {\n",
       "    var events = require('base/js/events');\n",
       "    var OutputArea = require('notebook/js/outputarea').OutputArea;\n",
       "\n",
       "    if (OutputArea.prototype.mime_types().indexOf(EXEC_MIME_TYPE) == -1) {\n",
       "      register_renderer(events, OutputArea);\n",
       "    }\n",
       "  }\n",
       "\n",
       "  \n",
       "  if (typeof (root._bokeh_timeout) === \"undefined\" || force === true) {\n",
       "    root._bokeh_timeout = Date.now() + 5000;\n",
       "    root._bokeh_failed_load = false;\n",
       "  }\n",
       "\n",
       "  var NB_LOAD_WARNING = {'data': {'text/html':\n",
       "     \"<div style='background-color: #fdd'>\\n\"+\n",
       "     \"<p>\\n\"+\n",
       "     \"BokehJS does not appear to have successfully loaded. If loading BokehJS from CDN, this \\n\"+\n",
       "     \"may be due to a slow or bad network connection. Possible fixes:\\n\"+\n",
       "     \"</p>\\n\"+\n",
       "     \"<ul>\\n\"+\n",
       "     \"<li>re-rerun `output_notebook()` to attempt to load from CDN again, or</li>\\n\"+\n",
       "     \"<li>use INLINE resources instead, as so:</li>\\n\"+\n",
       "     \"</ul>\\n\"+\n",
       "     \"<code>\\n\"+\n",
       "     \"from bokeh.resources import INLINE\\n\"+\n",
       "     \"output_notebook(resources=INLINE)\\n\"+\n",
       "     \"</code>\\n\"+\n",
       "     \"</div>\"}};\n",
       "\n",
       "  function display_loaded() {\n",
       "    var el = document.getElementById(\"5892\");\n",
       "    if (el != null) {\n",
       "      el.textContent = \"BokehJS is loading...\";\n",
       "    }\n",
       "    if (root.Bokeh !== undefined) {\n",
       "      if (el != null) {\n",
       "        el.textContent = \"BokehJS \" + root.Bokeh.version + \" successfully loaded.\";\n",
       "      }\n",
       "    } else if (Date.now() < root._bokeh_timeout) {\n",
       "      setTimeout(display_loaded, 100)\n",
       "    }\n",
       "  }\n",
       "\n",
       "\n",
       "  function run_callbacks() {\n",
       "    try {\n",
       "      root._bokeh_onload_callbacks.forEach(function(callback) {\n",
       "        if (callback != null)\n",
       "          callback();\n",
       "      });\n",
       "    } finally {\n",
       "      delete root._bokeh_onload_callbacks\n",
       "    }\n",
       "    console.debug(\"Bokeh: all callbacks have finished\");\n",
       "  }\n",
       "\n",
       "  function load_libs(css_urls, js_urls, callback) {\n",
       "    if (css_urls == null) css_urls = [];\n",
       "    if (js_urls == null) js_urls = [];\n",
       "\n",
       "    root._bokeh_onload_callbacks.push(callback);\n",
       "    if (root._bokeh_is_loading > 0) {\n",
       "      console.debug(\"Bokeh: BokehJS is being loaded, scheduling callback at\", now());\n",
       "      return null;\n",
       "    }\n",
       "    if (js_urls == null || js_urls.length === 0) {\n",
       "      run_callbacks();\n",
       "      return null;\n",
       "    }\n",
       "    console.debug(\"Bokeh: BokehJS not loaded, scheduling load and callback at\", now());\n",
       "    root._bokeh_is_loading = css_urls.length + js_urls.length;\n",
       "\n",
       "    function on_load() {\n",
       "      root._bokeh_is_loading--;\n",
       "      if (root._bokeh_is_loading === 0) {\n",
       "        console.debug(\"Bokeh: all BokehJS libraries/stylesheets loaded\");\n",
       "        run_callbacks()\n",
       "      }\n",
       "    }\n",
       "\n",
       "    function on_error(url) {\n",
       "      console.error(\"failed to load \" + url);\n",
       "    }\n",
       "\n",
       "    for (let i = 0; i < css_urls.length; i++) {\n",
       "      const url = css_urls[i];\n",
       "      const element = document.createElement(\"link\");\n",
       "      element.onload = on_load;\n",
       "      element.onerror = on_error.bind(null, url);\n",
       "      element.rel = \"stylesheet\";\n",
       "      element.type = \"text/css\";\n",
       "      element.href = url;\n",
       "      console.debug(\"Bokeh: injecting link tag for BokehJS stylesheet: \", url);\n",
       "      document.body.appendChild(element);\n",
       "    }\n",
       "\n",
       "    const hashes = {\"https://cdn.bokeh.org/bokeh/release/bokeh-2.3.2.min.js\": \"XypntL49z55iwGVUW4qsEu83zKL3XEcz0MjuGOQ9SlaaQ68X/g+k1FcioZi7oQAc\", \"https://cdn.bokeh.org/bokeh/release/bokeh-tables-2.3.2.min.js\": \"bEsM86IHGDTLCS0Zod8a8WM6Y4+lafAL/eSiyQcuPzinmWNgNO2/olUF0Z2Dkn5i\", \"https://cdn.bokeh.org/bokeh/release/bokeh-widgets-2.3.2.min.js\": \"TX0gSQTdXTTeScqxj6PVQxTiRW8DOoGVwinyi1D3kxv7wuxQ02XkOxv0xwiypcAH\"};\n",
       "\n",
       "    for (let i = 0; i < js_urls.length; i++) {\n",
       "      const url = js_urls[i];\n",
       "      const element = document.createElement('script');\n",
       "      element.onload = on_load;\n",
       "      element.onerror = on_error.bind(null, url);\n",
       "      element.async = false;\n",
       "      element.src = url;\n",
       "      if (url in hashes) {\n",
       "        element.crossOrigin = \"anonymous\";\n",
       "        element.integrity = \"sha384-\" + hashes[url];\n",
       "      }\n",
       "      console.debug(\"Bokeh: injecting script tag for BokehJS library: \", url);\n",
       "      document.head.appendChild(element);\n",
       "    }\n",
       "  };\n",
       "\n",
       "  function inject_raw_css(css) {\n",
       "    const element = document.createElement(\"style\");\n",
       "    element.appendChild(document.createTextNode(css));\n",
       "    document.body.appendChild(element);\n",
       "  }\n",
       "\n",
       "  \n",
       "  var js_urls = [\"https://cdn.bokeh.org/bokeh/release/bokeh-2.3.2.min.js\", \"https://cdn.bokeh.org/bokeh/release/bokeh-widgets-2.3.2.min.js\", \"https://cdn.bokeh.org/bokeh/release/bokeh-tables-2.3.2.min.js\"];\n",
       "  var css_urls = [];\n",
       "  \n",
       "\n",
       "  var inline_js = [\n",
       "    function(Bokeh) {\n",
       "      Bokeh.set_log_level(\"info\");\n",
       "    },\n",
       "    function(Bokeh) {\n",
       "    \n",
       "    \n",
       "    }\n",
       "  ];\n",
       "\n",
       "  function run_inline_js() {\n",
       "    \n",
       "    if (root.Bokeh !== undefined || force === true) {\n",
       "      \n",
       "    for (var i = 0; i < inline_js.length; i++) {\n",
       "      inline_js[i].call(root, root.Bokeh);\n",
       "    }\n",
       "    if (force === true) {\n",
       "        display_loaded();\n",
       "      }} else if (Date.now() < root._bokeh_timeout) {\n",
       "      setTimeout(run_inline_js, 100);\n",
       "    } else if (!root._bokeh_failed_load) {\n",
       "      console.log(\"Bokeh: BokehJS failed to load within specified timeout.\");\n",
       "      root._bokeh_failed_load = true;\n",
       "    } else if (force !== true) {\n",
       "      var cell = $(document.getElementById(\"5892\")).parents('.cell').data().cell;\n",
       "      cell.output_area.append_execute_result(NB_LOAD_WARNING)\n",
       "    }\n",
       "\n",
       "  }\n",
       "\n",
       "  if (root._bokeh_is_loading === 0) {\n",
       "    console.debug(\"Bokeh: BokehJS loaded, going straight to plotting\");\n",
       "    run_inline_js();\n",
       "  } else {\n",
       "    load_libs(css_urls, js_urls, function() {\n",
       "      console.debug(\"Bokeh: BokehJS plotting callback run at\", now());\n",
       "      run_inline_js();\n",
       "    });\n",
       "  }\n",
       "}(window));"
      ],
      "application/vnd.bokehjs_load.v0+json": "\n(function(root) {\n  function now() {\n    return new Date();\n  }\n\n  var force = true;\n\n  if (typeof root._bokeh_onload_callbacks === \"undefined\" || force === true) {\n    root._bokeh_onload_callbacks = [];\n    root._bokeh_is_loading = undefined;\n  }\n\n  \n\n  \n  if (typeof (root._bokeh_timeout) === \"undefined\" || force === true) {\n    root._bokeh_timeout = Date.now() + 5000;\n    root._bokeh_failed_load = false;\n  }\n\n  var NB_LOAD_WARNING = {'data': {'text/html':\n     \"<div style='background-color: #fdd'>\\n\"+\n     \"<p>\\n\"+\n     \"BokehJS does not appear to have successfully loaded. If loading BokehJS from CDN, this \\n\"+\n     \"may be due to a slow or bad network connection. Possible fixes:\\n\"+\n     \"</p>\\n\"+\n     \"<ul>\\n\"+\n     \"<li>re-rerun `output_notebook()` to attempt to load from CDN again, or</li>\\n\"+\n     \"<li>use INLINE resources instead, as so:</li>\\n\"+\n     \"</ul>\\n\"+\n     \"<code>\\n\"+\n     \"from bokeh.resources import INLINE\\n\"+\n     \"output_notebook(resources=INLINE)\\n\"+\n     \"</code>\\n\"+\n     \"</div>\"}};\n\n  function display_loaded() {\n    var el = document.getElementById(\"5892\");\n    if (el != null) {\n      el.textContent = \"BokehJS is loading...\";\n    }\n    if (root.Bokeh !== undefined) {\n      if (el != null) {\n        el.textContent = \"BokehJS \" + root.Bokeh.version + \" successfully loaded.\";\n      }\n    } else if (Date.now() < root._bokeh_timeout) {\n      setTimeout(display_loaded, 100)\n    }\n  }\n\n\n  function run_callbacks() {\n    try {\n      root._bokeh_onload_callbacks.forEach(function(callback) {\n        if (callback != null)\n          callback();\n      });\n    } finally {\n      delete root._bokeh_onload_callbacks\n    }\n    console.debug(\"Bokeh: all callbacks have finished\");\n  }\n\n  function load_libs(css_urls, js_urls, callback) {\n    if (css_urls == null) css_urls = [];\n    if (js_urls == null) js_urls = [];\n\n    root._bokeh_onload_callbacks.push(callback);\n    if (root._bokeh_is_loading > 0) {\n      console.debug(\"Bokeh: BokehJS is being loaded, scheduling callback at\", now());\n      return null;\n    }\n    if (js_urls == null || js_urls.length === 0) {\n      run_callbacks();\n      return null;\n    }\n    console.debug(\"Bokeh: BokehJS not loaded, scheduling load and callback at\", now());\n    root._bokeh_is_loading = css_urls.length + js_urls.length;\n\n    function on_load() {\n      root._bokeh_is_loading--;\n      if (root._bokeh_is_loading === 0) {\n        console.debug(\"Bokeh: all BokehJS libraries/stylesheets loaded\");\n        run_callbacks()\n      }\n    }\n\n    function on_error(url) {\n      console.error(\"failed to load \" + url);\n    }\n\n    for (let i = 0; i < css_urls.length; i++) {\n      const url = css_urls[i];\n      const element = document.createElement(\"link\");\n      element.onload = on_load;\n      element.onerror = on_error.bind(null, url);\n      element.rel = \"stylesheet\";\n      element.type = \"text/css\";\n      element.href = url;\n      console.debug(\"Bokeh: injecting link tag for BokehJS stylesheet: \", url);\n      document.body.appendChild(element);\n    }\n\n    const hashes = {\"https://cdn.bokeh.org/bokeh/release/bokeh-2.3.2.min.js\": \"XypntL49z55iwGVUW4qsEu83zKL3XEcz0MjuGOQ9SlaaQ68X/g+k1FcioZi7oQAc\", \"https://cdn.bokeh.org/bokeh/release/bokeh-tables-2.3.2.min.js\": \"bEsM86IHGDTLCS0Zod8a8WM6Y4+lafAL/eSiyQcuPzinmWNgNO2/olUF0Z2Dkn5i\", \"https://cdn.bokeh.org/bokeh/release/bokeh-widgets-2.3.2.min.js\": \"TX0gSQTdXTTeScqxj6PVQxTiRW8DOoGVwinyi1D3kxv7wuxQ02XkOxv0xwiypcAH\"};\n\n    for (let i = 0; i < js_urls.length; i++) {\n      const url = js_urls[i];\n      const element = document.createElement('script');\n      element.onload = on_load;\n      element.onerror = on_error.bind(null, url);\n      element.async = false;\n      element.src = url;\n      if (url in hashes) {\n        element.crossOrigin = \"anonymous\";\n        element.integrity = \"sha384-\" + hashes[url];\n      }\n      console.debug(\"Bokeh: injecting script tag for BokehJS library: \", url);\n      document.head.appendChild(element);\n    }\n  };\n\n  function inject_raw_css(css) {\n    const element = document.createElement(\"style\");\n    element.appendChild(document.createTextNode(css));\n    document.body.appendChild(element);\n  }\n\n  \n  var js_urls = [\"https://cdn.bokeh.org/bokeh/release/bokeh-2.3.2.min.js\", \"https://cdn.bokeh.org/bokeh/release/bokeh-widgets-2.3.2.min.js\", \"https://cdn.bokeh.org/bokeh/release/bokeh-tables-2.3.2.min.js\"];\n  var css_urls = [];\n  \n\n  var inline_js = [\n    function(Bokeh) {\n      Bokeh.set_log_level(\"info\");\n    },\n    function(Bokeh) {\n    \n    \n    }\n  ];\n\n  function run_inline_js() {\n    \n    if (root.Bokeh !== undefined || force === true) {\n      \n    for (var i = 0; i < inline_js.length; i++) {\n      inline_js[i].call(root, root.Bokeh);\n    }\n    if (force === true) {\n        display_loaded();\n      }} else if (Date.now() < root._bokeh_timeout) {\n      setTimeout(run_inline_js, 100);\n    } else if (!root._bokeh_failed_load) {\n      console.log(\"Bokeh: BokehJS failed to load within specified timeout.\");\n      root._bokeh_failed_load = true;\n    } else if (force !== true) {\n      var cell = $(document.getElementById(\"5892\")).parents('.cell').data().cell;\n      cell.output_area.append_execute_result(NB_LOAD_WARNING)\n    }\n\n  }\n\n  if (root._bokeh_is_loading === 0) {\n    console.debug(\"Bokeh: BokehJS loaded, going straight to plotting\");\n    run_inline_js();\n  } else {\n    load_libs(css_urls, js_urls, function() {\n      console.debug(\"Bokeh: BokehJS plotting callback run at\", now());\n      run_inline_js();\n    });\n  }\n}(window));"
     },
     "metadata": {},
     "output_type": "display_data"
    },
    {
     "data": {
      "text/html": [
       "\n",
       "\n",
       "\n",
       "\n",
       "\n",
       "\n",
       "  <div class=\"bk-root\" id=\"fa5fc7c9-7f6f-45da-bf98-a8c0ec83076d\" data-root-id=\"6044\"></div>\n"
      ]
     },
     "metadata": {},
     "output_type": "display_data"
    },
    {
     "data": {
      "application/javascript": [
       "(function(root) {\n",
       "  function embed_document(root) {\n",
       "    \n",
       "  var docs_json = {\"5158273b-484e-443f-b4b8-fe51ad70ff1c\":{\"defs\":[],\"roots\":{\"references\":[{\"attributes\":{\"children\":[{\"id\":\"6043\"},{\"id\":\"6041\"}]},\"id\":\"6044\",\"type\":\"Column\"},{\"attributes\":{},\"id\":\"6022\",\"type\":\"Selection\"},{\"attributes\":{\"overlay\":{\"id\":\"5985\"}},\"id\":\"5981\",\"type\":\"BoxZoomTool\"},{\"attributes\":{},\"id\":\"6026\",\"type\":\"Selection\"},{\"attributes\":{\"source\":{\"id\":\"5926\"}},\"id\":\"5930\",\"type\":\"CDSView\"},{\"attributes\":{},\"id\":\"6027\",\"type\":\"UnionRenderers\"},{\"attributes\":{},\"id\":\"5982\",\"type\":\"SaveTool\"},{\"attributes\":{\"line_color\":{\"value\":\"blue\"},\"x0\":{\"field\":\"x0\"},\"x1\":{\"field\":\"x1\"},\"y0\":{\"field\":\"y0\"},\"y1\":{\"field\":\"y1\"}},\"id\":\"5932\",\"type\":\"Segment\"},{\"attributes\":{},\"id\":\"6014\",\"type\":\"Selection\"},{\"attributes\":{\"data\":{\"x0\":{\"__ndarray__\":\"AgAAAAcAAAAJAAAACgAAAAwAAAAOAAAAEAAAABEAAAATAAAAFgAAABcAAAAZAAAAGgAAABsAAAA=\",\"dtype\":\"int32\",\"order\":\"little\",\"shape\":[14]},\"x1\":{\"__ndarray__\":\"AgAAAAcAAAAJAAAACgAAAAwAAAAOAAAAEAAAABEAAAATAAAAFgAAABcAAAAZAAAAGgAAABsAAAA=\",\"dtype\":\"int32\",\"order\":\"little\",\"shape\":[14]},\"y0\":[84500,91200,91800,87300,89000,89700,89200,87700,85000,85400,83800,84200,84800,82600],\"y1\":[82100,89100,88000,84100,86500,86800,86500,85600,82000,83400,82100,83000,82700,81600]},\"selected\":{\"id\":\"6016\"},\"selection_policy\":{\"id\":\"6017\"}},\"id\":\"5931\",\"type\":\"ColumnDataSource\"},{\"attributes\":{},\"id\":\"6015\",\"type\":\"UnionRenderers\"},{\"attributes\":{\"line_alpha\":{\"value\":0.1},\"line_color\":{\"value\":\"blue\"},\"x0\":{\"field\":\"x0\"},\"x1\":{\"field\":\"x1\"},\"y0\":{\"field\":\"y0\"},\"y1\":{\"field\":\"y1\"}},\"id\":\"5933\",\"type\":\"Segment\"},{\"attributes\":{\"line_alpha\":{\"value\":0.1},\"line_color\":{\"value\":\"red\"},\"x0\":{\"field\":\"x0\"},\"x1\":{\"field\":\"x1\"},\"y0\":{\"field\":\"y0\"},\"y1\":{\"field\":\"y1\"}},\"id\":\"5928\",\"type\":\"Segment\"},{\"attributes\":{},\"id\":\"5984\",\"type\":\"HelpTool\"},{\"attributes\":{\"active_multi\":null,\"tools\":[{\"id\":\"5979\"},{\"id\":\"5980\"},{\"id\":\"5981\"},{\"id\":\"5982\"},{\"id\":\"5983\"},{\"id\":\"5984\"}]},\"id\":\"5986\",\"type\":\"Toolbar\"},{\"attributes\":{\"source\":{\"id\":\"5931\"}},\"id\":\"5935\",\"type\":\"CDSView\"},{\"attributes\":{\"data_source\":{\"id\":\"5926\"},\"glyph\":{\"id\":\"5927\"},\"hover_glyph\":null,\"muted_glyph\":null,\"nonselection_glyph\":{\"id\":\"5928\"},\"view\":{\"id\":\"5930\"}},\"id\":\"5929\",\"type\":\"GlyphRenderer\"},{\"attributes\":{\"data_source\":{\"id\":\"5931\"},\"glyph\":{\"id\":\"5932\"},\"hover_glyph\":null,\"muted_glyph\":null,\"nonselection_glyph\":{\"id\":\"5933\"},\"view\":{\"id\":\"5935\"}},\"id\":\"5934\",\"type\":\"GlyphRenderer\"},{\"attributes\":{},\"id\":\"6016\",\"type\":\"Selection\"},{\"attributes\":{},\"id\":\"6017\",\"type\":\"UnionRenderers\"},{\"attributes\":{\"bottom\":{\"field\":\"bottom\"},\"fill_color\":{\"value\":\"red\"},\"line_color\":{\"value\":\"red\"},\"top\":{\"field\":\"top\"},\"width\":{\"value\":0.8},\"x\":{\"field\":\"x\"}},\"id\":\"5937\",\"type\":\"VBar\"},{\"attributes\":{\"data\":{\"bottom\":[83000,83900,82900,88800,91000,90600,89700,87000,88100,89400,83700,83000,84400,83500,84200],\"top\":[81000,81600,82800,83300,90000,90300,88700,84500,87500,87000,83200,81700,84100,83100,83800],\"x\":{\"__ndarray__\":\"AAAAAAEAAAADAAAABAAAAAUAAAAGAAAACAAAAAsAAAANAAAADwAAABIAAAAUAAAAFQAAABgAAAAcAAAA\",\"dtype\":\"int32\",\"order\":\"little\",\"shape\":[15]}},\"selected\":{\"id\":\"6018\"},\"selection_policy\":{\"id\":\"6019\"}},\"id\":\"5936\",\"type\":\"ColumnDataSource\"},{\"attributes\":{\"bottom\":{\"field\":\"bottom\"},\"fill_alpha\":{\"value\":0.1},\"fill_color\":{\"value\":\"red\"},\"line_alpha\":{\"value\":0.1},\"line_color\":{\"value\":\"red\"},\"top\":{\"field\":\"top\"},\"width\":{\"value\":0.8},\"x\":{\"field\":\"x\"}},\"id\":\"5938\",\"type\":\"VBar\"},{\"attributes\":{},\"id\":\"5917\",\"type\":\"HelpTool\"},{\"attributes\":{\"data\":{\"x0\":{\"__ndarray__\":\"AAAAAAEAAAADAAAABAAAAAUAAAAGAAAACAAAAAsAAAANAAAADwAAABIAAAAUAAAAFQAAABgAAAAcAAAA\",\"dtype\":\"int32\",\"order\":\"little\",\"shape\":[15]},\"x1\":{\"__ndarray__\":\"AAAAAAEAAAADAAAABAAAAAUAAAAGAAAACAAAAAsAAAANAAAADwAAABIAAAAUAAAAFQAAABgAAAAcAAAA\",\"dtype\":\"int32\",\"order\":\"little\",\"shape\":[15]},\"y0\":[84400,83900,84200,90000,96800,91400,90000,88000,88600,89900,85600,83400,86400,84000,84500],\"y1\":[80200,81600,82700,83000,89500,87800,88700,83600,86500,86300,83200,81000,83700,82500,83300]},\"selected\":{\"id\":\"6014\"},\"selection_policy\":{\"id\":\"6015\"}},\"id\":\"5926\",\"type\":\"ColumnDataSource\"},{\"attributes\":{},\"id\":\"5980\",\"type\":\"WheelZoomTool\"},{\"attributes\":{\"data_source\":{\"id\":\"5936\"},\"glyph\":{\"id\":\"5937\"},\"hover_glyph\":null,\"muted_glyph\":null,\"nonselection_glyph\":{\"id\":\"5938\"},\"view\":{\"id\":\"5940\"}},\"id\":\"5939\",\"type\":\"GlyphRenderer\"},{\"attributes\":{\"active_multi\":null,\"tools\":[{\"id\":\"5912\"},{\"id\":\"5913\"},{\"id\":\"5914\"},{\"id\":\"5915\"},{\"id\":\"5916\"},{\"id\":\"5917\"}]},\"id\":\"5919\",\"type\":\"Toolbar\"},{\"attributes\":{\"source\":{\"id\":\"5936\"}},\"id\":\"5940\",\"type\":\"CDSView\"},{\"attributes\":{},\"id\":\"6018\",\"type\":\"Selection\"},{\"attributes\":{},\"id\":\"6019\",\"type\":\"UnionRenderers\"},{\"attributes\":{},\"id\":\"6036\",\"type\":\"Selection\"},{\"attributes\":{},\"id\":\"6037\",\"type\":\"UnionRenderers\"},{\"attributes\":{\"bottom\":{\"field\":\"bottom\"},\"fill_color\":{\"value\":\"blue\"},\"line_color\":{\"value\":\"blue\"},\"top\":{\"field\":\"top\"},\"width\":{\"value\":0.8},\"x\":{\"field\":\"x\"}},\"id\":\"5942\",\"type\":\"VBar\"},{\"attributes\":{\"data\":{\"bottom\":[82200,89700,88000,85000,87200,86800,86700,85600,82000,84600,82500,83000,82700,81600],\"top\":[83300,89800,89800,86600,89000,89000,88800,86600,84500,84800,83500,83800,84000,82600],\"x\":{\"__ndarray__\":\"AgAAAAcAAAAJAAAACgAAAAwAAAAOAAAAEAAAABEAAAATAAAAFgAAABcAAAAZAAAAGgAAABsAAAA=\",\"dtype\":\"int32\",\"order\":\"little\",\"shape\":[14]}},\"selected\":{\"id\":\"6020\"},\"selection_policy\":{\"id\":\"6021\"}},\"id\":\"5941\",\"type\":\"ColumnDataSource\"},{\"attributes\":{\"bottom\":{\"field\":\"bottom\"},\"fill_alpha\":{\"value\":0.1},\"fill_color\":{\"value\":\"blue\"},\"line_alpha\":{\"value\":0.1},\"line_color\":{\"value\":\"blue\"},\"top\":{\"field\":\"top\"},\"width\":{\"value\":0.8},\"x\":{\"field\":\"x\"}},\"id\":\"5943\",\"type\":\"VBar\"},{\"attributes\":{\"formatter\":{\"id\":\"5946\"},\"major_label_policy\":{\"id\":\"6011\"},\"ticker\":{\"id\":\"5909\"}},\"id\":\"5908\",\"type\":\"LinearAxis\"},{\"attributes\":{\"line_color\":{\"value\":\"red\"},\"x0\":{\"field\":\"x0\"},\"x1\":{\"field\":\"x1\"},\"y0\":{\"field\":\"y0\"},\"y1\":{\"field\":\"y1\"}},\"id\":\"5927\",\"type\":\"Segment\"},{\"attributes\":{\"data_source\":{\"id\":\"5941\"},\"glyph\":{\"id\":\"5942\"},\"hover_glyph\":null,\"muted_glyph\":null,\"nonselection_glyph\":{\"id\":\"5943\"},\"view\":{\"id\":\"5945\"}},\"id\":\"5944\",\"type\":\"GlyphRenderer\"},{\"attributes\":{\"source\":{\"id\":\"5941\"}},\"id\":\"5945\",\"type\":\"CDSView\"},{\"attributes\":{},\"id\":\"6020\",\"type\":\"Selection\"},{\"attributes\":{},\"id\":\"6021\",\"type\":\"UnionRenderers\"},{\"attributes\":{},\"id\":\"5946\",\"type\":\"NumeralTickFormatter\"},{\"attributes\":{},\"id\":\"5909\",\"type\":\"BasicTicker\"},{\"attributes\":{\"axis\":{\"id\":\"5908\"},\"dimension\":1,\"ticker\":null},\"id\":\"5911\",\"type\":\"Grid\"},{\"attributes\":{\"data\":{\"x\":{\"__ndarray__\":\"AAAAAAEAAAACAAAAAwAAAAQAAAAFAAAABgAAAAcAAAAIAAAACQAAAAoAAAALAAAADAAAAA0AAAAOAAAADwAAABAAAAARAAAAEgAAABMAAAAUAAAAFQAAABYAAAAXAAAAGAAAABkAAAAaAAAAGwAAABwAAAA=\",\"dtype\":\"int32\",\"order\":\"little\",\"shape\":[29]},\"y\":{\"__ndarray__\":\"AAAAAAAA+H8AAAAAAAD4fwAAAAAAAPh/AAAAAAAA+H8AAAAAAIz0QAAAAAAA8PRAAAAAAMBD9UAAAAAAgKH1QAAAAACA9vVAAAAAAIDs9UAAAAAAgKH1QAAAAACAdPVAAAAAAEBV9UAAAAAAQEH1QAAAAABAMvVAAAAAAEBp9UAAAAAAgGX1QAAAAACAUfVAAAAAAIAa9UAAAAAAgN70QAAAAACAjvRAAAAAAMBx9EAAAAAAQGX0QAAAAABAVvRAAAAAAABp9EAAAAAAAGn0QAAAAADAU/RAAAAAAEAu9EAAAAAAgEP0QA==\",\"dtype\":\"float64\",\"order\":\"little\",\"shape\":[29]}},\"selected\":{\"id\":\"6022\"},\"selection_policy\":{\"id\":\"6023\"}},\"id\":\"5948\",\"type\":\"ColumnDataSource\"},{\"attributes\":{},\"id\":\"6038\",\"type\":\"Selection\"},{\"attributes\":{\"data_source\":{\"id\":\"5948\"},\"glyph\":{\"id\":\"5949\"},\"hover_glyph\":null,\"muted_glyph\":null,\"nonselection_glyph\":{\"id\":\"5950\"},\"view\":{\"id\":\"5952\"}},\"id\":\"5951\",\"type\":\"GlyphRenderer\"},{\"attributes\":{},\"id\":\"6039\",\"type\":\"UnionRenderers\"},{\"attributes\":{},\"id\":\"5913\",\"type\":\"WheelZoomTool\"},{\"attributes\":{},\"id\":\"5983\",\"type\":\"ResetTool\"},{\"attributes\":{\"line_color\":\"#1f77b4\",\"x\":{\"field\":\"x\"},\"y\":{\"field\":\"y\"}},\"id\":\"5949\",\"type\":\"Line\"},{\"attributes\":{},\"id\":\"5915\",\"type\":\"SaveTool\"},{\"attributes\":{\"data_source\":{\"id\":\"5953\"},\"glyph\":{\"id\":\"5954\"},\"hover_glyph\":null,\"muted_glyph\":null,\"nonselection_glyph\":{\"id\":\"5955\"},\"view\":{\"id\":\"5957\"}},\"id\":\"5956\",\"type\":\"GlyphRenderer\"},{\"attributes\":{},\"id\":\"6030\",\"type\":\"Title\"},{\"attributes\":{},\"id\":\"6031\",\"type\":\"AllLabels\"},{\"attributes\":{\"below\":[{\"id\":\"5971\"}],\"center\":[{\"id\":\"5974\"},{\"id\":\"5978\"}],\"height\":90,\"left\":[{\"id\":\"5975\"}],\"renderers\":[{\"id\":\"5996\"},{\"id\":\"6001\"}],\"title\":{\"id\":\"6030\"},\"toolbar\":{\"id\":\"5986\"},\"toolbar_location\":null,\"x_range\":{\"id\":\"5896\"},\"x_scale\":{\"id\":\"5967\"},\"y_range\":{\"id\":\"5965\"},\"y_scale\":{\"id\":\"5969\"}},\"id\":\"5963\",\"subtype\":\"Figure\",\"type\":\"Plot\"},{\"attributes\":{\"overlay\":{\"id\":\"5918\"}},\"id\":\"5914\",\"type\":\"BoxZoomTool\"},{\"attributes\":{\"line_color\":\"#ff7f0e\",\"x\":{\"field\":\"x\"},\"y\":{\"field\":\"y\"}},\"id\":\"5954\",\"type\":\"Line\"},{\"attributes\":{\"source\":{\"id\":\"5948\"}},\"id\":\"5952\",\"type\":\"CDSView\"},{\"attributes\":{\"line_alpha\":0.1,\"line_color\":\"#1f77b4\",\"x\":{\"field\":\"x\"},\"y\":{\"field\":\"y\"}},\"id\":\"5950\",\"type\":\"Line\"},{\"attributes\":{},\"id\":\"6023\",\"type\":\"UnionRenderers\"},{\"attributes\":{},\"id\":\"5912\",\"type\":\"PanTool\"},{\"attributes\":{\"data\":{\"x\":{\"__ndarray__\":\"AAAAAAEAAAACAAAAAwAAAAQAAAAFAAAABgAAAAcAAAAIAAAACQAAAAoAAAALAAAADAAAAA0AAAAOAAAADwAAABAAAAARAAAAEgAAABMAAAAUAAAAFQAAABYAAAAXAAAAGAAAABkAAAAaAAAAGwAAABwAAAA=\",\"dtype\":\"int32\",\"order\":\"little\",\"shape\":[29]},\"y\":{\"__ndarray__\":\"AAAAAAAA+H8AAAAAAAD4fwAAAAAAAPh/AAAAAAAA+H8AAAAAAAD4fwAAAAAAAPh/AAAAAAAA+H8AAAAAAAD4fwAAAAAAAPh/AAAAAAAA+H8AAAAAAAD4fwAAAAAAAPh/AAAAAAAA+H8AAAAAAAD4fwAAAAAAAPh/AAAAAAAA+H8AAAAAAAD4fwAAAAAAAPh/AAAAAAAA+H8AAAAAUCL1QAAAAABQIvVAAAAAAOAj9UAAAAAAYCv1QAAAAAAgKvVAAAAAAJAZ9UAAAAAAkAD1QAAAAADg5/RAAAAAAJDO9EAAAAAAYL30QA==\",\"dtype\":\"float64\",\"order\":\"little\",\"shape\":[29]}},\"selected\":{\"id\":\"6024\"},\"selection_policy\":{\"id\":\"6025\"}},\"id\":\"5953\",\"type\":\"ColumnDataSource\"},{\"attributes\":{},\"id\":\"6024\",\"type\":\"Selection\"},{\"attributes\":{},\"id\":\"5916\",\"type\":\"ResetTool\"},{\"attributes\":{},\"id\":\"6025\",\"type\":\"UnionRenderers\"},{\"attributes\":{\"source\":{\"id\":\"5953\"}},\"id\":\"5957\",\"type\":\"CDSView\"},{\"attributes\":{\"line_alpha\":0.1,\"line_color\":\"#ff7f0e\",\"x\":{\"field\":\"x\"},\"y\":{\"field\":\"y\"}},\"id\":\"5955\",\"type\":\"Line\"},{\"attributes\":{\"below\":[{\"id\":\"5904\"}],\"center\":[{\"id\":\"5907\"},{\"id\":\"5911\"}],\"height\":210,\"left\":[{\"id\":\"5908\"}],\"renderers\":[{\"id\":\"5929\"},{\"id\":\"5934\"},{\"id\":\"5939\"},{\"id\":\"5944\"},{\"id\":\"5951\"},{\"id\":\"5956\"},{\"id\":\"5961\"}],\"title\":{\"id\":\"5894\"},\"toolbar\":{\"id\":\"5919\"},\"toolbar_location\":null,\"x_range\":{\"id\":\"5896\"},\"x_scale\":{\"id\":\"5900\"},\"y_range\":{\"id\":\"5898\"},\"y_scale\":{\"id\":\"5902\"}},\"id\":\"5893\",\"subtype\":\"Figure\",\"type\":\"Plot\"},{\"attributes\":{\"data\":{\"x\":{\"__ndarray__\":\"AAAAAAEAAAACAAAAAwAAAAQAAAAFAAAABgAAAAcAAAAIAAAACQAAAAoAAAALAAAADAAAAA0AAAAOAAAADwAAABAAAAARAAAAEgAAABMAAAAUAAAAFQAAABYAAAAXAAAAGAAAABkAAAAaAAAAGwAAABwAAAA=\",\"dtype\":\"int32\",\"order\":\"little\",\"shape\":[29]},\"y\":{\"__ndarray__\":\"AAAAAAAA+H8AAAAAAAD4fwAAAAAAAPh/AAAAAAAA+H8AAAAAAAD4fwAAAAAAAPh/AAAAAAAA+H8AAAAAAAD4fwAAAAAAAPh/AAAAAAAA+H8AAAAAAAD4fwAAAAAAAPh/AAAAAAAA+H8AAAAAAAD4fwAAAAAAAPh/AAAAAAAA+H8AAAAAAAD4fwAAAAAAAPh/AAAAAAAA+H8AAAAAAAD4fwAAAAAAAPh/AAAAAAAA+H8AAAAAAAD4fwAAAAAAAPh/AAAAAAAA+H8AAAAAAAD4fwAAAAAAAPh/AAAAAAAA+H8AAAAAAAD4fw==\",\"dtype\":\"float64\",\"order\":\"little\",\"shape\":[29]}},\"selected\":{\"id\":\"6026\"},\"selection_policy\":{\"id\":\"6027\"}},\"id\":\"5958\",\"type\":\"ColumnDataSource\"},{\"attributes\":{\"bottom_units\":\"screen\",\"fill_alpha\":0.5,\"fill_color\":\"lightgrey\",\"left_units\":\"screen\",\"level\":\"overlay\",\"line_alpha\":1.0,\"line_color\":\"black\",\"line_dash\":[4,4],\"line_width\":2,\"right_units\":\"screen\",\"syncable\":false,\"top_units\":\"screen\"},\"id\":\"5918\",\"type\":\"BoxAnnotation\"},{\"attributes\":{},\"id\":\"6033\",\"type\":\"AllLabels\"},{\"attributes\":{\"line_color\":\"#2ca02c\",\"x\":{\"field\":\"x\"},\"y\":{\"field\":\"y\"}},\"id\":\"5959\",\"type\":\"Line\"},{\"attributes\":{},\"id\":\"5969\",\"type\":\"LinearScale\"},{\"attributes\":{\"data_source\":{\"id\":\"5958\"},\"glyph\":{\"id\":\"5959\"},\"hover_glyph\":null,\"muted_glyph\":null,\"nonselection_glyph\":{\"id\":\"5960\"},\"view\":{\"id\":\"5962\"}},\"id\":\"5961\",\"type\":\"GlyphRenderer\"},{\"attributes\":{\"line_alpha\":0.1,\"line_color\":\"#2ca02c\",\"x\":{\"field\":\"x\"},\"y\":{\"field\":\"y\"}},\"id\":\"5960\",\"type\":\"Line\"},{\"attributes\":{\"source\":{\"id\":\"5958\"}},\"id\":\"5962\",\"type\":\"CDSView\"},{\"attributes\":{},\"id\":\"6008\",\"type\":\"AllLabels\"},{\"attributes\":{\"toolbar\":{\"id\":\"6042\"},\"toolbar_location\":\"above\"},\"id\":\"6043\",\"type\":\"ToolbarBox\"},{\"attributes\":{\"toolbars\":[{\"id\":\"5919\"},{\"id\":\"5986\"}],\"tools\":[{\"id\":\"5912\"},{\"id\":\"5913\"},{\"id\":\"5914\"},{\"id\":\"5915\"},{\"id\":\"5916\"},{\"id\":\"5917\"},{\"id\":\"5979\"},{\"id\":\"5980\"},{\"id\":\"5981\"},{\"id\":\"5982\"},{\"id\":\"5983\"},{\"id\":\"5984\"}]},\"id\":\"6042\",\"type\":\"ProxyToolbar\"},{\"attributes\":{\"end\":96800,\"start\":80200},\"id\":\"5898\",\"type\":\"Range1d\"},{\"attributes\":{},\"id\":\"5972\",\"type\":\"BasicTicker\"},{\"attributes\":{\"end\":29,\"start\":-1},\"id\":\"5896\",\"type\":\"Range1d\"},{\"attributes\":{\"text\":\"\\uc0bc\\uc131\\uc804\\uc790\"},\"id\":\"5894\",\"type\":\"Title\"},{\"attributes\":{},\"id\":\"5902\",\"type\":\"LinearScale\"},{\"attributes\":{\"formatter\":{\"id\":\"6003\"},\"major_label_policy\":{\"id\":\"6033\"},\"ticker\":{\"id\":\"5976\"}},\"id\":\"5975\",\"type\":\"LinearAxis\"},{\"attributes\":{\"formatter\":{\"id\":\"6005\"},\"major_label_orientation\":0.6283185307179586,\"major_label_overrides\":{\"0\":\"2021-01-04\",\"1\":\"2021-01-05\",\"10\":\"2021-01-18\",\"11\":\"2021-01-19\",\"12\":\"2021-01-20\",\"13\":\"2021-01-21\",\"14\":\"2021-01-22\",\"15\":\"2021-01-25\",\"16\":\"2021-01-26\",\"17\":\"2021-01-27\",\"18\":\"2021-01-28\",\"19\":\"2021-01-29\",\"2\":\"2021-01-06\",\"20\":\"2021-02-01\",\"21\":\"2021-02-02\",\"22\":\"2021-02-03\",\"23\":\"2021-02-04\",\"24\":\"2021-02-05\",\"25\":\"2021-02-08\",\"26\":\"2021-02-09\",\"27\":\"2021-02-10\",\"28\":\"2021-02-15\",\"29\":\"\",\"3\":\"2021-01-07\",\"4\":\"2021-01-08\",\"5\":\"2021-01-11\",\"6\":\"2021-01-12\",\"7\":\"2021-01-13\",\"8\":\"2021-01-14\",\"9\":\"2021-01-15\"},\"major_label_policy\":{\"id\":\"6031\"},\"ticker\":{\"id\":\"5972\"}},\"id\":\"5971\",\"type\":\"LinearAxis\"},{\"attributes\":{},\"id\":\"6009\",\"type\":\"BasicTickFormatter\"},{\"attributes\":{\"axis\":{\"id\":\"5971\"},\"ticker\":null},\"id\":\"5974\",\"type\":\"Grid\"},{\"attributes\":{\"axis\":{\"id\":\"5975\"},\"dimension\":1,\"ticker\":null},\"id\":\"5978\",\"type\":\"Grid\"},{\"attributes\":{},\"id\":\"5976\",\"type\":\"BasicTicker\"},{\"attributes\":{\"axis\":{\"id\":\"5904\"},\"ticker\":null},\"id\":\"5907\",\"type\":\"Grid\"},{\"attributes\":{},\"id\":\"5979\",\"type\":\"PanTool\"},{\"attributes\":{},\"id\":\"5905\",\"type\":\"BasicTicker\"},{\"attributes\":{\"formatter\":{\"id\":\"6009\"},\"major_label_policy\":{\"id\":\"6008\"},\"ticker\":{\"id\":\"5905\"},\"visible\":false},\"id\":\"5904\",\"type\":\"LinearAxis\"},{\"attributes\":{},\"id\":\"5900\",\"type\":\"LinearScale\"},{\"attributes\":{\"bottom_units\":\"screen\",\"fill_alpha\":0.5,\"fill_color\":\"lightgrey\",\"left_units\":\"screen\",\"level\":\"overlay\",\"line_alpha\":1.0,\"line_color\":\"black\",\"line_dash\":[4,4],\"line_width\":2,\"right_units\":\"screen\",\"syncable\":false,\"top_units\":\"screen\"},\"id\":\"5985\",\"type\":\"BoxAnnotation\"},{\"attributes\":{\"days\":[\"%Y-%m-%d\"],\"hours\":[\"%H:%M\"]},\"id\":\"6005\",\"type\":\"DatetimeTickFormatter\"},{\"attributes\":{\"range_padding\":0},\"id\":\"5965\",\"type\":\"DataRange1d\"},{\"attributes\":{},\"id\":\"6011\",\"type\":\"AllLabels\"},{\"attributes\":{\"source\":{\"id\":\"5993\"}},\"id\":\"5997\",\"type\":\"CDSView\"},{\"attributes\":{\"data\":{\"top\":[42089013,59013307,90306177,33431809,43227951,25318011,30861661,33178936,31859808,39615978,24171688,20898332,23025766,23529706],\"x\":{\"__ndarray__\":\"AgAAAAQAAAAFAAAACQAAAAoAAAANAAAADgAAABAAAAASAAAAEwAAABcAAAAaAAAAGwAAABwAAAA=\",\"dtype\":\"int32\",\"order\":\"little\",\"shape\":[14]}},\"selected\":{\"id\":\"6036\"},\"selection_policy\":{\"id\":\"6037\"}},\"id\":\"5993\",\"type\":\"ColumnDataSource\"},{\"attributes\":{\"fill_color\":{\"value\":\"red\"},\"top\":{\"field\":\"top\"},\"width\":{\"value\":0.8},\"x\":{\"field\":\"x\"}},\"id\":\"5994\",\"type\":\"VBar\"},{\"attributes\":{\"fill_alpha\":{\"value\":0.1},\"fill_color\":{\"value\":\"red\"},\"line_alpha\":{\"value\":0.1},\"top\":{\"field\":\"top\"},\"width\":{\"value\":0.8},\"x\":{\"field\":\"x\"}},\"id\":\"5995\",\"type\":\"VBar\"},{\"attributes\":{\"data_source\":{\"id\":\"5993\"},\"glyph\":{\"id\":\"5994\"},\"hover_glyph\":null,\"muted_glyph\":null,\"nonselection_glyph\":{\"id\":\"5995\"},\"view\":{\"id\":\"5997\"}},\"id\":\"5996\",\"type\":\"GlyphRenderer\"},{\"attributes\":{},\"id\":\"5967\",\"type\":\"LinearScale\"},{\"attributes\":{\"fill_color\":{\"value\":\"blue\"},\"top\":{\"field\":\"top\"},\"width\":{\"value\":0.8},\"x\":{\"field\":\"x\"}},\"id\":\"5999\",\"type\":\"VBar\"},{\"attributes\":{\"data\":{\"top\":[35335669,32644642,48682416,36068848,26393970,39895044,25211127,27258534,26423070,28046832,26302077,22112205,18036835,15338765],\"x\":{\"__ndarray__\":\"AQAAAAMAAAAGAAAABwAAAAgAAAALAAAADAAAAA8AAAARAAAAFAAAABUAAAAWAAAAGAAAABkAAAA=\",\"dtype\":\"int32\",\"order\":\"little\",\"shape\":[14]}},\"selected\":{\"id\":\"6038\"},\"selection_policy\":{\"id\":\"6039\"}},\"id\":\"5998\",\"type\":\"ColumnDataSource\"},{\"attributes\":{\"fill_alpha\":{\"value\":0.1},\"fill_color\":{\"value\":\"blue\"},\"line_alpha\":{\"value\":0.1},\"top\":{\"field\":\"top\"},\"width\":{\"value\":0.8},\"x\":{\"field\":\"x\"}},\"id\":\"6000\",\"type\":\"VBar\"},{\"attributes\":{\"data_source\":{\"id\":\"5998\"},\"glyph\":{\"id\":\"5999\"},\"hover_glyph\":null,\"muted_glyph\":null,\"nonselection_glyph\":{\"id\":\"6000\"},\"view\":{\"id\":\"6002\"}},\"id\":\"6001\",\"type\":\"GlyphRenderer\"},{\"attributes\":{\"children\":[[{\"id\":\"5893\"},0,0],[{\"id\":\"5963\"},1,0]]},\"id\":\"6041\",\"type\":\"GridBox\"},{\"attributes\":{},\"id\":\"6003\",\"type\":\"NumeralTickFormatter\"},{\"attributes\":{\"source\":{\"id\":\"5998\"}},\"id\":\"6002\",\"type\":\"CDSView\"}],\"root_ids\":[\"6044\"]},\"title\":\"Bokeh Application\",\"version\":\"2.3.2\"}};\n",
       "  var render_items = [{\"docid\":\"5158273b-484e-443f-b4b8-fe51ad70ff1c\",\"root_ids\":[\"6044\"],\"roots\":{\"6044\":\"fa5fc7c9-7f6f-45da-bf98-a8c0ec83076d\"}}];\n",
       "  root.Bokeh.embed.embed_items_notebook(docs_json, render_items);\n",
       "\n",
       "  }\n",
       "  if (root.Bokeh !== undefined) {\n",
       "    embed_document(root);\n",
       "  } else {\n",
       "    var attempts = 0;\n",
       "    var timer = setInterval(function(root) {\n",
       "      if (root.Bokeh !== undefined) {\n",
       "        clearInterval(timer);\n",
       "        embed_document(root);\n",
       "      } else {\n",
       "        attempts++;\n",
       "        if (attempts > 100) {\n",
       "          clearInterval(timer);\n",
       "          console.log(\"Bokeh: ERROR: Unable to run BokehJS code because BokehJS library is missing\");\n",
       "        }\n",
       "      }\n",
       "    }, 10, root)\n",
       "  }\n",
       "})(window);"
      ],
      "application/vnd.bokehjs_exec.v0+json": ""
     },
     "metadata": {
      "application/vnd.bokehjs_exec.v0+json": {
       "id": "6044"
      }
     },
     "output_type": "display_data"
    }
   ],
   "source": [
    "# 캔들차트 그리기 --  bokeh 설치\n",
    "ssdf = fdr.DataReader('005930', '2021-01-01', '2021-02-15')\n",
    "# dfcp = pd.DataFrame(df['ss'], columns=['Close']) \n",
    "# dfcp.info()\n",
    "\n",
    "# 차트 설정\n",
    "config = {'title':'fdr.chart.config()를 사용하여 설정을 한번에 지정할 수 있습니다', \n",
    "          'width': 600, \n",
    "          'height': 300,\n",
    "          'volume': True,\n",
    "}\n",
    "fdr.chart.config(config=config)\n",
    "fdr.chart.plot(ssdf, title='삼성전자')\n",
    "# fdr.show()"
   ]
  },
  {
   "cell_type": "markdown",
   "id": "unavailable-sellers",
   "metadata": {},
   "source": [
    "# 거래소 종모코드 가져오기"
   ]
  },
  {
   "cell_type": "code",
   "execution_count": 32,
   "id": "executive-huntington",
   "metadata": {},
   "outputs": [
    {
     "name": "stdout",
     "output_type": "stream",
     "text": [
      "035720\n"
     ]
    }
   ],
   "source": [
    "def codefind(name):\n",
    "    krx = fdr.StockListing('KRX')\n",
    "    search = list(krx['Name'])\n",
    "    for i in range(len(krx)):\n",
    "        if (search[i]==name):\n",
    "            print(krx['Symbol'][i])\n",
    "            return"
   ]
  },
  {
   "cell_type": "code",
   "execution_count": 33,
   "id": "dying-twins",
   "metadata": {},
   "outputs": [
    {
     "name": "stdout",
     "output_type": "stream",
     "text": [
      "035720\n"
     ]
    }
   ],
   "source": [
    "codefind('카카오')"
   ]
  },
  {
   "cell_type": "code",
   "execution_count": 35,
   "id": "rubber-cleveland",
   "metadata": {},
   "outputs": [
    {
     "name": "stdout",
     "output_type": "stream",
     "text": [
      "005930\n"
     ]
    }
   ],
   "source": [
    "codefind('삼성전자')"
   ]
  }
 ],
 "metadata": {
  "kernelspec": {
   "display_name": "Python 3",
   "language": "python",
   "name": "python3"
  },
  "language_info": {
   "codemirror_mode": {
    "name": "ipython",
    "version": 3
   },
   "file_extension": ".py",
   "mimetype": "text/x-python",
   "name": "python",
   "nbconvert_exporter": "python",
   "pygments_lexer": "ipython3",
   "version": "3.8.0"
  }
 },
 "nbformat": 4,
 "nbformat_minor": 5
}
