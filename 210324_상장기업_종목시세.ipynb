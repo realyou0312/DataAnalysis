{
 "cells": [
  {
   "cell_type": "code",
   "execution_count": 324,
   "id": "persistent-favorite",
   "metadata": {},
   "outputs": [],
   "source": [
    "import pymysql\n",
    "from pykrx import stock\n",
    "import pandas as pd\n",
    "import time\n",
    "\n",
    "\n",
    "def db_connect():\n",
    "    db = pymysql.connect(host='localhost',\n",
    "                         port=3306,\n",
    "                         user='root',\n",
    "                         passwd='1234',\n",
    "                         db='stockdb',\n",
    "                         charset='utf8')\n",
    "    return db\n",
    "\n",
    "def sise(start_date, end_date):\n",
    "    err_list = []\n",
    "    try:\n",
    "        for i in stock.get_market_ticker_list():\n",
    "            df = stock.get_market_ohlcv_by_date(str(start_date), str(end_date), i)\n",
    "            df['종목명'] = stock.get_market_ticker_name(i)\n",
    "            df['종목코드'] = i\n",
    "            df.reset_index(inplace = True)\n",
    "            df.columns = ['stock_date', 'open_price', 'high', 'low', 'close', 'volume', 'stock_name', 'stock_code']\n",
    "            df = df[['stock_date', 'stock_code', 'stock_name', 'open_price', 'high', 'low', 'close', 'volume']]\n",
    "    \n",
    "            if (i == stock.get_market_ticker_list()[0]):\n",
    "                data = df\n",
    "            else:\n",
    "                data2 = df\n",
    "                data = pd.concat([data, data2])\n",
    "    except:\n",
    "        err_list.append(i)\n",
    "    return data"
   ]
  },
  {
   "cell_type": "code",
   "execution_count": 325,
   "id": "aerial-drove",
   "metadata": {},
   "outputs": [
    {
     "name": "stdout",
     "output_type": "stream",
     "text": [
      "검색시작 일자를 입력하세요 (YYYYMMDD)\n",
      "20200101\n",
      "검색마지막 일자를 입력하세요 (YYYYMMDD)\n",
      "20201231\n",
      "(해당 일자에 상장이 되지 않았거나 상장폐지된 경우 그 내용 빠짐)\n",
      "완료!\n",
      "소요시간 =  614.7757670879364\n"
     ]
    }
   ],
   "source": [
    "st_time = time.time()\n",
    "db = db_connect() \n",
    "cursor = db.cursor() \n",
    "\n",
    "print('검색시작 일자를 입력하세요 (YYYYMMDD)')\n",
    "start_date = input()\n",
    "print('검색마지막 일자를 입력하세요 (YYYYMMDD)')\n",
    "end_date = input()\n",
    "#print('검색할 종목 개수를 입력하세요')\n",
    "#cnt = int(input())\n",
    "print('(해당 일자에 상장이 되지 않았거나 상장폐지된 경우 그 내용 빠짐)')\n",
    "\n",
    "data = sise(start_date, end_date)\n",
    "\n",
    "for row in range(len(data)):\n",
    "    insert_data = list(data.iloc[row].values)\n",
    "    sql = \"\"\"\n",
    "    insert into ohlcv IF NOT EXISTS values (%s, %s, %s, %s, %s, %s, %s, %s);\n",
    "    \"\"\"\n",
    "    cursor.execute(sql, (insert_data))\n",
    "cursor.close()\n",
    "db.commit()\n",
    "end_time = time.time()\n",
    "\n",
    "print('완료!')\n",
    "print('소요시간 = ', end_time-st_time)\n"
   ]
  },
  {
   "cell_type": "code",
   "execution_count": null,
   "id": "hairy-forth",
   "metadata": {},
   "outputs": [],
   "source": []
  }
 ],
 "metadata": {
  "kernelspec": {
   "display_name": "Python 3",
   "language": "python",
   "name": "python3"
  },
  "language_info": {
   "codemirror_mode": {
    "name": "ipython",
    "version": 3
   },
   "file_extension": ".py",
   "mimetype": "text/x-python",
   "name": "python",
   "nbconvert_exporter": "python",
   "pygments_lexer": "ipython3",
   "version": "3.7.10"
  }
 },
 "nbformat": 4,
 "nbformat_minor": 5
}
