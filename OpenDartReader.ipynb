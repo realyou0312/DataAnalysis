{
  "nbformat": 4,
  "nbformat_minor": 0,
  "metadata": {
    "colab": {
      "name": "Untitled0.ipynb",
      "provenance": [],
      "authorship_tag": "ABX9TyPKqDykoRDB4fUlSnBpAq3t",
      "include_colab_link": true
    },
    "kernelspec": {
      "name": "python3",
      "display_name": "Python 3"
    },
    "language_info": {
      "name": "python"
    }
  },
  "cells": [
    {
      "cell_type": "markdown",
      "metadata": {
        "id": "view-in-github",
        "colab_type": "text"
      },
      "source": [
        "<a href=\"https://colab.research.google.com/github/realyou0312/DataAnalysis/blob/main/OpenDartReader.ipynb\" target=\"_parent\"><img src=\"https://colab.research.google.com/assets/colab-badge.svg\" alt=\"Open In Colab\"/></a>"
      ]
    },
    {
      "cell_type": "code",
      "metadata": {
        "colab": {
          "base_uri": "https://localhost:8080/"
        },
        "id": "JJaGgHbUm3UF",
        "outputId": "388125da-fddc-401f-8719-8f805cd6cb2b"
      },
      "source": [
        "!pip install OpenDartReader"
      ],
      "execution_count": 1,
      "outputs": [
        {
          "output_type": "stream",
          "text": [
            "Collecting OpenDartReader\n",
            "  Downloading https://files.pythonhosted.org/packages/f6/e7/94af98ad3b41cf73410433b78ffd942ff0f6cf5380972f0dea5fd083ed23/OpenDartReader-0.1.1-py3-none-any.whl\n",
            "Requirement already satisfied: pandas>=0.19.2 in /usr/local/lib/python3.7/dist-packages (from OpenDartReader) (1.1.5)\n",
            "Requirement already satisfied: lxml in /usr/local/lib/python3.7/dist-packages (from OpenDartReader) (4.2.6)\n",
            "Requirement already satisfied: requests>=2.3.0 in /usr/local/lib/python3.7/dist-packages (from OpenDartReader) (2.23.0)\n",
            "Collecting requests-file\n",
            "  Downloading https://files.pythonhosted.org/packages/77/86/cdb5e8eaed90796aa83a6d9f75cfbd37af553c47a291cd47bc410ef9bdb2/requests_file-1.5.1-py2.py3-none-any.whl\n",
            "Requirement already satisfied: numpy>=1.15.4 in /usr/local/lib/python3.7/dist-packages (from pandas>=0.19.2->OpenDartReader) (1.19.5)\n",
            "Requirement already satisfied: python-dateutil>=2.7.3 in /usr/local/lib/python3.7/dist-packages (from pandas>=0.19.2->OpenDartReader) (2.8.1)\n",
            "Requirement already satisfied: pytz>=2017.2 in /usr/local/lib/python3.7/dist-packages (from pandas>=0.19.2->OpenDartReader) (2018.9)\n",
            "Requirement already satisfied: idna<3,>=2.5 in /usr/local/lib/python3.7/dist-packages (from requests>=2.3.0->OpenDartReader) (2.10)\n",
            "Requirement already satisfied: chardet<4,>=3.0.2 in /usr/local/lib/python3.7/dist-packages (from requests>=2.3.0->OpenDartReader) (3.0.4)\n",
            "Requirement already satisfied: certifi>=2017.4.17 in /usr/local/lib/python3.7/dist-packages (from requests>=2.3.0->OpenDartReader) (2021.5.30)\n",
            "Requirement already satisfied: urllib3!=1.25.0,!=1.25.1,<1.26,>=1.21.1 in /usr/local/lib/python3.7/dist-packages (from requests>=2.3.0->OpenDartReader) (1.24.3)\n",
            "Requirement already satisfied: six in /usr/local/lib/python3.7/dist-packages (from requests-file->OpenDartReader) (1.15.0)\n",
            "Installing collected packages: requests-file, OpenDartReader\n",
            "Successfully installed OpenDartReader-0.1.1 requests-file-1.5.1\n"
          ],
          "name": "stdout"
        }
      ]
    },
    {
      "cell_type": "code",
      "metadata": {
        "id": "KE8V67zRmoL2"
      },
      "source": [
        "\t\n",
        "import OpenDartReader\n",
        "import pandas as pd\n",
        "api_key = '50acd12a10b7efc93f2f63512b7022fed783917e'\n",
        "dart = OpenDartReader(api_key)"
      ],
      "execution_count": 2,
      "outputs": []
    },
    {
      "cell_type": "code",
      "metadata": {
        "colab": {
          "base_uri": "https://localhost:8080/",
          "height": 514
        },
        "id": "QPGG9DZKnYSN",
        "outputId": "a18acc09-bcfd-4a33-a1d7-bbdb7a0f6901"
      },
      "source": [
        "# 삼성전자의 2019년 배당관련 사항 조회\n",
        "dart.report(corp='005930', key_word='배당', bsns_year=2019)"
      ],
      "execution_count": 4,
      "outputs": [
        {
          "output_type": "execute_result",
          "data": {
            "text/html": [
              "<div>\n",
              "<style scoped>\n",
              "    .dataframe tbody tr th:only-of-type {\n",
              "        vertical-align: middle;\n",
              "    }\n",
              "\n",
              "    .dataframe tbody tr th {\n",
              "        vertical-align: top;\n",
              "    }\n",
              "\n",
              "    .dataframe thead th {\n",
              "        text-align: right;\n",
              "    }\n",
              "</style>\n",
              "<table border=\"1\" class=\"dataframe\">\n",
              "  <thead>\n",
              "    <tr style=\"text-align: right;\">\n",
              "      <th></th>\n",
              "      <th>rcept_no</th>\n",
              "      <th>corp_cls</th>\n",
              "      <th>corp_code</th>\n",
              "      <th>corp_name</th>\n",
              "      <th>se</th>\n",
              "      <th>thstrm</th>\n",
              "      <th>frmtrm</th>\n",
              "      <th>lwfr</th>\n",
              "      <th>stock_knd</th>\n",
              "    </tr>\n",
              "  </thead>\n",
              "  <tbody>\n",
              "    <tr>\n",
              "      <th>0</th>\n",
              "      <td>20200330003851</td>\n",
              "      <td>Y</td>\n",
              "      <td>00126380</td>\n",
              "      <td>삼성전자</td>\n",
              "      <td>주당액면가액(원)</td>\n",
              "      <td>100</td>\n",
              "      <td>100</td>\n",
              "      <td>100</td>\n",
              "      <td>NaN</td>\n",
              "    </tr>\n",
              "    <tr>\n",
              "      <th>1</th>\n",
              "      <td>20200330003851</td>\n",
              "      <td>Y</td>\n",
              "      <td>00126380</td>\n",
              "      <td>삼성전자</td>\n",
              "      <td>(연결)당기순이익(백만원)</td>\n",
              "      <td>21,505,054</td>\n",
              "      <td>43,890,877</td>\n",
              "      <td>41,344,569</td>\n",
              "      <td>NaN</td>\n",
              "    </tr>\n",
              "    <tr>\n",
              "      <th>2</th>\n",
              "      <td>20200330003851</td>\n",
              "      <td>Y</td>\n",
              "      <td>00126380</td>\n",
              "      <td>삼성전자</td>\n",
              "      <td>(별도)당기순이익(백만원)</td>\n",
              "      <td>15,353,323</td>\n",
              "      <td>32,815,127</td>\n",
              "      <td>28,800,837</td>\n",
              "      <td>NaN</td>\n",
              "    </tr>\n",
              "    <tr>\n",
              "      <th>3</th>\n",
              "      <td>20200330003851</td>\n",
              "      <td>Y</td>\n",
              "      <td>00126380</td>\n",
              "      <td>삼성전자</td>\n",
              "      <td>(연결)주당순이익(원)</td>\n",
              "      <td>3,166</td>\n",
              "      <td>6,461</td>\n",
              "      <td>5,997</td>\n",
              "      <td>NaN</td>\n",
              "    </tr>\n",
              "    <tr>\n",
              "      <th>4</th>\n",
              "      <td>20200330003851</td>\n",
              "      <td>Y</td>\n",
              "      <td>00126380</td>\n",
              "      <td>삼성전자</td>\n",
              "      <td>현금배당금총액(백만원)</td>\n",
              "      <td>9,619,243</td>\n",
              "      <td>9,619,243</td>\n",
              "      <td>5,826,302</td>\n",
              "      <td>NaN</td>\n",
              "    </tr>\n",
              "    <tr>\n",
              "      <th>5</th>\n",
              "      <td>20200330003851</td>\n",
              "      <td>Y</td>\n",
              "      <td>00126380</td>\n",
              "      <td>삼성전자</td>\n",
              "      <td>주식배당금총액(백만원)</td>\n",
              "      <td>-</td>\n",
              "      <td>-</td>\n",
              "      <td>-</td>\n",
              "      <td>NaN</td>\n",
              "    </tr>\n",
              "    <tr>\n",
              "      <th>6</th>\n",
              "      <td>20200330003851</td>\n",
              "      <td>Y</td>\n",
              "      <td>00126380</td>\n",
              "      <td>삼성전자</td>\n",
              "      <td>(연결)현금배당성향(%)</td>\n",
              "      <td>44.70</td>\n",
              "      <td>21.90</td>\n",
              "      <td>14.10</td>\n",
              "      <td>NaN</td>\n",
              "    </tr>\n",
              "    <tr>\n",
              "      <th>7</th>\n",
              "      <td>20200330003851</td>\n",
              "      <td>Y</td>\n",
              "      <td>00126380</td>\n",
              "      <td>삼성전자</td>\n",
              "      <td>현금배당수익률(%)</td>\n",
              "      <td>2.60</td>\n",
              "      <td>3.70</td>\n",
              "      <td>1.70</td>\n",
              "      <td>보통주</td>\n",
              "    </tr>\n",
              "    <tr>\n",
              "      <th>8</th>\n",
              "      <td>20200330003851</td>\n",
              "      <td>Y</td>\n",
              "      <td>00126380</td>\n",
              "      <td>삼성전자</td>\n",
              "      <td>현금배당수익률(%)</td>\n",
              "      <td>3.10</td>\n",
              "      <td>4.50</td>\n",
              "      <td>2.10</td>\n",
              "      <td>우선주</td>\n",
              "    </tr>\n",
              "    <tr>\n",
              "      <th>9</th>\n",
              "      <td>20200330003851</td>\n",
              "      <td>Y</td>\n",
              "      <td>00126380</td>\n",
              "      <td>삼성전자</td>\n",
              "      <td>주식배당수익률(%)</td>\n",
              "      <td>-</td>\n",
              "      <td>-</td>\n",
              "      <td>-</td>\n",
              "      <td>보통주</td>\n",
              "    </tr>\n",
              "    <tr>\n",
              "      <th>10</th>\n",
              "      <td>20200330003851</td>\n",
              "      <td>Y</td>\n",
              "      <td>00126380</td>\n",
              "      <td>삼성전자</td>\n",
              "      <td>주식배당수익률(%)</td>\n",
              "      <td>-</td>\n",
              "      <td>-</td>\n",
              "      <td>-</td>\n",
              "      <td>우선주</td>\n",
              "    </tr>\n",
              "    <tr>\n",
              "      <th>11</th>\n",
              "      <td>20200330003851</td>\n",
              "      <td>Y</td>\n",
              "      <td>00126380</td>\n",
              "      <td>삼성전자</td>\n",
              "      <td>주당 현금배당금(원)</td>\n",
              "      <td>1,416</td>\n",
              "      <td>1,416</td>\n",
              "      <td>850</td>\n",
              "      <td>보통주</td>\n",
              "    </tr>\n",
              "    <tr>\n",
              "      <th>12</th>\n",
              "      <td>20200330003851</td>\n",
              "      <td>Y</td>\n",
              "      <td>00126380</td>\n",
              "      <td>삼성전자</td>\n",
              "      <td>주당 현금배당금(원)</td>\n",
              "      <td>1,417</td>\n",
              "      <td>1,417</td>\n",
              "      <td>851</td>\n",
              "      <td>우선주</td>\n",
              "    </tr>\n",
              "    <tr>\n",
              "      <th>13</th>\n",
              "      <td>20200330003851</td>\n",
              "      <td>Y</td>\n",
              "      <td>00126380</td>\n",
              "      <td>삼성전자</td>\n",
              "      <td>주당 주식배당(주)</td>\n",
              "      <td>-</td>\n",
              "      <td>-</td>\n",
              "      <td>-</td>\n",
              "      <td>보통주</td>\n",
              "    </tr>\n",
              "    <tr>\n",
              "      <th>14</th>\n",
              "      <td>20200330003851</td>\n",
              "      <td>Y</td>\n",
              "      <td>00126380</td>\n",
              "      <td>삼성전자</td>\n",
              "      <td>주당 주식배당(주)</td>\n",
              "      <td>-</td>\n",
              "      <td>-</td>\n",
              "      <td>-</td>\n",
              "      <td>우선주</td>\n",
              "    </tr>\n",
              "  </tbody>\n",
              "</table>\n",
              "</div>"
            ],
            "text/plain": [
              "          rcept_no corp_cls corp_code  ...      frmtrm        lwfr stock_knd\n",
              "0   20200330003851        Y  00126380  ...         100         100       NaN\n",
              "1   20200330003851        Y  00126380  ...  43,890,877  41,344,569       NaN\n",
              "2   20200330003851        Y  00126380  ...  32,815,127  28,800,837       NaN\n",
              "3   20200330003851        Y  00126380  ...       6,461       5,997       NaN\n",
              "4   20200330003851        Y  00126380  ...   9,619,243   5,826,302       NaN\n",
              "5   20200330003851        Y  00126380  ...           -           -       NaN\n",
              "6   20200330003851        Y  00126380  ...       21.90       14.10       NaN\n",
              "7   20200330003851        Y  00126380  ...        3.70        1.70       보통주\n",
              "8   20200330003851        Y  00126380  ...        4.50        2.10       우선주\n",
              "9   20200330003851        Y  00126380  ...           -           -       보통주\n",
              "10  20200330003851        Y  00126380  ...           -           -       우선주\n",
              "11  20200330003851        Y  00126380  ...       1,416         850       보통주\n",
              "12  20200330003851        Y  00126380  ...       1,417         851       우선주\n",
              "13  20200330003851        Y  00126380  ...           -           -       보통주\n",
              "14  20200330003851        Y  00126380  ...           -           -       우선주\n",
              "\n",
              "[15 rows x 9 columns]"
            ]
          },
          "metadata": {
            "tags": []
          },
          "execution_count": 4
        }
      ]
    },
    {
      "cell_type": "code",
      "metadata": {
        "id": "N-ysDfcdnb8v"
      },
      "source": [
        "dv = dart.report(corp='005930', key_word='배당', bsns_year=2019)\n",
        "\n",
        "dv_dps   = dv[dv['se'] == '주당 현금배당금(원)']\n",
        "dv_eps   = dv[dv['se'].str.contains('주당순이익')]\n",
        "dv_yield = dv[dv['se'].str.contains('현금배당수익률')]\n",
        "dv_TD    = dv[dv['se'].str.contains('현금배당금총액')]\n",
        "\n",
        "EPS = int(dv_eps[['thstrm']].iloc[0,0].replace(',','').strip()) # 주당순이익\n",
        "DPS = int(dv_dps[['thstrm']].iloc[0,0].replace(',', '').strip()) # 주당 배당금\n",
        "Yield = float(dv_yield[['thstrm']].iloc[0,0].replace(',','').strip())\n",
        "TD = int(dv_TD[['thstrm']].iloc[0,0].replace(',', '').strip()) * 1000000 # 배당금총액. 백만원단위"
      ],
      "execution_count": 5,
      "outputs": []
    },
    {
      "cell_type": "code",
      "metadata": {
        "colab": {
          "base_uri": "https://localhost:8080/",
          "height": 80
        },
        "id": "QiB2WwQ9ngkk",
        "outputId": "5953449e-ef4c-44a5-ae27-58202c2bd8d2"
      },
      "source": [
        "pd.DataFrame({'종목코드':['005930'], '종목명':['삼성전자'], 'EPS':[EPS], 'DPS':[DPS], '배당수익률':[Yield], '배당금총액':[TD]})"
      ],
      "execution_count": 8,
      "outputs": [
        {
          "output_type": "execute_result",
          "data": {
            "text/html": [
              "<div>\n",
              "<style scoped>\n",
              "    .dataframe tbody tr th:only-of-type {\n",
              "        vertical-align: middle;\n",
              "    }\n",
              "\n",
              "    .dataframe tbody tr th {\n",
              "        vertical-align: top;\n",
              "    }\n",
              "\n",
              "    .dataframe thead th {\n",
              "        text-align: right;\n",
              "    }\n",
              "</style>\n",
              "<table border=\"1\" class=\"dataframe\">\n",
              "  <thead>\n",
              "    <tr style=\"text-align: right;\">\n",
              "      <th></th>\n",
              "      <th>종목코드</th>\n",
              "      <th>종목명</th>\n",
              "      <th>EPS</th>\n",
              "      <th>DPS</th>\n",
              "      <th>배당수익률</th>\n",
              "      <th>배당금총액</th>\n",
              "    </tr>\n",
              "  </thead>\n",
              "  <tbody>\n",
              "    <tr>\n",
              "      <th>0</th>\n",
              "      <td>005930</td>\n",
              "      <td>삼성전자</td>\n",
              "      <td>3166</td>\n",
              "      <td>1416</td>\n",
              "      <td>2.6</td>\n",
              "      <td>9619243000000</td>\n",
              "    </tr>\n",
              "  </tbody>\n",
              "</table>\n",
              "</div>"
            ],
            "text/plain": [
              "     종목코드   종목명   EPS   DPS  배당수익률          배당금총액\n",
              "0  005930  삼성전자  3166  1416    2.6  9619243000000"
            ]
          },
          "metadata": {
            "tags": []
          },
          "execution_count": 8
        }
      ]
    },
    {
      "cell_type": "code",
      "metadata": {
        "id": "te09av9vm5ax"
      },
      "source": [
        "fs_2019 = dart.finstate_all(corp='005930', bsns_year='2019', fs_div='CFS', reprt_code=11011) \n",
        "fs_2020_3Q = dart.finstate_all(corp='005930', bsns_year='2020', fs_div='CFS', reprt_code=11014) "
      ],
      "execution_count": 3,
      "outputs": []
    },
    {
      "cell_type": "code",
      "metadata": {
        "id": "iVwKg7rJnCbX"
      },
      "source": [
        ""
      ],
      "execution_count": null,
      "outputs": []
    }
  ]
}