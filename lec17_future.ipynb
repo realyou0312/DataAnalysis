{
 "cells": [
  {
   "cell_type": "markdown",
   "id": "tracked-trustee",
   "metadata": {},
   "source": [
    "# 선물 수익률 계산"
   ]
  },
  {
   "cell_type": "code",
   "execution_count": 1,
   "id": "signal-lobby",
   "metadata": {},
   "outputs": [],
   "source": [
    "import pandas as pd\n",
    "import numpy as np\n",
    "import pandas_datareader as pdr\n",
    "import FinanceDataReader as fdr\n",
    "import seaborn as sns\n",
    "from matplotlib import dates as mdates\n",
    "import matplotlib.pyplot as plt\n",
    "%matplotlib inline\n",
    "\n",
    "import warnings\n",
    "warnings.filterwarnings(action='ignore')"
   ]
  },
  {
   "cell_type": "code",
   "execution_count": 2,
   "id": "still-population",
   "metadata": {},
   "outputs": [
    {
     "name": "stdout",
     "output_type": "stream",
     "text": [
      "NanumGothic\n"
     ]
    }
   ],
   "source": [
    "import matplotlib.font_manager as fm\n",
    "import matplotlib as mpl\n",
    "mpl.rcParams['axes.unicode_minus'] = False\n",
    "mpl.rcParams[\"figure.figsize\"] = (14,4)\n",
    "mpl.rcParams['axes.grid'] = True \n",
    "path = 'C:\\\\Windows\\\\Fonts\\\\\\x7f\\x7f\\x7f\\x7fBOLD.TTF'\n",
    "font_name = fm.FontProperties(fname=path, size=10).get_name()\n",
    "print(font_name)\n",
    "plt.rc('font', family=font_name)\n",
    "# plt.title('한글제목')\n",
    "# plt.show()"
   ]
  },
  {
   "cell_type": "code",
   "execution_count": 3,
   "id": "distant-maldives",
   "metadata": {},
   "outputs": [],
   "source": [
    "def myplot(df, nrows=5,  kind='line', title='제목', labels=False):  \n",
    "    if nrows > 0:\n",
    "        print(df.head(nrows))\n",
    "    else:\n",
    "        print(df.tail(nrows))\n",
    "    \n",
    "    if labels:\n",
    "        cols = df.columns\n",
    "        for i, col in enumerate(cols):\n",
    "            df[col].plot(label=labels[i], kind=kind)\n",
    "    else :\n",
    "        df.plot(kind=kind)\n",
    "    \n",
    "    plt.title(title)\n",
    "    plt.legend()\n",
    "    plt.show()"
   ]
  },
  {
   "cell_type": "code",
   "execution_count": 4,
   "id": "focused-philip",
   "metadata": {},
   "outputs": [],
   "source": [
    "def myplotmix(df1, df2, y1='ylabel-1', y2='ylabel-2', kind1='bar', kind2='line', title='제목',  nrows1=5, nrows2=5,  labels=False):  \n",
    "    ytl=['b', 'g', 'r', 'c', 'm', 'y', 'k', 'w']\n",
    "\n",
    "    if nrows1 > 0:\n",
    "        print(df1.head(nrows1))\n",
    "    elif nrows1 < 0:\n",
    "        print(df1.tail(nrows1))\n",
    "    if nrows2 > 0:\n",
    "        print(df2.head(nrows2))\n",
    "    else:\n",
    "        print(df2.tail(nrows2))\n",
    "    fig, ax1 = plt.subplots(figsize=(12, 4))\n",
    "    ax2=ax1.twinx()\n",
    "    if kind1 == 'line':\n",
    "        df1.plot(kind=kind1, ax=ax2, marker='d',color='#e35f62')  #color='y', \n",
    "        df2.plot(kind=kind2, ax=ax1)  #bar\n",
    "    else:\n",
    "        df1.plot(kind=kind1, ax=ax1,color='#bcbd22')\n",
    "        df2.plot(kind=kind2, ax=ax2) #color='y',\n",
    "        \n",
    "    # df['date'] = df['date'].dt.strftime('%Y-%m-%d')\n",
    "    # ax1.set_xticklabels(df['date'])    \n",
    "    ax1.yaxis.tick_right()\n",
    "    ax2.yaxis.tick_left()\n",
    "    ax1.set_ylabel(y1) #, color='red')\n",
    "    ax2.set_ylabel(y2) #, color='red')\n",
    "    ax1.legend(loc=1)\n",
    "    ax2.legend(loc=2)\n",
    "    plt.title(title)\n",
    "    ax1.grid(False)\n",
    "    ax2.grid(False)\n",
    "    plt.show()"
   ]
  },
  {
   "cell_type": "code",
   "execution_count": 5,
   "id": "after-sperm",
   "metadata": {},
   "outputs": [],
   "source": [
    "# Date\tSpot\tFront\tSecond\n",
    "# M M1 M2 EXP  Last Trade\n",
    "\n"
   ]
  },
  {
   "cell_type": "code",
   "execution_count": 23,
   "id": "macro-cache",
   "metadata": {},
   "outputs": [],
   "source": [
    "\n",
    "df = pd.read_excel('./datasets/WTI선물.xlsx', sheet_name='M', index_col='Date', )\n",
    "edf = pd.read_excel('./datasets/WTI선물.xlsx', sheet_name='EXP')\n"
   ]
  },
  {
   "cell_type": "code",
   "execution_count": 7,
   "id": "horizontal-shape",
   "metadata": {},
   "outputs": [
    {
     "name": "stdout",
     "output_type": "stream",
     "text": [
      "<class 'pandas.core.frame.DataFrame'>\n",
      "DatetimeIndex: 2014 entries, 2017-12-28 to 2010-01-04\n",
      "Data columns (total 3 columns):\n",
      " #   Column  Non-Null Count  Dtype  \n",
      "---  ------  --------------  -----  \n",
      " 0   Spot    2014 non-null   float64\n",
      " 1   Front   2014 non-null   float64\n",
      " 2   Second  2014 non-null   float64\n",
      "dtypes: float64(3)\n",
      "memory usage: 62.9 KB\n"
     ]
    }
   ],
   "source": [
    "df.info()"
   ]
  },
  {
   "cell_type": "code",
   "execution_count": 8,
   "id": "indoor-aerospace",
   "metadata": {},
   "outputs": [
    {
     "name": "stdout",
     "output_type": "stream",
     "text": [
      "<class 'pandas.core.frame.DataFrame'>\n",
      "RangeIndex: 293 entries, 0 to 292\n",
      "Data columns (total 4 columns):\n",
      " #   Column      Non-Null Count  Dtype         \n",
      "---  ------      --------------  -----         \n",
      " 0   Ticker      293 non-null    object        \n",
      " 1   Month       293 non-null    datetime64[ns]\n",
      " 2   Last Trade  293 non-null    object        \n",
      " 3   Last Price  223 non-null    float64       \n",
      "dtypes: datetime64[ns](1), float64(1), object(2)\n",
      "memory usage: 9.3+ KB\n"
     ]
    }
   ],
   "source": [
    "edf.info()"
   ]
  },
  {
   "cell_type": "markdown",
   "id": "smooth-heaven",
   "metadata": {},
   "source": [
    "# 이론가 산출\n",
    "* 이론가  = 지수*가격*e(cd금리)t"
   ]
  },
  {
   "cell_type": "code",
   "execution_count": 9,
   "id": "celtic-hands",
   "metadata": {},
   "outputs": [
    {
     "name": "stdout",
     "output_type": "stream",
     "text": [
      "<class 'pandas.core.frame.DataFrame'>\n",
      "DatetimeIndex: 4 entries, 2021-01-04 to 2021-01-07\n",
      "Data columns (total 2 columns):\n",
      " #   Column  Non-Null Count  Dtype\n",
      "---  ------  --------------  -----\n",
      " 0   a       4 non-null      int64\n",
      " 1   b       4 non-null      int64\n",
      "dtypes: int64(2)\n",
      "memory usage: 96.0 bytes\n",
      "None\n",
      "              a  b\n",
      "date              \n",
      "2021-01-04  100  1\n",
      "2021-01-05  101  1\n",
      "2021-01-06  102  1\n",
      "2021-01-07  103  1\n"
     ]
    }
   ],
   "source": [
    "temp = pd.DataFrame({\n",
    "                    'date':pd.date_range('2021-01-04',periods=4),\n",
    "                   'a': [100,101,102,103]   ,\n",
    "                   'b':[1,1,1,1]\n",
    "                })\n",
    "\n",
    "temp['date']  = pd.to_datetime(temp['date'] , format='%Y-%m-%d', errors='raise')\n",
    "temp = temp.set_index('date')\n",
    "print(temp.info())\n",
    "print(temp.head())\n"
   ]
  },
  {
   "cell_type": "code",
   "execution_count": 10,
   "id": "massive-bonus",
   "metadata": {},
   "outputs": [
    {
     "data": {
      "text/html": [
       "<div>\n",
       "<style scoped>\n",
       "    .dataframe tbody tr th:only-of-type {\n",
       "        vertical-align: middle;\n",
       "    }\n",
       "\n",
       "    .dataframe tbody tr th {\n",
       "        vertical-align: top;\n",
       "    }\n",
       "\n",
       "    .dataframe thead th {\n",
       "        text-align: right;\n",
       "    }\n",
       "</style>\n",
       "<table border=\"1\" class=\"dataframe\">\n",
       "  <thead>\n",
       "    <tr style=\"text-align: right;\">\n",
       "      <th></th>\n",
       "      <th>0</th>\n",
       "    </tr>\n",
       "  </thead>\n",
       "  <tbody>\n",
       "    <tr>\n",
       "      <th>0</th>\n",
       "      <td>100.011905</td>\n",
       "    </tr>\n",
       "    <tr>\n",
       "      <th>1</th>\n",
       "      <td>101.009018</td>\n",
       "    </tr>\n",
       "    <tr>\n",
       "      <th>2</th>\n",
       "      <td>102.006072</td>\n",
       "    </tr>\n",
       "    <tr>\n",
       "      <th>3</th>\n",
       "      <td>103.003066</td>\n",
       "    </tr>\n",
       "  </tbody>\n",
       "</table>\n",
       "</div>"
      ],
      "text/plain": [
       "            0\n",
       "0  100.011905\n",
       "1  101.009018\n",
       "2  102.006072\n",
       "3  103.003066"
      ]
     },
     "execution_count": 10,
     "metadata": {},
     "output_type": "execute_result"
    }
   ],
   "source": [
    "# by 김한결\n",
    "def 이론가(선물지수, 이자율, 배당률, 오늘, 만기일):\n",
    "    list=[]\n",
    "#     잔존만기일 = np.busday_count(오늘, 만기일) / 252\n",
    "    만기디데이 = np.busday_count(오늘, 만기일)\n",
    "    for i in range(만기디데이,0,-1):\n",
    "        잔존일수 = i/252\n",
    "        선물이론가 = 선물지수 * np.exp((이자율-배당률) * 잔존일수)\n",
    "        list.append(선물이론가.values[만기디데이-i])\n",
    "        df = pd.DataFrame(data=list)\n",
    "    return df\n",
    "이자율 = 0.0225\n",
    "배당률 = 0.015\n",
    "\n",
    "만기일 = '2021-01-08'\n",
    "오늘 = '2021-01-04'\n",
    "선물지수 = temp['a']\n",
    "선물이론가 = 이론가(선물지수,이자율,배당률,오늘, 만기일)\n",
    "선물이론가\n"
   ]
  },
  {
   "cell_type": "code",
   "execution_count": 16,
   "id": "consistent-specific",
   "metadata": {},
   "outputs": [
    {
     "data": {
      "text/html": [
       "<div>\n",
       "<style scoped>\n",
       "    .dataframe tbody tr th:only-of-type {\n",
       "        vertical-align: middle;\n",
       "    }\n",
       "\n",
       "    .dataframe tbody tr th {\n",
       "        vertical-align: top;\n",
       "    }\n",
       "\n",
       "    .dataframe thead th {\n",
       "        text-align: right;\n",
       "    }\n",
       "</style>\n",
       "<table border=\"1\" class=\"dataframe\">\n",
       "  <thead>\n",
       "    <tr style=\"text-align: right;\">\n",
       "      <th></th>\n",
       "      <th>Spot</th>\n",
       "      <th>Front</th>\n",
       "      <th>Second</th>\n",
       "    </tr>\n",
       "    <tr>\n",
       "      <th>Date</th>\n",
       "      <th></th>\n",
       "      <th></th>\n",
       "      <th></th>\n",
       "    </tr>\n",
       "  </thead>\n",
       "  <tbody>\n",
       "    <tr>\n",
       "      <th>2017-12-28</th>\n",
       "      <td>59.84</td>\n",
       "      <td>59.84</td>\n",
       "      <td>59.87</td>\n",
       "    </tr>\n",
       "    <tr>\n",
       "      <th>2017-12-27</th>\n",
       "      <td>59.64</td>\n",
       "      <td>59.64</td>\n",
       "      <td>59.69</td>\n",
       "    </tr>\n",
       "    <tr>\n",
       "      <th>2017-12-26</th>\n",
       "      <td>59.97</td>\n",
       "      <td>59.97</td>\n",
       "      <td>60.00</td>\n",
       "    </tr>\n",
       "    <tr>\n",
       "      <th>2017-12-22</th>\n",
       "      <td>58.42</td>\n",
       "      <td>58.47</td>\n",
       "      <td>58.54</td>\n",
       "    </tr>\n",
       "    <tr>\n",
       "      <th>2017-12-21</th>\n",
       "      <td>58.33</td>\n",
       "      <td>58.36</td>\n",
       "      <td>58.40</td>\n",
       "    </tr>\n",
       "  </tbody>\n",
       "</table>\n",
       "</div>"
      ],
      "text/plain": [
       "             Spot  Front  Second\n",
       "Date                            \n",
       "2017-12-28  59.84  59.84   59.87\n",
       "2017-12-27  59.64  59.64   59.69\n",
       "2017-12-26  59.97  59.97   60.00\n",
       "2017-12-22  58.42  58.47   58.54\n",
       "2017-12-21  58.33  58.36   58.40"
      ]
     },
     "execution_count": 16,
     "metadata": {},
     "output_type": "execute_result"
    }
   ],
   "source": [
    "df.head()"
   ]
  },
  {
   "cell_type": "code",
   "execution_count": 17,
   "id": "legislative-dallas",
   "metadata": {},
   "outputs": [
    {
     "data": {
      "text/html": [
       "<div>\n",
       "<style scoped>\n",
       "    .dataframe tbody tr th:only-of-type {\n",
       "        vertical-align: middle;\n",
       "    }\n",
       "\n",
       "    .dataframe tbody tr th {\n",
       "        vertical-align: top;\n",
       "    }\n",
       "\n",
       "    .dataframe thead th {\n",
       "        text-align: right;\n",
       "    }\n",
       "</style>\n",
       "<table border=\"1\" class=\"dataframe\">\n",
       "  <thead>\n",
       "    <tr style=\"text-align: right;\">\n",
       "      <th></th>\n",
       "      <th>Ticker</th>\n",
       "      <th>Month</th>\n",
       "      <th>Last Trade</th>\n",
       "      <th>Last Price</th>\n",
       "    </tr>\n",
       "  </thead>\n",
       "  <tbody>\n",
       "    <tr>\n",
       "      <th>0</th>\n",
       "      <td>CLG00</td>\n",
       "      <td>2000-02-01</td>\n",
       "      <td>01/20/00</td>\n",
       "      <td>29.66</td>\n",
       "    </tr>\n",
       "    <tr>\n",
       "      <th>1</th>\n",
       "      <td>CLH00</td>\n",
       "      <td>2000-03-01</td>\n",
       "      <td>02/22/00</td>\n",
       "      <td>29.62</td>\n",
       "    </tr>\n",
       "    <tr>\n",
       "      <th>2</th>\n",
       "      <td>CLJ00</td>\n",
       "      <td>2000-04-01</td>\n",
       "      <td>03/21/00</td>\n",
       "      <td>28.00</td>\n",
       "    </tr>\n",
       "    <tr>\n",
       "      <th>3</th>\n",
       "      <td>CLK00</td>\n",
       "      <td>2000-05-01</td>\n",
       "      <td>04/19/00</td>\n",
       "      <td>27.35</td>\n",
       "    </tr>\n",
       "    <tr>\n",
       "      <th>4</th>\n",
       "      <td>CLM00</td>\n",
       "      <td>2000-06-01</td>\n",
       "      <td>05/22/00</td>\n",
       "      <td>28.61</td>\n",
       "    </tr>\n",
       "  </tbody>\n",
       "</table>\n",
       "</div>"
      ],
      "text/plain": [
       "  Ticker      Month Last Trade  Last Price\n",
       "0  CLG00 2000-02-01   01/20/00       29.66\n",
       "1  CLH00 2000-03-01   02/22/00       29.62\n",
       "2  CLJ00 2000-04-01   03/21/00       28.00\n",
       "3  CLK00 2000-05-01   04/19/00       27.35\n",
       "4  CLM00 2000-06-01   05/22/00       28.61"
      ]
     },
     "execution_count": 17,
     "metadata": {},
     "output_type": "execute_result"
    }
   ],
   "source": [
    "edf.head()"
   ]
  },
  {
   "cell_type": "code",
   "execution_count": 24,
   "id": "liked-storage",
   "metadata": {},
   "outputs": [
    {
     "data": {
      "text/html": [
       "<div>\n",
       "<style scoped>\n",
       "    .dataframe tbody tr th:only-of-type {\n",
       "        vertical-align: middle;\n",
       "    }\n",
       "\n",
       "    .dataframe tbody tr th {\n",
       "        vertical-align: top;\n",
       "    }\n",
       "\n",
       "    .dataframe thead th {\n",
       "        text-align: right;\n",
       "    }\n",
       "</style>\n",
       "<table border=\"1\" class=\"dataframe\">\n",
       "  <thead>\n",
       "    <tr style=\"text-align: right;\">\n",
       "      <th></th>\n",
       "      <th>Ticker</th>\n",
       "      <th>Last Trade</th>\n",
       "      <th>Last Price</th>\n",
       "    </tr>\n",
       "    <tr>\n",
       "      <th>Month</th>\n",
       "      <th></th>\n",
       "      <th></th>\n",
       "      <th></th>\n",
       "    </tr>\n",
       "  </thead>\n",
       "  <tbody>\n",
       "    <tr>\n",
       "      <th>2000-02-01</th>\n",
       "      <td>CLG00</td>\n",
       "      <td>01/20/00</td>\n",
       "      <td>29.66</td>\n",
       "    </tr>\n",
       "    <tr>\n",
       "      <th>2000-03-01</th>\n",
       "      <td>CLH00</td>\n",
       "      <td>02/22/00</td>\n",
       "      <td>29.62</td>\n",
       "    </tr>\n",
       "    <tr>\n",
       "      <th>2000-04-01</th>\n",
       "      <td>CLJ00</td>\n",
       "      <td>03/21/00</td>\n",
       "      <td>28.00</td>\n",
       "    </tr>\n",
       "    <tr>\n",
       "      <th>2000-05-01</th>\n",
       "      <td>CLK00</td>\n",
       "      <td>04/19/00</td>\n",
       "      <td>27.35</td>\n",
       "    </tr>\n",
       "    <tr>\n",
       "      <th>2000-06-01</th>\n",
       "      <td>CLM00</td>\n",
       "      <td>05/22/00</td>\n",
       "      <td>28.61</td>\n",
       "    </tr>\n",
       "  </tbody>\n",
       "</table>\n",
       "</div>"
      ],
      "text/plain": [
       "           Ticker Last Trade  Last Price\n",
       "Month                                   \n",
       "2000-02-01  CLG00   01/20/00       29.66\n",
       "2000-03-01  CLH00   02/22/00       29.62\n",
       "2000-04-01  CLJ00   03/21/00       28.00\n",
       "2000-05-01  CLK00   04/19/00       27.35\n",
       "2000-06-01  CLM00   05/22/00       28.61"
      ]
     },
     "execution_count": 24,
     "metadata": {},
     "output_type": "execute_result"
    }
   ],
   "source": [
    "edf['Month'] = pd.to_datetime(edf['Month'])  #만기월최종거래일(last trading day)\n",
    "edf = edf.set_index('Month')\n",
    "edf.head()"
   ]
  },
  {
   "cell_type": "code",
   "execution_count": 26,
   "id": "empirical-origin",
   "metadata": {},
   "outputs": [
    {
     "name": "stdout",
     "output_type": "stream",
     "text": [
      "2017-12-26 00:00:00 2000-02-01 00:00:00\n"
     ]
    }
   ],
   "source": [
    "print(edf.index.max() , edf.index.min())"
   ]
  },
  {
   "cell_type": "code",
   "execution_count": 27,
   "id": "failing-curtis",
   "metadata": {},
   "outputs": [
    {
     "name": "stdout",
     "output_type": "stream",
     "text": [
      "2017-12-28 00:00:00 2010-01-04 00:00:00\n"
     ]
    }
   ],
   "source": [
    "print(df.index.max() , df.index.min())"
   ]
  },
  {
   "cell_type": "code",
   "execution_count": 32,
   "id": "demographic-generic",
   "metadata": {},
   "outputs": [
    {
     "data": {
      "text/plain": [
       "(282, 3)"
      ]
     },
     "execution_count": 32,
     "metadata": {},
     "output_type": "execute_result"
    }
   ],
   "source": [
    "edf.loc['2010-01-01':].shape"
   ]
  },
  {
   "cell_type": "code",
   "execution_count": 33,
   "id": "circular-chamber",
   "metadata": {},
   "outputs": [
    {
     "data": {
      "text/html": [
       "<div>\n",
       "<style scoped>\n",
       "    .dataframe tbody tr th:only-of-type {\n",
       "        vertical-align: middle;\n",
       "    }\n",
       "\n",
       "    .dataframe tbody tr th {\n",
       "        vertical-align: top;\n",
       "    }\n",
       "\n",
       "    .dataframe thead th {\n",
       "        text-align: right;\n",
       "    }\n",
       "</style>\n",
       "<table border=\"1\" class=\"dataframe\">\n",
       "  <thead>\n",
       "    <tr style=\"text-align: right;\">\n",
       "      <th></th>\n",
       "      <th>Spot</th>\n",
       "      <th>Front</th>\n",
       "      <th>Second</th>\n",
       "    </tr>\n",
       "    <tr>\n",
       "      <th>Date</th>\n",
       "      <th></th>\n",
       "      <th></th>\n",
       "      <th></th>\n",
       "    </tr>\n",
       "  </thead>\n",
       "  <tbody>\n",
       "    <tr>\n",
       "      <th>2017-12-28</th>\n",
       "      <td>59.84</td>\n",
       "      <td>59.84</td>\n",
       "      <td>59.87</td>\n",
       "    </tr>\n",
       "    <tr>\n",
       "      <th>2017-12-27</th>\n",
       "      <td>59.64</td>\n",
       "      <td>59.64</td>\n",
       "      <td>59.69</td>\n",
       "    </tr>\n",
       "    <tr>\n",
       "      <th>2017-12-26</th>\n",
       "      <td>59.97</td>\n",
       "      <td>59.97</td>\n",
       "      <td>60.00</td>\n",
       "    </tr>\n",
       "    <tr>\n",
       "      <th>2017-12-22</th>\n",
       "      <td>58.42</td>\n",
       "      <td>58.47</td>\n",
       "      <td>58.54</td>\n",
       "    </tr>\n",
       "    <tr>\n",
       "      <th>2017-12-21</th>\n",
       "      <td>58.33</td>\n",
       "      <td>58.36</td>\n",
       "      <td>58.40</td>\n",
       "    </tr>\n",
       "  </tbody>\n",
       "</table>\n",
       "</div>"
      ],
      "text/plain": [
       "             Spot  Front  Second\n",
       "Date                            \n",
       "2017-12-28  59.84  59.84   59.87\n",
       "2017-12-27  59.64  59.64   59.69\n",
       "2017-12-26  59.97  59.97   60.00\n",
       "2017-12-22  58.42  58.47   58.54\n",
       "2017-12-21  58.33  58.36   58.40"
      ]
     },
     "execution_count": 33,
     "metadata": {},
     "output_type": "execute_result"
    }
   ],
   "source": [
    "df.\n",
    "df.head()"
   ]
  },
  {
   "cell_type": "code",
   "execution_count": 34,
   "id": "reverse-processing",
   "metadata": {},
   "outputs": [
    {
     "data": {
      "text/html": [
       "<div>\n",
       "<style scoped>\n",
       "    .dataframe tbody tr th:only-of-type {\n",
       "        vertical-align: middle;\n",
       "    }\n",
       "\n",
       "    .dataframe tbody tr th {\n",
       "        vertical-align: top;\n",
       "    }\n",
       "\n",
       "    .dataframe thead th {\n",
       "        text-align: right;\n",
       "    }\n",
       "</style>\n",
       "<table border=\"1\" class=\"dataframe\">\n",
       "  <thead>\n",
       "    <tr style=\"text-align: right;\">\n",
       "      <th></th>\n",
       "      <th>Ticker</th>\n",
       "      <th>Last Trade</th>\n",
       "      <th>Last Price</th>\n",
       "    </tr>\n",
       "    <tr>\n",
       "      <th>Month</th>\n",
       "      <th></th>\n",
       "      <th></th>\n",
       "      <th></th>\n",
       "    </tr>\n",
       "  </thead>\n",
       "  <tbody>\n",
       "    <tr>\n",
       "      <th>2000-02-01</th>\n",
       "      <td>CLG00</td>\n",
       "      <td>01/20/00</td>\n",
       "      <td>29.66</td>\n",
       "    </tr>\n",
       "    <tr>\n",
       "      <th>2000-03-01</th>\n",
       "      <td>CLH00</td>\n",
       "      <td>02/22/00</td>\n",
       "      <td>29.62</td>\n",
       "    </tr>\n",
       "    <tr>\n",
       "      <th>2000-04-01</th>\n",
       "      <td>CLJ00</td>\n",
       "      <td>03/21/00</td>\n",
       "      <td>28.00</td>\n",
       "    </tr>\n",
       "    <tr>\n",
       "      <th>2000-05-01</th>\n",
       "      <td>CLK00</td>\n",
       "      <td>04/19/00</td>\n",
       "      <td>27.35</td>\n",
       "    </tr>\n",
       "    <tr>\n",
       "      <th>2000-06-01</th>\n",
       "      <td>CLM00</td>\n",
       "      <td>05/22/00</td>\n",
       "      <td>28.61</td>\n",
       "    </tr>\n",
       "  </tbody>\n",
       "</table>\n",
       "</div>"
      ],
      "text/plain": [
       "           Ticker Last Trade  Last Price\n",
       "Month                                   \n",
       "2000-02-01  CLG00   01/20/00       29.66\n",
       "2000-03-01  CLH00   02/22/00       29.62\n",
       "2000-04-01  CLJ00   03/21/00       28.00\n",
       "2000-05-01  CLK00   04/19/00       27.35\n",
       "2000-06-01  CLM00   05/22/00       28.61"
      ]
     },
     "execution_count": 34,
     "metadata": {},
     "output_type": "execute_result"
    }
   ],
   "source": [
    "edf.head()"
   ]
  },
  {
   "cell_type": "markdown",
   "id": "atmospheric-passport",
   "metadata": {},
   "source": [
    "## 만기일 == 기준금리발표일"
   ]
  },
  {
   "cell_type": "code",
   "execution_count": 52,
   "id": "boxed-miniature",
   "metadata": {},
   "outputs": [
    {
     "data": {
      "text/plain": [
       "(102, 8)"
      ]
     },
     "execution_count": 52,
     "metadata": {},
     "output_type": "execute_result"
    }
   ],
   "source": [
    "# gdf = pd.concat([df,edf], axis=1, join='outer')\n",
    "# gdf.head()\n",
    "# gdf['Spot'].shape\n",
    "# gdf['Spot'].isna().sum()\n",
    "\n",
    "# gdf['만기일1'] = gdf['Spot'].apply(lambda x: 1 if np.isnan(x) else 0)\n",
    "# # gdf[gdf['만기일1']==1].shape\n",
    "# gdf[gdf['만기일1']==1].shape"
   ]
  },
  {
   "cell_type": "code",
   "execution_count": 50,
   "id": "burning-mystery",
   "metadata": {},
   "outputs": [
    {
     "name": "stdout",
     "output_type": "stream",
     "text": [
      "191\n"
     ]
    }
   ],
   "source": [
    "df['exp'] = np.nan\n",
    "cnt = 0\n",
    "for d in df.index:\n",
    "    if d in edf.index:\n",
    "        df.loc[d]['exp'] = 1\n",
    "        cnt = cnt + 1\n",
    "df.head() \n",
    "print(cnt)"
   ]
  },
  {
   "cell_type": "code",
   "execution_count": 51,
   "id": "infrared-assignment",
   "metadata": {},
   "outputs": [
    {
     "data": {
      "text/html": [
       "<div>\n",
       "<style scoped>\n",
       "    .dataframe tbody tr th:only-of-type {\n",
       "        vertical-align: middle;\n",
       "    }\n",
       "\n",
       "    .dataframe tbody tr th {\n",
       "        vertical-align: top;\n",
       "    }\n",
       "\n",
       "    .dataframe thead th {\n",
       "        text-align: right;\n",
       "    }\n",
       "</style>\n",
       "<table border=\"1\" class=\"dataframe\">\n",
       "  <thead>\n",
       "    <tr style=\"text-align: right;\">\n",
       "      <th></th>\n",
       "      <th>Spot</th>\n",
       "      <th>Front</th>\n",
       "      <th>Second</th>\n",
       "      <th>exp</th>\n",
       "    </tr>\n",
       "    <tr>\n",
       "      <th>Date</th>\n",
       "      <th></th>\n",
       "      <th></th>\n",
       "      <th></th>\n",
       "      <th></th>\n",
       "    </tr>\n",
       "  </thead>\n",
       "  <tbody>\n",
       "    <tr>\n",
       "      <th>2017-12-28</th>\n",
       "      <td>59.84</td>\n",
       "      <td>59.84</td>\n",
       "      <td>59.87</td>\n",
       "      <td>NaN</td>\n",
       "    </tr>\n",
       "    <tr>\n",
       "      <th>2017-12-27</th>\n",
       "      <td>59.64</td>\n",
       "      <td>59.64</td>\n",
       "      <td>59.69</td>\n",
       "      <td>NaN</td>\n",
       "    </tr>\n",
       "    <tr>\n",
       "      <th>2017-12-26</th>\n",
       "      <td>59.97</td>\n",
       "      <td>59.97</td>\n",
       "      <td>60.00</td>\n",
       "      <td>1.0</td>\n",
       "    </tr>\n",
       "    <tr>\n",
       "      <th>2017-12-22</th>\n",
       "      <td>58.42</td>\n",
       "      <td>58.47</td>\n",
       "      <td>58.54</td>\n",
       "      <td>1.0</td>\n",
       "    </tr>\n",
       "    <tr>\n",
       "      <th>2017-12-21</th>\n",
       "      <td>58.33</td>\n",
       "      <td>58.36</td>\n",
       "      <td>58.40</td>\n",
       "      <td>1.0</td>\n",
       "    </tr>\n",
       "  </tbody>\n",
       "</table>\n",
       "</div>"
      ],
      "text/plain": [
       "             Spot  Front  Second  exp\n",
       "Date                                 \n",
       "2017-12-28  59.84  59.84   59.87  NaN\n",
       "2017-12-27  59.64  59.64   59.69  NaN\n",
       "2017-12-26  59.97  59.97   60.00  1.0\n",
       "2017-12-22  58.42  58.47   58.54  1.0\n",
       "2017-12-21  58.33  58.36   58.40  1.0"
      ]
     },
     "execution_count": 51,
     "metadata": {},
     "output_type": "execute_result"
    }
   ],
   "source": [
    "df.head()"
   ]
  },
  {
   "cell_type": "code",
   "execution_count": 54,
   "id": "systematic-collector",
   "metadata": {},
   "outputs": [
    {
     "data": {
      "text/plain": [
       "Spot      0\n",
       "Front     0\n",
       "Second    0\n",
       "exp       0\n",
       "dtype: int64"
      ]
     },
     "execution_count": 54,
     "metadata": {},
     "output_type": "execute_result"
    }
   ],
   "source": [
    "df['exp'].fillna(0, inplace=True)\n",
    "df.isna().sum()"
   ]
  },
  {
   "cell_type": "code",
   "execution_count": 55,
   "id": "dimensional-artist",
   "metadata": {},
   "outputs": [
    {
     "data": {
      "text/html": [
       "<div>\n",
       "<style scoped>\n",
       "    .dataframe tbody tr th:only-of-type {\n",
       "        vertical-align: middle;\n",
       "    }\n",
       "\n",
       "    .dataframe tbody tr th {\n",
       "        vertical-align: top;\n",
       "    }\n",
       "\n",
       "    .dataframe thead th {\n",
       "        text-align: right;\n",
       "    }\n",
       "</style>\n",
       "<table border=\"1\" class=\"dataframe\">\n",
       "  <thead>\n",
       "    <tr style=\"text-align: right;\">\n",
       "      <th></th>\n",
       "      <th>Spot</th>\n",
       "      <th>Front</th>\n",
       "      <th>Second</th>\n",
       "      <th>exp</th>\n",
       "    </tr>\n",
       "    <tr>\n",
       "      <th>Date</th>\n",
       "      <th></th>\n",
       "      <th></th>\n",
       "      <th></th>\n",
       "      <th></th>\n",
       "    </tr>\n",
       "  </thead>\n",
       "  <tbody>\n",
       "    <tr>\n",
       "      <th>2017-12-28</th>\n",
       "      <td>59.84</td>\n",
       "      <td>59.84</td>\n",
       "      <td>59.87</td>\n",
       "      <td>0.0</td>\n",
       "    </tr>\n",
       "    <tr>\n",
       "      <th>2017-12-27</th>\n",
       "      <td>59.64</td>\n",
       "      <td>59.64</td>\n",
       "      <td>59.69</td>\n",
       "      <td>0.0</td>\n",
       "    </tr>\n",
       "    <tr>\n",
       "      <th>2017-12-26</th>\n",
       "      <td>59.97</td>\n",
       "      <td>59.97</td>\n",
       "      <td>60.00</td>\n",
       "      <td>1.0</td>\n",
       "    </tr>\n",
       "    <tr>\n",
       "      <th>2017-12-22</th>\n",
       "      <td>58.42</td>\n",
       "      <td>58.47</td>\n",
       "      <td>58.54</td>\n",
       "      <td>1.0</td>\n",
       "    </tr>\n",
       "    <tr>\n",
       "      <th>2017-12-21</th>\n",
       "      <td>58.33</td>\n",
       "      <td>58.36</td>\n",
       "      <td>58.40</td>\n",
       "      <td>1.0</td>\n",
       "    </tr>\n",
       "  </tbody>\n",
       "</table>\n",
       "</div>"
      ],
      "text/plain": [
       "             Spot  Front  Second  exp\n",
       "Date                                 \n",
       "2017-12-28  59.84  59.84   59.87  0.0\n",
       "2017-12-27  59.64  59.64   59.69  0.0\n",
       "2017-12-26  59.97  59.97   60.00  1.0\n",
       "2017-12-22  58.42  58.47   58.54  1.0\n",
       "2017-12-21  58.33  58.36   58.40  1.0"
      ]
     },
     "execution_count": 55,
     "metadata": {},
     "output_type": "execute_result"
    }
   ],
   "source": [
    "df.head()"
   ]
  },
  {
   "cell_type": "markdown",
   "id": "accomplished-april",
   "metadata": {},
   "source": [
    "## 현물가"
   ]
  },
  {
   "cell_type": "code",
   "execution_count": 56,
   "id": "fitting-consortium",
   "metadata": {},
   "outputs": [
    {
     "name": "stdout",
     "output_type": "stream",
     "text": [
      "2017-12-28 00:00:00 2010-01-04 00:00:00\n"
     ]
    }
   ],
   "source": [
    "print(df.index.max() , df.index.min())"
   ]
  },
  {
   "cell_type": "code",
   "execution_count": 60,
   "id": "rubber-portable",
   "metadata": {},
   "outputs": [
    {
     "data": {
      "text/plain": [
       "-21.67"
      ]
     },
     "execution_count": 60,
     "metadata": {},
     "output_type": "execute_result"
    }
   ],
   "source": [
    "df.loc[df.index.max()]['Spot'] - df.loc[df.index.min()]['Spot'] "
   ]
  },
  {
   "cell_type": "markdown",
   "id": "vietnamese-evolution",
   "metadata": {},
   "source": [
    "## 선물가 \n",
    "* 만기일(exp==1)에는 롤오버가 발생\n",
    "* 롤오버비용: 차월만기금(Second) - 당월만기금(Front)  "
   ]
  },
  {
   "cell_type": "code",
   "execution_count": 74,
   "id": "agricultural-meaning",
   "metadata": {},
   "outputs": [
    {
     "data": {
      "text/plain": [
       "(Timestamp('2017-12-26 00:00:00'), Timestamp('2017-01-03 00:00:00'))"
      ]
     },
     "execution_count": 74,
     "metadata": {},
     "output_type": "execute_result"
    }
   ],
   "source": [
    "df[df['exp']==1].index.max(), df[df['exp']==1].index.min()"
   ]
  },
  {
   "cell_type": "code",
   "execution_count": 75,
   "id": "mexican-ideal",
   "metadata": {},
   "outputs": [
    {
     "data": {
      "text/plain": [
       "Text(0.5, 1.0, '롤오버 비용 증감지수')"
      ]
     },
     "execution_count": 75,
     "metadata": {},
     "output_type": "execute_result"
    },
    {
     "data": {
      "image/png": "[encoded data removed]",
      "text/plain": [
       "<Figure size 1008x288 with 1 Axes>"
      ]
     },
     "metadata": {
      "needs_background": "light"
     },
     "output_type": "display_data"
    }
   ],
   "source": [
    "temp = df[df['exp']==1][['Second','Front']]\n",
    "temp['diff'] =  temp['Second'] - temp['Front']\n",
    "temp.head()\n",
    "temp['diff'].plot()\n",
    "plt.title(\"롤오버 지수 증감(원자료)\")"
   ]
  },
  {
   "cell_type": "code",
   "execution_count": 66,
   "id": "adopted-milton",
   "metadata": {},
   "outputs": [
    {
     "data": {
      "text/plain": [
       "66.14000000000003"
      ]
     },
     "execution_count": 66,
     "metadata": {},
     "output_type": "execute_result"
    }
   ],
   "source": [
    "rov_tot = np.array(df[df['exp']==1]['Second'] - df[df['exp']==1]['Front'] ).sum()\n",
    "# 7년동안 매달 == 즉 84회 이자비용\n",
    "rov_tot"
   ]
  },
  {
   "cell_type": "code",
   "execution_count": 67,
   "id": "knowing-telephone",
   "metadata": {},
   "outputs": [
    {
     "data": {
      "text/plain": [
       "-87.81000000000003"
      ]
     },
     "execution_count": 67,
     "metadata": {},
     "output_type": "execute_result"
    }
   ],
   "source": [
    "df.loc[df.index.max()]['Spot'] - df.loc[df.index.min()]['Spot']  - rov_tot"
   ]
  },
  {
   "cell_type": "code",
   "execution_count": null,
   "id": "serious-opportunity",
   "metadata": {},
   "outputs": [],
   "source": []
  },
  {
   "cell_type": "code",
   "execution_count": null,
   "id": "alert-sierra",
   "metadata": {},
   "outputs": [],
   "source": []
  },
  {
   "cell_type": "code",
   "execution_count": 11,
   "id": "attended-shield",
   "metadata": {},
   "outputs": [
    {
     "data": {
      "text/plain": [
       "103.0030655"
      ]
     },
     "execution_count": 11,
     "metadata": {},
     "output_type": "execute_result"
    }
   ],
   "source": [
    "# by 장예지\n",
    "def 이론가(선물지수, 이자율, 배당율, 만기일):\n",
    "    # 잔존만기일 = np.busday_count(오늘, 만기일) / 252\n",
    "    # print(잔존만기일*252)\n",
    "    선물이론가 = 선물지수 * np.exp((이자율 - 배당율)* (np.busday_count(선물지수.index.values.astype('datetime64[D]'), 만기일) / 252))\n",
    "    return 선물이론가\n",
    "\n",
    "이자율 = 0.0225\n",
    "배당률 = 0.015\n",
    "\n",
    "만기일 = '2021-01-08'\n",
    "오늘 = '2021-01-04'\n",
    "선물지수 = temp['a']\n",
    "선물이론가 = 이론가(선물지수,이자율,배당률, 만기일)\n",
    "선물이론가\n",
    "\n",
    "100.0119055\n",
    "101.0090183\n",
    "102.0060716\n",
    "103.0030655\n"
   ]
  },
  {
   "cell_type": "code",
   "execution_count": null,
   "id": "practical-subscription",
   "metadata": {},
   "outputs": [],
   "source": []
  },
  {
   "cell_type": "code",
   "execution_count": null,
   "id": "boring-elements",
   "metadata": {},
   "outputs": [],
   "source": []
  },
  {
   "cell_type": "code",
   "execution_count": 12,
   "id": "handled-penetration",
   "metadata": {},
   "outputs": [],
   "source": [
    "#𝑭 =𝑺𝒆^(𝒓−𝒅)𝒕   \n",
    "def 이론가(선물지수, 이자율, 배당율, 만기일, 오늘):\n",
    "    print(오늘)\n",
    "    for d in 오늘:        \n",
    "        잔존만기일 = np.busday_count(d, 만기일) / 252\n",
    "        print(잔존만기일*252)\n",
    "        선물이론가 = 선물지수 * np.exp((이자율 - 배당율)*잔존만기일)\n",
    "        return 선물이론가"
   ]
  },
  {
   "cell_type": "code",
   "execution_count": null,
   "id": "forbidden-shelf",
   "metadata": {},
   "outputs": [],
   "source": []
  },
  {
   "cell_type": "code",
   "execution_count": null,
   "id": "advance-belief",
   "metadata": {},
   "outputs": [],
   "source": []
  },
  {
   "cell_type": "code",
   "execution_count": null,
   "id": "ongoing-launch",
   "metadata": {},
   "outputs": [],
   "source": []
  },
  {
   "cell_type": "code",
   "execution_count": null,
   "id": "greater-immigration",
   "metadata": {},
   "outputs": [],
   "source": []
  },
  {
   "cell_type": "code",
   "execution_count": null,
   "id": "crude-bernard",
   "metadata": {},
   "outputs": [],
   "source": []
  },
  {
   "cell_type": "code",
   "execution_count": null,
   "id": "standard-safety",
   "metadata": {},
   "outputs": [],
   "source": []
  },
  {
   "cell_type": "code",
   "execution_count": null,
   "id": "final-channels",
   "metadata": {},
   "outputs": [],
   "source": []
  },
  {
   "cell_type": "code",
   "execution_count": 13,
   "id": "moved-publication",
   "metadata": {},
   "outputs": [],
   "source": [
    "# # 𝑭 =𝑺[𝟏+(𝒓−𝒅)×𝒕/𝟑𝟔𝟓]\n",
    "# def 이론가2(선물지수, 이자율, 배당율, 만기일, 오늘):\n",
    "#     잔존만기일 = (만기일-오늘).days/365\n",
    "#     print(잔존만기일)\n",
    "#     선물이론가 = 선물지수 * (1+ (이자율 - 배당율)*잔존만기일)\n",
    "#     return 선물이론가"
   ]
  },
  {
   "cell_type": "code",
   "execution_count": 14,
   "id": "fixed-soccer",
   "metadata": {},
   "outputs": [],
   "source": [
    "# import datetime\n",
    "\n",
    "# 이자율 = 0.0225\n",
    "# 배당율 = 0.015\n",
    "# # 2.25%\n",
    "# # 1.50%\n",
    "# 만기일 = '2021-01-08'  #63일\n",
    "# 오늘 = '2021-01-07'\n",
    "\n",
    "# 만기일 = pd.to_datetime(만기일)\n",
    "# 오늘 = pd.to_datetime(오늘)\n",
    "# # 오늘 = datetime.datetime.strptime(오늘, '%Y-%m-%d')\n",
    "# print('Date-time:', 만기일)\n",
    "# print('Date-time:', 오늘)\n",
    "\n",
    "# 선물지수 = temp['a']\n",
    "# res = 이론가2(선물지수, 이자율, 배당율, 만기일, 오늘)\n",
    "# res"
   ]
  },
  {
   "cell_type": "code",
   "execution_count": 15,
   "id": "appreciated-eight",
   "metadata": {},
   "outputs": [],
   "source": [
    "# 100.0119055\n",
    "# 101.0090183\n",
    "# 102.0060716\n",
    "# 103.0030655\n"
   ]
  }
 ],
 "metadata": {
  "kernelspec": {
   "display_name": "Python 3",
   "language": "python",
   "name": "python3"
  },
  "language_info": {
   "codemirror_mode": {
    "name": "ipython",
    "version": 3
   },
   "file_extension": ".py",
   "mimetype": "text/x-python",
   "name": "python",
   "nbconvert_exporter": "python",
   "pygments_lexer": "ipython3",
   "version": "3.8.0"
  }
 },
 "nbformat": 4,
 "nbformat_minor": 5
}
