{
  "nbformat": 4,
  "nbformat_minor": 5,
  "metadata": {
    "accelerator": "GPU",
    "colab": {
      "name": "0506_앙상블 시도-파라미터 수정.ipynb",
      "provenance": [],
      "collapsed_sections": [
        "frequent-organization",
        "featured-welcome",
        "measured-ecology",
        "legitimate-ladder",
        "substantial-easter"
      ],
      "include_colab_link": true
    },
    "kernelspec": {
      "display_name": "Python 3",
      "language": "python",
      "name": "python3"
    },
    "language_info": {
      "codemirror_mode": {
        "name": "ipython",
        "version": 3
      },
      "file_extension": ".py",
      "mimetype": "text/x-python",
      "name": "python",
      "nbconvert_exporter": "python",
      "pygments_lexer": "ipython3",
      "version": "3.7.10"
    },
    "varInspector": {
      "cols": {
        "lenName": 16,
        "lenType": 16,
        "lenVar": 40
      },
      "kernels_config": {
        "python": {
          "delete_cmd_postfix": "",
          "delete_cmd_prefix": "del ",
          "library": "var_list.py",
          "varRefreshCmd": "print(var_dic_list())"
        },
        "r": {
          "delete_cmd_postfix": ") ",
          "delete_cmd_prefix": "rm(",
          "library": "var_list.r",
          "varRefreshCmd": "cat(var_dic_list()) "
        }
      },
      "types_to_exclude": [
        "module",
        "function",
        "builtin_function_or_method",
        "instance",
        "_Feature"
      ],
      "window_display": false
    }
  },
  "cells": [
    {
      "cell_type": "markdown",
      "metadata": {
        "id": "view-in-github",
        "colab_type": "text"
      },
      "source": [
        "<a href=\"https://colab.research.google.com/github/realyou0312/DataAnalysis/blob/main/0506_%EC%95%99%EC%83%81%EB%B8%94_%EC%8B%9C%EB%8F%84_%ED%8C%8C%EB%9D%BC%EB%AF%B8%ED%84%B0_%EC%88%98%EC%A0%95.ipynb\" target=\"_parent\"><img src=\"https://colab.research.google.com/assets/colab-badge.svg\" alt=\"Open In Colab\"/></a>"
      ]
    },
    {
      "cell_type": "code",
      "metadata": {
        "id": "present-damage"
      },
      "source": [
        "import numpy as np\n",
        "import pandas as pd\n",
        "import seaborn as sns\n",
        "import matplotlib.pyplot as plt\n",
        "import warnings, random\n",
        "warnings.filterwarnings(action='ignore')\n",
        "\n",
        "\n",
        "from sklearn.ensemble import RandomForestClassifier\n",
        "from sklearn.metrics import classification_report, log_loss, accuracy_score, confusion_matrix\n",
        "from sklearn.preprocessing import LabelEncoder, StandardScaler\n",
        "from sklearn.model_selection import train_test_split, KFold, StratifiedKFold\n",
        "\n",
        "from xgboost import XGBClassifier\n",
        "from lightgbm import LGBMClassifier\n",
        "import lightgbm as lgb\n",
        "\n",
        "from sklearn.cluster import KMeans\n",
        "# from catboost import CatBoostClassifier, Pool\n",
        "\n",
        "# import optuna\n",
        "# from optuna import Trial\n",
        "# from optuna.samplers import TPESampler"
      ],
      "id": "present-damage",
      "execution_count": 1,
      "outputs": []
    },
    {
      "cell_type": "code",
      "metadata": {
        "colab": {
          "base_uri": "https://localhost:8080/"
        },
        "id": "zSuv_VicBc79",
        "outputId": "97442fa9-e788-4434-cbe5-4cec94160058"
      },
      "source": [
        "from google.colab import drive\n",
        "drive.mount('/content/drive')"
      ],
      "id": "zSuv_VicBc79",
      "execution_count": 2,
      "outputs": [
        {
          "output_type": "stream",
          "text": [
            "Mounted at /content/drive\n"
          ],
          "name": "stdout"
        }
      ]
    },
    {
      "cell_type": "code",
      "metadata": {
        "id": "MjdahwTmB8h7"
      },
      "source": [
        "path = '/content/drive/MyDrive/DACON_Credit/'\n",
        "train = pd.read_csv(path + 'train.csv')\n",
        "test = pd.read_csv(path + 'test.csv')"
      ],
      "id": "MjdahwTmB8h7",
      "execution_count": 4,
      "outputs": []
    },
    {
      "cell_type": "code",
      "metadata": {
        "id": "impaired-decrease"
      },
      "source": [
        "train.drop(['index', 'FLAG_MOBIL'], axis=1, inplace=True)\n",
        "train.fillna('NaN', inplace=True) \n",
        "\n",
        "test.drop(['index', 'FLAG_MOBIL'], axis=1, inplace=True)\n",
        "test.fillna('NaN', inplace=True)\n"
      ],
      "id": "impaired-decrease",
      "execution_count": 5,
      "outputs": []
    },
    {
      "cell_type": "code",
      "metadata": {
        "id": "wooden-authorization"
      },
      "source": [
        "train[\"DAYS_EMPLOYED\"] = train[\"DAYS_EMPLOYED\"].map(lambda x: 0 if x > 0 else x)\n",
        "test[\"DAYS_EMPLOYED\"] = test[\"DAYS_EMPLOYED\"].map(lambda x: 0 if x > 0 else x)"
      ],
      "id": "wooden-authorization",
      "execution_count": 6,
      "outputs": []
    },
    {
      "cell_type": "code",
      "metadata": {
        "id": "tropical-practice"
      },
      "source": [
        "train = train[(train['family_size'] <= 7)]\n",
        "# train.set_index('index', inplace=True)\n",
        "train = train.reset_index(drop=True)"
      ],
      "id": "tropical-practice",
      "execution_count": 7,
      "outputs": []
    },
    {
      "cell_type": "code",
      "metadata": {
        "id": "fifty-voltage"
      },
      "source": [
        "# train_corr = train.corr()\n",
        "# ax = plt.subplots(figsize=(30, 25))\n",
        "# ax = sns.heatmap(train_corr, center=0, annot = True, linewidths=.5)"
      ],
      "id": "fifty-voltage",
      "execution_count": 8,
      "outputs": []
    },
    {
      "cell_type": "markdown",
      "metadata": {
        "id": "above-oasis"
      },
      "source": [
        "### 음수값 -> 양수 변환"
      ],
      "id": "above-oasis"
    },
    {
      "cell_type": "code",
      "metadata": {
        "id": "oriental-superior"
      },
      "source": [
        "feats = ['DAYS_BIRTH', 'begin_month', 'DAYS_EMPLOYED']\n",
        "for feat in feats:\n",
        "    train[feat]=np.abs(train[feat])\n",
        "    test[feat]=np.abs(test[feat])"
      ],
      "id": "oriental-superior",
      "execution_count": 9,
      "outputs": []
    },
    {
      "cell_type": "code",
      "metadata": {
        "id": "aggregate-wyoming"
      },
      "source": [
        "# fig, axes = plt.subplots(1, 3, figsize=(12, 4))\n",
        "# train['begin_month'][train['credit']==0].hist(bins=25, ax=axes[0])\n",
        "# train['begin_month'][train['credit']==1].hist(bins=25, ax=axes[1])\n",
        "# train['begin_month'][train['credit']==2].hist(bins=25, ax=axes[2])\n"
      ],
      "id": "aggregate-wyoming",
      "execution_count": null,
      "outputs": []
    },
    {
      "cell_type": "code",
      "metadata": {
        "id": "split-attraction",
        "scrolled": true
      },
      "source": [
        "# train['begin_month_level'] = pd.qcut(train['begin_month'], q=8, labels=['A','B','C','D','E','F','G','H'])\n",
        "# test['begin_month_level'] = pd.qcut(test['begin_month'], q=8, labels=['A','B','C','D','E','F','G','H'])\n",
        "# train['begin_month_level'] = train['begin_month_level'].astype('object')"
      ],
      "id": "split-attraction",
      "execution_count": null,
      "outputs": []
    },
    {
      "cell_type": "markdown",
      "metadata": {
        "id": "smooth-guyana"
      },
      "source": [
        "### Feature Engineering"
      ],
      "id": "smooth-guyana"
    },
    {
      "cell_type": "code",
      "metadata": {
        "id": "focal-subdivision"
      },
      "source": [
        "for df in [train,test]:\n",
        "    # df['DAYS_BIRTH_DAYS_EMPLOYED_ratio'] = np.floor(df['DAYS_EMPLOYED'] / df['DAYS_BIRTH'])\n",
        "    # df['income_total_DAYS_BIRTH_ratio'] = np.floor(df['income_total'] / df['DAYS_BIRTH'])\n",
        "    #df['income_total_DAYS_EMPLOYED_ratio'] = np.floor(df['income_total'] / df['DAYS_EMPLOYED'])\n",
        "    #df['income_total_begin_month_ratio'] = np.floor(df['begin_month'] / df['DAYS_EMPLOYED'])\n",
        "    #df['parents'] = df['family_size'] - df['child_num']\n",
        "    df['before_EMPLOYED'] = df['DAYS_BIRTH'] - df['DAYS_EMPLOYED']\n",
        "    df['income_total_workingday_ratio'] = df['income_total'] / df['before_EMPLOYED']\n",
        "    \n",
        "    df[\"DAYS_BIRTH_m\"] = np.floor(df[\"DAYS_BIRTH\"] / 30) - ((np.floor(df[\"DAYS_BIRTH\"] / 30) / 12).astype(int) * 12)\n",
        "    df[\"DAYS_BIRTH_w\"] = np.floor(df[\"DAYS_BIRTH\"] / 7) - ((np.floor(df[\"DAYS_BIRTH\"] / 7) / 4).astype(int) * 4)\n",
        "    df[\"Age\"] = df[\"DAYS_BIRTH\"] // 365\n",
        "    \n",
        "    df[\"before_EMPLOYED_m\"] = np.floor(df[\"before_EMPLOYED\"] / 30) - ((np.floor(df[\"before_EMPLOYED\"] / 30) / 12).astype(int) * 12)\n",
        "    df[\"before_EMPLOYED_w\"] = np.floor(df[\"before_EMPLOYED\"] / 7) - ((np.floor(df[\"before_EMPLOYED\"] / 7) / 4).astype(int) * 4)\n",
        "    \n",
        "    df[\"DAYS_EMPLOYED_m\"] = np.floor(df[\"DAYS_EMPLOYED\"] / 30) - ((np.floor(df[\"DAYS_EMPLOYED\"] / 30) / 12).astype(int) * 12)\n",
        "    df[\"DAYS_EMPLOYED_w\"] = np.floor(df[\"DAYS_EMPLOYED\"] / 7) - ((np.floor(df[\"DAYS_EMPLOYED\"] / 7) / 4).astype(int) * 4)\n",
        "    df[\"EMPLOYED\"] = df[\"DAYS_EMPLOYED\"] // 365\n",
        "#     df['EMPLOYED_begin_month_ratio'] = np.floor(df['begin_month'] / (df[\"DAYS_EMPLOYED\"]) / 30)\n",
        "\n",
        "    #df['ability'] = df['income_total'] / (df['DAYS_BIRTH'] + df['DAYS_EMPLOYED'])\n",
        "    df['income_mean'] = df['income_total'] / df['family_size']\n",
        "    \n",
        "    df['GCR'] = (df['gender'].astype(str) + \"_\" + df['car'].astype(str) + \"_\" + df['reality'].astype(str))\n"
      ],
      "id": "focal-subdivision",
      "execution_count": 10,
      "outputs": []
    },
    {
      "cell_type": "code",
      "metadata": {
        "id": "domestic-singles"
      },
      "source": [
        "# for df in [train,test]:\n",
        "#     df[\"contact\"] = df[\"email\"].astype(str)+df[\"phone\"].astype(str)+ df[\"work_phone\"].astype(str)\n",
        "#     df[\"info\"] = df[\"gender\"].astype(str)+df[\"occyp_type\"].astype(str)+ df[\"edu_type\"].astype(str)\n",
        "# ID_columns = [\"contact\", \"info\"]\n",
        "# for feat in ID_columns:\n",
        "#     order= train[feat][train[\"credit\"]==2].value_counts(normalize= True, sort= True).index\n",
        "#     mapping = {}\n",
        "#     for index, value in enumerate(order):\n",
        "#         mapping[value]= index\n",
        "#     train[feat] = train[feat].map(mapping)\n",
        "#     test[feat] = test[feat].map(mapping)"
      ],
      "id": "domestic-singles",
      "execution_count": null,
      "outputs": []
    },
    {
      "cell_type": "code",
      "metadata": {
        "id": "horizontal-christian"
      },
      "source": [
        "# for df in [train,test]:\n",
        "    \n",
        "#    df[\"contact\"] = df[\"email\"].astype(str) + '-' + df[\"phone\"].astype(str) + '-' + df[\"work_phone\"].astype(str)\n"
      ],
      "id": "horizontal-christian",
      "execution_count": null,
      "outputs": []
    },
    {
      "cell_type": "code",
      "metadata": {
        "id": "aerial-indonesia"
      },
      "source": [
        "# open_month = pd.DataFrame(train.groupby('ID')['begin_month'].min(), index=train.groupby('ID')['begin_month'].min().index)\n",
        "# open_month= open_month.astype('int')\n",
        "# open_month.columns = ['open_month']\n",
        "# om_dict = open_month.open_month.to_dict()\n",
        "\n",
        "# train['open_month'] = train[\"ID\"]\n",
        "# train['open_month'] = train['open_month'].map(om_dict)"
      ],
      "id": "aerial-indonesia",
      "execution_count": null,
      "outputs": []
    },
    {
      "cell_type": "code",
      "metadata": {
        "id": "english-adoption"
      },
      "source": [
        "# open_month = pd.DataFrame(test.groupby('ID')['begin_month'].min(), index=test.groupby('ID')['begin_month'].min().index)\n",
        "# open_month= open_month.astype('int')\n",
        "# open_month.columns = ['open_month']\n",
        "# om_dict = open_month.open_month.to_dict()\n",
        "\n",
        "# test['open_month'] = test[\"ID\"]\n",
        "# test['open_month'] = test['open_month'].map(om_dict)"
      ],
      "id": "english-adoption",
      "execution_count": null,
      "outputs": []
    },
    {
      "cell_type": "code",
      "metadata": {
        "id": "neural-supervision"
      },
      "source": [
        "#train.sort_values(by=['index'], axis=0, inplace=True, ignore_index=True)\n",
        "#test.sort_values(by=['index'], axis=0, inplace=True, ignore_index=True)"
      ],
      "id": "neural-supervision",
      "execution_count": null,
      "outputs": []
    },
    {
      "cell_type": "code",
      "metadata": {
        "id": "stainless-papua"
      },
      "source": [
        "#train.drop(['ID'], axis=1, inplace=True)\n",
        "#test.drop(['ID'], axis=1, inplace=True)"
      ],
      "id": "stainless-papua",
      "execution_count": null,
      "outputs": []
    },
    {
      "cell_type": "code",
      "metadata": {
        "id": "reported-valuable"
      },
      "source": [
        "#new_data=pd.DataFrame(train.groupby([\"ID\"])[\"begin_month\"].agg(min))\n",
        "#new_data"
      ],
      "id": "reported-valuable",
      "execution_count": null,
      "outputs": []
    },
    {
      "cell_type": "markdown",
      "metadata": {
        "id": "frequent-organization"
      },
      "source": [
        "### 사용한, 중요도 낮은 컬럼 삭제"
      ],
      "id": "frequent-organization"
    },
    {
      "cell_type": "code",
      "metadata": {
        "id": "naked-shaft"
      },
      "source": [
        "del_cols = [\n",
        "     'gender',\n",
        "     'car',\n",
        "     'reality',\n",
        "    'child_num',\n",
        "    'DAYS_BIRTH',\n",
        "    'DAYS_EMPLOYED',\n",
        "    'email',\n",
        "#    'parents',\n",
        "#     'phone',\n",
        "#     'work_phone'\n",
        "#     'before_EMPLOYED',\n",
        "#     'ability',\n",
        "    #'income_type', 'edu_type', 'family_size', 'phone', 'house_type', 'work_phone', \n",
        "#     'G_C_R'\n",
        "\n",
        "]\n",
        "\n",
        "train.drop(del_cols, axis=1, inplace=True)\n",
        "test.drop(del_cols, axis=1, inplace=True)"
      ],
      "id": "naked-shaft",
      "execution_count": 11,
      "outputs": []
    },
    {
      "cell_type": "code",
      "metadata": {
        "colab": {
          "base_uri": "https://localhost:8080/"
        },
        "id": "aquatic-witness",
        "outputId": "67729efc-7cab-4999-a55d-e01fe7e6d28c"
      },
      "source": [
        "numerical_feats = train.dtypes[train.dtypes != \"object\"].index.tolist()\n",
        "numerical_feats.remove('credit')\n",
        "# numerical_feats.remove('ID')\n",
        "print(\"Number of Numerical features: \", len(numerical_feats))\n",
        "\n",
        "categorical_feats = train.dtypes[train.dtypes == \"object\"].index.tolist()\n",
        "print(\"Number of Categorical features: \", len(categorical_feats))\n",
        "\n",
        "total_feats = numerical_feats + categorical_feats"
      ],
      "id": "aquatic-witness",
      "execution_count": 12,
      "outputs": [
        {
          "output_type": "stream",
          "text": [
            "Number of Numerical features:  16\n",
            "Number of Categorical features:  6\n"
          ],
          "name": "stdout"
        }
      ]
    },
    {
      "cell_type": "markdown",
      "metadata": {
        "id": "appointed-scientist"
      },
      "source": [
        "## LabelEncoding, Scaling"
      ],
      "id": "appointed-scientist"
    },
    {
      "cell_type": "code",
      "metadata": {
        "colab": {
          "base_uri": "https://localhost:8080/"
        },
        "id": "worst-confidence",
        "outputId": "d98922d0-a73b-419b-80ae-da934b41f3aa"
      },
      "source": [
        "categorical_feats"
      ],
      "id": "worst-confidence",
      "execution_count": null,
      "outputs": [
        {
          "output_type": "execute_result",
          "data": {
            "text/plain": [
              "['income_type', 'edu_type', 'family_type', 'house_type', 'occyp_type', 'GCR']"
            ]
          },
          "metadata": {
            "tags": []
          },
          "execution_count": 25
        }
      ]
    },
    {
      "cell_type": "code",
      "metadata": {
        "id": "centered-liquid"
      },
      "source": [
        "# for df in [train,test]:\n",
        "# #     df['gender'] = df.groupby(['gender'])['index'].transform('count')\n",
        "# #     df['car'] = df.groupby(['car'])['index'].transform('count')\n",
        "# #     df['reality'] = df.groupby(['reality'])['index'].transform('count')\n",
        "# #     df['phone'] = df.groupby(['phone'])['index'].transform('count')\n",
        "# #     df['work_phone'] = df.groupby(['work_phone'])['index'].transform('count')\n",
        "# #     df['email'] = df.groupby(['email'])['index'].transform('count')\n",
        "#     df['ID'] = df.groupby(['ID'])['index'].transform('count')\n",
        "#     df['GCR'] = df.groupby(['GCR'])['index'].transform('count')\n",
        "#     df['income_type'] = df.groupby(['income_type'])['index'].transform('count')\n",
        "#     df['edu_type'] = df.groupby(['edu_type'])['index'].transform('count')\n",
        "#     df['family_type'] = df.groupby(['family_type'])['index'].transform('count')\n",
        "#     df['house_type'] = df.groupby(['house_type'])['index'].transform('count')\n",
        "#     df['occyp_type'] = df.groupby(['occyp_type'])['index'].transform('count')\n"
      ],
      "id": "centered-liquid",
      "execution_count": null,
      "outputs": []
    },
    {
      "cell_type": "code",
      "metadata": {
        "id": "stopped-elimination"
      },
      "source": [
        "for df in [train,test]:\n",
        "    df['income_total'] = np.log1p(1+df['income_total'])\n",
        "    \n"
      ],
      "id": "stopped-elimination",
      "execution_count": 13,
      "outputs": []
    },
    {
      "cell_type": "code",
      "metadata": {
        "id": "impossible-hardwood"
      },
      "source": [
        "for feat in categorical_feats:\n",
        "    encoder = LabelEncoder()\n",
        "    train[feat] = encoder.fit_transform(train[feat])\n",
        "    test[feat] = encoder.transform(test[feat])"
      ],
      "id": "impossible-hardwood",
      "execution_count": 14,
      "outputs": []
    },
    {
      "cell_type": "code",
      "metadata": {
        "id": "negative-seven"
      },
      "source": [
        "kmeans_train = train.drop([\"credit\"], axis=1)\n",
        "kmeans = KMeans(n_clusters=36, random_state=42).fit(kmeans_train)\n",
        "train[\"kmeans_clusters\"] = kmeans.predict(kmeans_train)\n",
        "test[\"kmeans_clusters\"] = kmeans.predict(test)"
      ],
      "id": "negative-seven",
      "execution_count": 15,
      "outputs": []
    },
    {
      "cell_type": "code",
      "metadata": {
        "id": "short-smith"
      },
      "source": [
        "#numerical_feats.remove('begin_month')\n",
        "#numerical_feats.remove('age_groups')\n",
        "numerical_feats.remove('income_total')\n",
        "scaler = StandardScaler()\n",
        "train[numerical_feats] = scaler.fit_transform(train[numerical_feats])\n",
        "test[numerical_feats] = scaler.transform(test[numerical_feats])\n"
      ],
      "id": "short-smith",
      "execution_count": 16,
      "outputs": []
    },
    {
      "cell_type": "markdown",
      "metadata": {
        "id": "handed-boundary"
      },
      "source": [
        "## Modeling"
      ],
      "id": "handed-boundary"
    },
    {
      "cell_type": "code",
      "metadata": {
        "id": "imposed-weekend"
      },
      "source": [
        "n_est = 2000\n",
        "seed = 42\n",
        "n_fold = 10\n",
        "n_class = 3\n",
        "\n",
        "target = 'credit'\n",
        "X = train.drop(target, axis=1)\n",
        "y = train[target]\n",
        "X_test = test"
      ],
      "id": "imposed-weekend",
      "execution_count": 28,
      "outputs": []
    },
    {
      "cell_type": "code",
      "metadata": {
        "id": "failing-recommendation"
      },
      "source": [
        "lgb_params = {\n",
        "                    'objective':'multiclass',\n",
        "                    'num_class': n_class,\n",
        "                    'boosting_type':'gbdt',\n",
        "                    'metric':'multi_logloss',\n",
        "                    'n_jobs':-1,\n",
        "                    'learning_rate':0.01,\n",
        "                    'num_leaves': 127,\n",
        "                    'max_depth':20,\n",
        "                    'tree_learner':'serial',\n",
        "                    \"min_child_weight\": 0.01,\n",
        "                    'colsample_bytree': 0.7,\n",
        "                    'subsample_freq':1,\n",
        "                    'subsample':0.5,\n",
        "                    'n_estimators':n_est,\n",
        "                    'max_bin':800,\n",
        "                    'verbose':-1,\n",
        "                    'seed': seed,\n",
        "                    #'early_stopping_rounds':300, \n",
        "                }\n"
      ],
      "id": "failing-recommendation",
      "execution_count": 19,
      "outputs": []
    },
    {
      "cell_type": "markdown",
      "metadata": {
        "id": "featured-welcome"
      },
      "source": [
        "### Model : LGBM"
      ],
      "id": "featured-welcome"
    },
    {
      "cell_type": "code",
      "metadata": {
        "id": "olive-estate",
        "colab": {
          "base_uri": "https://localhost:8080/"
        },
        "outputId": "0c512abd-844a-4801-e6ee-2663de7b9367"
      },
      "source": [
        "skfold = StratifiedKFold(n_splits=n_fold, shuffle=True, random_state=seed)\n",
        "folds=[]\n",
        "for train_idx, valid_idx in skfold.split(X, y):\n",
        "        folds.append((train_idx, valid_idx))\n",
        "\n",
        "\n",
        "pred = np.zeros((X.shape[0], n_class), dtype=float)\n",
        "pred_test = np.zeros((X_test.shape[0], n_class), dtype=float)\n",
        "for fold in range(n_fold):\n",
        "    train_idx, valid_idx = folds[fold]\n",
        "    X_train, X_valid, y_train, y_valid = X.iloc[train_idx], X.iloc[valid_idx], y[train_idx], y[valid_idx]\n",
        "    model_lgbm = LGBMClassifier(**lgb_params)\n",
        "    model_lgbm.fit(X_train, y_train,\n",
        "            eval_set=[(X_train, y_train), (X_valid, y_valid)],\n",
        "            early_stopping_rounds=100,\n",
        "            verbose=100,)\n",
        "    pred[valid_idx] = model_lgbm.predict_proba(X_valid)\n",
        "    pred_test += model_lgbm.predict_proba(X_test) / n_fold\n",
        "    \n",
        "log_score = log_loss(y, pred)\n",
        "print(f'\\tCV Log Loss: {log_loss(y, pred):.6f}')"
      ],
      "id": "olive-estate",
      "execution_count": null,
      "outputs": [
        {
          "output_type": "stream",
          "text": [
            "Training until validation scores don't improve for 100 rounds.\n",
            "[100]\ttraining's multi_logloss: 0.758333\tvalid_1's multi_logloss: 0.797658\n",
            "[200]\ttraining's multi_logloss: 0.687374\tvalid_1's multi_logloss: 0.75912\n",
            "[300]\ttraining's multi_logloss: 0.636284\tvalid_1's multi_logloss: 0.735792\n",
            "[400]\ttraining's multi_logloss: 0.595966\tvalid_1's multi_logloss: 0.720939\n",
            "[500]\ttraining's multi_logloss: 0.56235\tvalid_1's multi_logloss: 0.709229\n",
            "[600]\ttraining's multi_logloss: 0.533477\tvalid_1's multi_logloss: 0.700563\n",
            "[700]\ttraining's multi_logloss: 0.508049\tvalid_1's multi_logloss: 0.693693\n",
            "[800]\ttraining's multi_logloss: 0.485615\tvalid_1's multi_logloss: 0.688624\n",
            "[900]\ttraining's multi_logloss: 0.465259\tvalid_1's multi_logloss: 0.68557\n",
            "[1000]\ttraining's multi_logloss: 0.446695\tvalid_1's multi_logloss: 0.682764\n",
            "[1100]\ttraining's multi_logloss: 0.42961\tvalid_1's multi_logloss: 0.680598\n",
            "[1200]\ttraining's multi_logloss: 0.413818\tvalid_1's multi_logloss: 0.678938\n",
            "[1300]\ttraining's multi_logloss: 0.399205\tvalid_1's multi_logloss: 0.678687\n",
            "[1400]\ttraining's multi_logloss: 0.385531\tvalid_1's multi_logloss: 0.678622\n",
            "Early stopping, best iteration is:\n",
            "[1335]\ttraining's multi_logloss: 0.394264\tvalid_1's multi_logloss: 0.678442\n",
            "Training until validation scores don't improve for 100 rounds.\n",
            "[100]\ttraining's multi_logloss: 0.757\tvalid_1's multi_logloss: 0.802965\n",
            "[200]\ttraining's multi_logloss: 0.685804\tvalid_1's multi_logloss: 0.766815\n",
            "[300]\ttraining's multi_logloss: 0.634455\tvalid_1's multi_logloss: 0.744638\n",
            "[400]\ttraining's multi_logloss: 0.594234\tvalid_1's multi_logloss: 0.728974\n",
            "[500]\ttraining's multi_logloss: 0.560745\tvalid_1's multi_logloss: 0.71742\n",
            "[600]\ttraining's multi_logloss: 0.531879\tvalid_1's multi_logloss: 0.709201\n",
            "[700]\ttraining's multi_logloss: 0.506661\tvalid_1's multi_logloss: 0.703156\n",
            "[800]\ttraining's multi_logloss: 0.484261\tvalid_1's multi_logloss: 0.69894\n",
            "[900]\ttraining's multi_logloss: 0.463912\tvalid_1's multi_logloss: 0.695717\n"
          ],
          "name": "stdout"
        }
      ]
    },
    {
      "cell_type": "code",
      "metadata": {
        "id": "chief-anchor",
        "colab": {
          "base_uri": "https://localhost:8080/",
          "height": 731
        },
        "outputId": "d790cd5a-8c07-43ae-9229-c0b51cf435b9"
      },
      "source": [
        "from lightgbm import plot_importance\n",
        "import matplotlib.pyplot as plt\n",
        "%matplotlib inline\n",
        "\n",
        "\n",
        "f, ax = plt.subplots(figsize=(6, 6))\n",
        "plot_importance(model_lgbm, ax=ax, max_num_features=len(X_test.columns))\n",
        "#plt.savefig('Feature importance_0505다시시도 기본판.png')"
      ],
      "id": "chief-anchor",
      "execution_count": 35,
      "outputs": [
        {
          "output_type": "error",
          "ename": "TypeError",
          "evalue": "ignored",
          "traceback": [
            "\u001b[0;31m---------------------------------------------------------------------------\u001b[0m",
            "\u001b[0;31mTypeError\u001b[0m                                 Traceback (most recent call last)",
            "\u001b[0;32m<ipython-input-35-03327c8ad18e>\u001b[0m in \u001b[0;36m<module>\u001b[0;34m()\u001b[0m\n\u001b[1;32m      5\u001b[0m \u001b[0;34m\u001b[0m\u001b[0m\n\u001b[1;32m      6\u001b[0m \u001b[0mf\u001b[0m\u001b[0;34m,\u001b[0m \u001b[0max\u001b[0m \u001b[0;34m=\u001b[0m \u001b[0mplt\u001b[0m\u001b[0;34m.\u001b[0m\u001b[0msubplots\u001b[0m\u001b[0;34m(\u001b[0m\u001b[0mfigsize\u001b[0m\u001b[0;34m=\u001b[0m\u001b[0;34m(\u001b[0m\u001b[0;36m6\u001b[0m\u001b[0;34m,\u001b[0m \u001b[0;36m6\u001b[0m\u001b[0;34m)\u001b[0m\u001b[0;34m)\u001b[0m\u001b[0;34m\u001b[0m\u001b[0;34m\u001b[0m\u001b[0m\n\u001b[0;32m----> 7\u001b[0;31m \u001b[0mplot_importance\u001b[0m\u001b[0;34m(\u001b[0m\u001b[0mmodel\u001b[0m\u001b[0;34m,\u001b[0m \u001b[0max\u001b[0m\u001b[0;34m=\u001b[0m\u001b[0max\u001b[0m\u001b[0;34m,\u001b[0m \u001b[0mmax_num_features\u001b[0m\u001b[0;34m=\u001b[0m\u001b[0mlen\u001b[0m\u001b[0;34m(\u001b[0m\u001b[0mX_test\u001b[0m\u001b[0;34m.\u001b[0m\u001b[0mcolumns\u001b[0m\u001b[0;34m)\u001b[0m\u001b[0;34m)\u001b[0m\u001b[0;34m\u001b[0m\u001b[0;34m\u001b[0m\u001b[0m\n\u001b[0m\u001b[1;32m      8\u001b[0m \u001b[0;31m#plt.savefig('Feature importance_0505다시시도 기본판.png')\u001b[0m\u001b[0;34m\u001b[0m\u001b[0;34m\u001b[0m\u001b[0;34m\u001b[0m\u001b[0m\n",
            "\u001b[0;32m/usr/local/lib/python3.7/dist-packages/lightgbm/plotting.py\u001b[0m in \u001b[0;36mplot_importance\u001b[0;34m(booster, ax, height, xlim, ylim, title, xlabel, ylabel, importance_type, max_num_features, ignore_zero, figsize, grid, precision, **kwargs)\u001b[0m\n\u001b[1;32m     89\u001b[0m         \u001b[0mbooster\u001b[0m \u001b[0;34m=\u001b[0m \u001b[0mbooster\u001b[0m\u001b[0;34m.\u001b[0m\u001b[0mbooster_\u001b[0m\u001b[0;34m\u001b[0m\u001b[0;34m\u001b[0m\u001b[0m\n\u001b[1;32m     90\u001b[0m     \u001b[0;32melif\u001b[0m \u001b[0;32mnot\u001b[0m \u001b[0misinstance\u001b[0m\u001b[0;34m(\u001b[0m\u001b[0mbooster\u001b[0m\u001b[0;34m,\u001b[0m \u001b[0mBooster\u001b[0m\u001b[0;34m)\u001b[0m\u001b[0;34m:\u001b[0m\u001b[0;34m\u001b[0m\u001b[0;34m\u001b[0m\u001b[0m\n\u001b[0;32m---> 91\u001b[0;31m         \u001b[0;32mraise\u001b[0m \u001b[0mTypeError\u001b[0m\u001b[0;34m(\u001b[0m\u001b[0;34m'booster must be Booster or LGBMModel.'\u001b[0m\u001b[0;34m)\u001b[0m\u001b[0;34m\u001b[0m\u001b[0;34m\u001b[0m\u001b[0m\n\u001b[0m\u001b[1;32m     92\u001b[0m \u001b[0;34m\u001b[0m\u001b[0m\n\u001b[1;32m     93\u001b[0m     \u001b[0mimportance\u001b[0m \u001b[0;34m=\u001b[0m \u001b[0mbooster\u001b[0m\u001b[0;34m.\u001b[0m\u001b[0mfeature_importance\u001b[0m\u001b[0;34m(\u001b[0m\u001b[0mimportance_type\u001b[0m\u001b[0;34m=\u001b[0m\u001b[0mimportance_type\u001b[0m\u001b[0;34m)\u001b[0m\u001b[0;34m\u001b[0m\u001b[0;34m\u001b[0m\u001b[0m\n",
            "\u001b[0;31mTypeError\u001b[0m: booster must be Booster or LGBMModel."
          ]
        },
        {
          "output_type": "display_data",
          "data": {
            "image/png": "[encoded data removed]",
            "text/plain": [
              "<Figure size 432x432 with 1 Axes>"
            ]
          },
          "metadata": {
            "tags": [],
            "needs_background": "light"
          }
        }
      ]
    },
    {
      "cell_type": "markdown",
      "metadata": {
        "id": "measured-ecology"
      },
      "source": [
        "### Model : RF"
      ],
      "id": "measured-ecology"
    },
    {
      "cell_type": "code",
      "metadata": {
        "id": "instant-mortality"
      },
      "source": [
        "rf_params = {\n",
        "        \"criterion\": \"gini\",\n",
        "        \"n_estimators\": 1500,\n",
        "        \"min_samples_split\": 10,\n",
        "        \"min_samples_leaf\": 1,\n",
        "        \"max_features\": \"auto\",\n",
        "        \"oob_score\": True,\n",
        "        \"random_state\": seed,\n",
        "        \"n_jobs\": -1,\n",
        "}"
      ],
      "id": "instant-mortality",
      "execution_count": 29,
      "outputs": []
    },
    {
      "cell_type": "code",
      "metadata": {
        "colab": {
          "base_uri": "https://localhost:8080/"
        },
        "id": "phantom-allen",
        "outputId": "599f9ccb-f6f9-4db8-a94b-d1b3700278fc"
      },
      "source": [
        "folds = StratifiedKFold(n_splits=n_fold, shuffle=True, random_state=42)\n",
        "rf_oof = np.zeros((X.shape[0], 3))\n",
        "rf_preds = np.zeros((X_test.shape[0], 3))\n",
        "\n",
        "for fold, (train_idx, valid_idx) in enumerate(folds.split(X, y)):\n",
        "    print(f\"============ Fold {fold} ============\\n\")\n",
        "    X_train, X_valid = X.iloc[train_idx], X.iloc[valid_idx]\n",
        "    y_train, y_valid = y.iloc[train_idx], y.iloc[valid_idx]\n",
        "    model_rf = RandomForestClassifier(**rf_params)\n",
        "    model_rf.fit(\n",
        "            X_train,\n",
        "            y_train,\n",
        "        )\n",
        "\n",
        "    rf_oof[valid_idx] = model_rf.predict_proba(X_valid)\n",
        "    rf_preds += model_rf.predict_proba(X_test) / n_fold\n",
        "    print(f\"CV Log Loss: {log_loss(y_valid, rf_oof[valid_idx]):.5f}\")\n",
        "\n",
        "log_score = log_loss(y, rf_oof)\n",
        "print(f\"Log Loss Score: {log_score:.5f}\")"
      ],
      "id": "phantom-allen",
      "execution_count": 30,
      "outputs": [
        {
          "output_type": "stream",
          "text": [
            "============ Fold 0 ============\n",
            "\n",
            "CV Log Loss: 0.67451\n",
            "============ Fold 1 ============\n",
            "\n",
            "CV Log Loss: 0.67763\n",
            "============ Fold 2 ============\n",
            "\n",
            "CV Log Loss: 0.67997\n",
            "============ Fold 3 ============\n",
            "\n",
            "CV Log Loss: 0.69108\n",
            "============ Fold 4 ============\n",
            "\n",
            "CV Log Loss: 0.67590\n",
            "============ Fold 5 ============\n",
            "\n",
            "CV Log Loss: 0.70523\n",
            "============ Fold 6 ============\n",
            "\n",
            "CV Log Loss: 0.68286\n",
            "============ Fold 7 ============\n",
            "\n",
            "CV Log Loss: 0.68674\n",
            "============ Fold 8 ============\n",
            "\n",
            "CV Log Loss: 0.68930\n",
            "============ Fold 9 ============\n",
            "\n",
            "CV Log Loss: 0.69376\n",
            "Log Loss Score: 0.68570\n"
          ],
          "name": "stdout"
        }
      ]
    },
    {
      "cell_type": "markdown",
      "metadata": {
        "id": "legitimate-ladder"
      },
      "source": [
        "### Model : XGB"
      ],
      "id": "legitimate-ladder"
    },
    {
      "cell_type": "code",
      "metadata": {
        "id": "opened-memphis"
      },
      "source": [
        "xgb_params = {\n",
        "        \"random_state\": seed,\n",
        "        \"n_estimators\": 3000,\n",
        "        \"objective\": \"multi:softmax\",\n",
        "        \"eval_metric\": \"mlogloss\",\n",
        "        \"eta\": 0.01,\n",
        "        \"reg_alpha\": 3e-5,\n",
        "        \"reg_lambda\": 9e-2,\n",
        "        \"max_depth\": 20,\n",
        "        \"max_leaves\": 127,\n",
        "        \"colsample_bytree\": 1.0,\n",
        "        \"subsample\": 1.0,\n",
        "        \"min_child_weight\": 5,\n",
        "        \"gamma\": 0.5,\n",
        "}"
      ],
      "id": "opened-memphis",
      "execution_count": 37,
      "outputs": []
    },
    {
      "cell_type": "code",
      "metadata": {
        "id": "varied-scratch",
        "colab": {
          "base_uri": "https://localhost:8080/"
        },
        "outputId": "b38ff46b-9b86-44eb-e4e5-6408e5ee2b65"
      },
      "source": [
        "folds = StratifiedKFold(n_splits=n_fold, shuffle=True, random_state=42)\n",
        "xgb_oof = np.zeros((X.shape[0], 3))\n",
        "xgb_preds = np.zeros((X_test.shape[0], 3))\n",
        "\n",
        "for fold, (train_idx, valid_idx) in enumerate(folds.split(X, y)):\n",
        "    print(f\"============ Fold {fold} ============\\n\")\n",
        "    X_train, X_valid = X.iloc[train_idx], X.iloc[valid_idx]\n",
        "    y_train, y_valid = y.iloc[train_idx], y.iloc[valid_idx]\n",
        "\n",
        "    model_xgb = XGBClassifier(**xgb_params)\n",
        "    model_xgb.fit(\n",
        "            X_train,\n",
        "            y_train,\n",
        "            eval_set=[(X_train, y_train), (X_valid, y_valid)],\n",
        "            early_stopping_rounds=100,\n",
        "            verbose=100,\n",
        "    )\n",
        "\n",
        "    xgb_oof[valid_idx] = model_xgb.predict_proba(X_valid)\n",
        "    xgb_preds += model_xgb.predict_proba(X_test) / n_fold\n",
        "\n",
        "log_score = log_loss(y, xgb_oof)\n",
        "print(f\"Log Loss Score: {log_score:.5f}\")"
      ],
      "id": "varied-scratch",
      "execution_count": 38,
      "outputs": [
        {
          "output_type": "stream",
          "text": [
            "============ Fold 0 ============\n",
            "\n",
            "[0]\tvalidation_0-mlogloss:1.0263\tvalidation_1-mlogloss:1.04237\n",
            "Multiple eval metrics have been passed: 'validation_1-mlogloss' will be used for early stopping.\n",
            "\n",
            "Will train until validation_1-mlogloss hasn't improved in 100 rounds.\n",
            "[100]\tvalidation_0-mlogloss:0.264236\tvalidation_1-mlogloss:0.707256\n",
            "Stopping. Best iteration:\n",
            "[41]\tvalidation_0-mlogloss:0.374036\tvalidation_1-mlogloss:0.694775\n",
            "\n",
            "============ Fold 1 ============\n",
            "\n",
            "[0]\tvalidation_0-mlogloss:1.02794\tvalidation_1-mlogloss:1.04495\n",
            "Multiple eval metrics have been passed: 'validation_1-mlogloss' will be used for early stopping.\n",
            "\n",
            "Will train until validation_1-mlogloss hasn't improved in 100 rounds.\n",
            "[100]\tvalidation_0-mlogloss:0.257012\tvalidation_1-mlogloss:0.736344\n",
            "Stopping. Best iteration:\n",
            "[36]\tvalidation_0-mlogloss:0.381015\tvalidation_1-mlogloss:0.717071\n",
            "\n",
            "============ Fold 2 ============\n",
            "\n",
            "[0]\tvalidation_0-mlogloss:1.02871\tvalidation_1-mlogloss:1.04439\n",
            "Multiple eval metrics have been passed: 'validation_1-mlogloss' will be used for early stopping.\n",
            "\n",
            "Will train until validation_1-mlogloss hasn't improved in 100 rounds.\n",
            "[100]\tvalidation_0-mlogloss:0.249609\tvalidation_1-mlogloss:0.734054\n",
            "Stopping. Best iteration:\n",
            "[35]\tvalidation_0-mlogloss:0.397171\tvalidation_1-mlogloss:0.70618\n",
            "\n",
            "============ Fold 3 ============\n",
            "\n",
            "[0]\tvalidation_0-mlogloss:1.02952\tvalidation_1-mlogloss:1.04532\n",
            "Multiple eval metrics have been passed: 'validation_1-mlogloss' will be used for early stopping.\n",
            "\n",
            "Will train until validation_1-mlogloss hasn't improved in 100 rounds.\n",
            "[100]\tvalidation_0-mlogloss:0.25441\tvalidation_1-mlogloss:0.742806\n",
            "Stopping. Best iteration:\n",
            "[34]\tvalidation_0-mlogloss:0.401765\tvalidation_1-mlogloss:0.713382\n",
            "\n",
            "============ Fold 4 ============\n",
            "\n",
            "[0]\tvalidation_0-mlogloss:1.02553\tvalidation_1-mlogloss:1.04403\n",
            "Multiple eval metrics have been passed: 'validation_1-mlogloss' will be used for early stopping.\n",
            "\n",
            "Will train until validation_1-mlogloss hasn't improved in 100 rounds.\n",
            "[100]\tvalidation_0-mlogloss:0.260291\tvalidation_1-mlogloss:0.711413\n",
            "Stopping. Best iteration:\n",
            "[37]\tvalidation_0-mlogloss:0.378201\tvalidation_1-mlogloss:0.694562\n",
            "\n",
            "============ Fold 5 ============\n",
            "\n",
            "[0]\tvalidation_0-mlogloss:1.02737\tvalidation_1-mlogloss:1.04551\n",
            "Multiple eval metrics have been passed: 'validation_1-mlogloss' will be used for early stopping.\n",
            "\n",
            "Will train until validation_1-mlogloss hasn't improved in 100 rounds.\n",
            "[100]\tvalidation_0-mlogloss:0.264788\tvalidation_1-mlogloss:0.748142\n",
            "Stopping. Best iteration:\n",
            "[35]\tvalidation_0-mlogloss:0.394433\tvalidation_1-mlogloss:0.724275\n",
            "\n",
            "============ Fold 6 ============\n",
            "\n",
            "[0]\tvalidation_0-mlogloss:1.02911\tvalidation_1-mlogloss:1.04417\n",
            "Multiple eval metrics have been passed: 'validation_1-mlogloss' will be used for early stopping.\n",
            "\n",
            "Will train until validation_1-mlogloss hasn't improved in 100 rounds.\n",
            "[100]\tvalidation_0-mlogloss:0.251556\tvalidation_1-mlogloss:0.729807\n",
            "Stopping. Best iteration:\n",
            "[36]\tvalidation_0-mlogloss:0.391207\tvalidation_1-mlogloss:0.71024\n",
            "\n",
            "============ Fold 7 ============\n",
            "\n",
            "[0]\tvalidation_0-mlogloss:1.02714\tvalidation_1-mlogloss:1.04343\n",
            "Multiple eval metrics have been passed: 'validation_1-mlogloss' will be used for early stopping.\n",
            "\n",
            "Will train until validation_1-mlogloss hasn't improved in 100 rounds.\n",
            "[100]\tvalidation_0-mlogloss:0.258281\tvalidation_1-mlogloss:0.736895\n",
            "Stopping. Best iteration:\n",
            "[38]\tvalidation_0-mlogloss:0.374243\tvalidation_1-mlogloss:0.717077\n",
            "\n",
            "============ Fold 8 ============\n",
            "\n",
            "[0]\tvalidation_0-mlogloss:1.02445\tvalidation_1-mlogloss:1.04312\n",
            "Multiple eval metrics have been passed: 'validation_1-mlogloss' will be used for early stopping.\n",
            "\n",
            "Will train until validation_1-mlogloss hasn't improved in 100 rounds.\n",
            "[100]\tvalidation_0-mlogloss:0.252933\tvalidation_1-mlogloss:0.739395\n",
            "Stopping. Best iteration:\n",
            "[37]\tvalidation_0-mlogloss:0.387363\tvalidation_1-mlogloss:0.714173\n",
            "\n",
            "============ Fold 9 ============\n",
            "\n",
            "[0]\tvalidation_0-mlogloss:1.02777\tvalidation_1-mlogloss:1.0433\n",
            "Multiple eval metrics have been passed: 'validation_1-mlogloss' will be used for early stopping.\n",
            "\n",
            "Will train until validation_1-mlogloss hasn't improved in 100 rounds.\n",
            "[100]\tvalidation_0-mlogloss:0.251148\tvalidation_1-mlogloss:0.733061\n",
            "Stopping. Best iteration:\n",
            "[37]\tvalidation_0-mlogloss:0.382279\tvalidation_1-mlogloss:0.709773\n",
            "\n",
            "Log Loss Score: 0.71015\n"
          ],
          "name": "stdout"
        }
      ]
    },
    {
      "cell_type": "markdown",
      "metadata": {
        "id": "substantial-easter"
      },
      "source": [
        "### Model : Catboost"
      ],
      "id": "substantial-easter"
    },
    {
      "cell_type": "code",
      "metadata": {
        "id": "floating-sheffield"
      },
      "source": [
        "cat_params = {\n",
        "        \"l2_leaf_reg\": 0.08,\n",
        "        \"max_depth\": 10,\n",
        "        \"bagging_temperature\": 1,\n",
        "        \"min_data_in_leaf\": 72,\n",
        "        \"max_bin\": 300,\n",
        "        \"random_state\": seed,\n",
        "        \"eval_metric\": \"MultiClass\",\n",
        "        \"loss_function\": \"MultiClass\",\n",
        "        \"learning_rate\": 0.01,\n",
        "        \"od_type\": \"Iter\",\n",
        "        \"od_wait\": 500,\n",
        "        \"n_estimators\": 2000,\n",
        "        \"cat_features\": [\n",
        "            \"income_type\",\n",
        "            \"edu_type\",\n",
        "            \"family_type\",\n",
        "            \"house_type\",\n",
        "            \"occyp_type\",\n",
        "            \"GCR\",\n",
        "        ],\n",
        "    }"
      ],
      "id": "floating-sheffield",
      "execution_count": null,
      "outputs": []
    },
    {
      "cell_type": "code",
      "metadata": {
        "id": "controversial-james",
        "scrolled": false,
        "outputId": "29b9a053-10f3-4c81-9df0-42ad3e13711b"
      },
      "source": [
        "folds = StratifiedKFold(n_splits=n_fold, shuffle=True, random_state=42)\n",
        "cat_oof = np.zeros((X.shape[0], 3))\n",
        "cat_preds = np.zeros((X_test.shape[0], 3))\n",
        "cat_cols = [\n",
        "        \"income_type\",\n",
        "        \"edu_type\",\n",
        "        \"family_type\",\n",
        "        \"house_type\",\n",
        "        \"occyp_type\",\n",
        "        \"GCR\",\n",
        "]\n",
        "\n",
        "for fold, (train_idx, valid_idx) in enumerate(folds.split(X, y)):\n",
        "    print(f\"============ Fold {fold} ============\\n\")\n",
        "    X_train, X_valid = X.iloc[train_idx], X.iloc[valid_idx]\n",
        "    y_train, y_valid = y.iloc[train_idx], y.iloc[valid_idx]\n",
        "    train_data = Pool(data=X_train, label=y_train, cat_features=cat_cols)\n",
        "    valid_data = Pool(data=X_valid, label=y_valid, cat_features=cat_cols)\n",
        "\n",
        "    model_cat = CatBoostClassifier(**cat_params)\n",
        "\n",
        "    model_cat.fit(\n",
        "        X_train,\n",
        "        y_train,\n",
        "        eval_set=[(X_train, y_train), (X_valid, y_valid)],\n",
        "        use_best_model=True,\n",
        "        early_stopping_rounds=100,\n",
        "        verbose=100,\n",
        "    )\n",
        "\n",
        "    cat_oof[valid_idx] = model_cat.predict_proba(X_valid)\n",
        "    cat_preds += model_cat.predict_proba(X_test) / n_fold\n",
        "\n",
        "log_score = log_loss(y, cat_oof)\n",
        "print(f\"Log Loss Score: {log_score:.5f}\\n\")"
      ],
      "id": "controversial-james",
      "execution_count": null,
      "outputs": [
        {
          "output_type": "stream",
          "text": [
            "============ Fold 0 ============\n",
            "\n",
            "0:\tlearn: 1.0922848\ttest: 1.0922848\ttest1: 1.0925674\tbest: 1.0925674 (0)\ttotal: 604ms\tremaining: 20m 7s\n",
            "100:\tlearn: 0.8468280\ttest: 0.8485395\ttest1: 0.8505082\tbest: 0.8505082 (100)\ttotal: 37.1s\tremaining: 11m 37s\n",
            "200:\tlearn: 0.7972349\ttest: 0.8022626\ttest1: 0.8092762\tbest: 0.8092762 (200)\ttotal: 1m 20s\tremaining: 12m 3s\n",
            "300:\tlearn: 0.7667936\ttest: 0.7795865\ttest1: 0.7963925\tbest: 0.7963925 (300)\ttotal: 2m 22s\tremaining: 13m 23s\n",
            "400:\tlearn: 0.7382263\ttest: 0.7599362\ttest1: 0.7866394\tbest: 0.7866394 (400)\ttotal: 3m 28s\tremaining: 13m 53s\n",
            "500:\tlearn: 0.7137022\ttest: 0.7441323\ttest1: 0.7797359\tbest: 0.7797359 (500)\ttotal: 4m 35s\tremaining: 13m 44s\n",
            "600:\tlearn: 0.6876843\ttest: 0.7268937\ttest1: 0.7723448\tbest: 0.7723448 (600)\ttotal: 5m 43s\tremaining: 13m 19s\n",
            "700:\tlearn: 0.6654265\ttest: 0.7127062\ttest1: 0.7669628\tbest: 0.7669628 (700)\ttotal: 6m 48s\tremaining: 12m 37s\n",
            "800:\tlearn: 0.6425336\ttest: 0.6986527\ttest1: 0.7614171\tbest: 0.7614171 (800)\ttotal: 7m 55s\tremaining: 11m 52s\n",
            "900:\tlearn: 0.6187021\ttest: 0.6812335\ttest1: 0.7545094\tbest: 0.7545094 (900)\ttotal: 9m 2s\tremaining: 11m 1s\n",
            "1000:\tlearn: 0.5933906\ttest: 0.6630313\ttest1: 0.7473447\tbest: 0.7473447 (1000)\ttotal: 10m 13s\tremaining: 10m 11s\n",
            "1100:\tlearn: 0.5685581\ttest: 0.6424464\ttest1: 0.7403726\tbest: 0.7403726 (1100)\ttotal: 11m 28s\tremaining: 9m 21s\n",
            "1200:\tlearn: 0.5435985\ttest: 0.6204781\ttest1: 0.7335835\tbest: 0.7335835 (1200)\ttotal: 12m 34s\tremaining: 8m 22s\n",
            "1300:\tlearn: 0.5187682\ttest: 0.5981748\ttest1: 0.7274990\tbest: 0.7274990 (1300)\ttotal: 13m 41s\tremaining: 7m 21s\n",
            "1400:\tlearn: 0.4959061\ttest: 0.5770733\ttest1: 0.7228774\tbest: 0.7228774 (1400)\ttotal: 14m 47s\tremaining: 6m 19s\n",
            "1500:\tlearn: 0.4743829\ttest: 0.5576895\ttest1: 0.7189226\tbest: 0.7189226 (1500)\ttotal: 15m 50s\tremaining: 5m 16s\n",
            "1600:\tlearn: 0.4544470\ttest: 0.5411022\ttest1: 0.7160989\tbest: 0.7160989 (1600)\ttotal: 16m 59s\tremaining: 4m 14s\n",
            "1700:\tlearn: 0.4356037\ttest: 0.5251332\ttest1: 0.7136200\tbest: 0.7136186 (1698)\ttotal: 18m 4s\tremaining: 3m 10s\n",
            "1800:\tlearn: 0.4183977\ttest: 0.5102323\ttest1: 0.7118514\tbest: 0.7118514 (1800)\ttotal: 19m 9s\tremaining: 2m 6s\n",
            "1900:\tlearn: 0.4025734\ttest: 0.4978546\ttest1: 0.7104185\tbest: 0.7104008 (1897)\ttotal: 20m 14s\tremaining: 1m 3s\n",
            "1999:\tlearn: 0.3881637\ttest: 0.4861444\ttest1: 0.7095738\tbest: 0.7095572 (1994)\ttotal: 21m 31s\tremaining: 0us\n",
            "\n",
            "bestTest = 0.7095572367\n",
            "bestIteration = 1994\n",
            "\n",
            "Shrink model to first 1995 iterations.\n",
            "============ Fold 1 ============\n",
            "\n",
            "0:\tlearn: 1.0925205\ttest: 1.0925963\ttest1: 1.0927771\tbest: 1.0927771 (0)\ttotal: 721ms\tremaining: 24m 1s\n",
            "100:\tlearn: 0.8494363\ttest: 0.8506948\ttest1: 0.8565278\tbest: 0.8565278 (100)\ttotal: 33.1s\tremaining: 10m 21s\n",
            "200:\tlearn: 0.7945394\ttest: 0.8006547\ttest1: 0.8159876\tbest: 0.8159876 (200)\ttotal: 1m 18s\tremaining: 11m 46s\n",
            "300:\tlearn: 0.7653745\ttest: 0.7804949\ttest1: 0.8036626\tbest: 0.8036626 (300)\ttotal: 2m 17s\tremaining: 12m 58s\n",
            "400:\tlearn: 0.7363626\ttest: 0.7631626\ttest1: 0.7947222\tbest: 0.7947222 (400)\ttotal: 3m 27s\tremaining: 13m 46s\n",
            "500:\tlearn: 0.7080892\ttest: 0.7442760\ttest1: 0.7859928\tbest: 0.7859928 (500)\ttotal: 4m 32s\tremaining: 13m 34s\n",
            "600:\tlearn: 0.6837584\ttest: 0.7292383\ttest1: 0.7795732\tbest: 0.7795732 (600)\ttotal: 5m 40s\tremaining: 13m 13s\n",
            "700:\tlearn: 0.6614624\ttest: 0.7162838\ttest1: 0.7742687\tbest: 0.7742684 (699)\ttotal: 6m 47s\tremaining: 12m 34s\n",
            "800:\tlearn: 0.6364892\ttest: 0.7009761\ttest1: 0.7681126\tbest: 0.7681126 (800)\ttotal: 7m 55s\tremaining: 11m 52s\n",
            "900:\tlearn: 0.6141523\ttest: 0.6884388\ttest1: 0.7636696\tbest: 0.7636696 (900)\ttotal: 9m 7s\tremaining: 11m 8s\n",
            "1000:\tlearn: 0.5873062\ttest: 0.6702784\ttest1: 0.7575649\tbest: 0.7575649 (1000)\ttotal: 10m 21s\tremaining: 10m 20s\n",
            "1100:\tlearn: 0.5610403\ttest: 0.6493232\ttest1: 0.7498737\tbest: 0.7498737 (1100)\ttotal: 11m 38s\tremaining: 9m 30s\n",
            "1200:\tlearn: 0.5348824\ttest: 0.6267017\ttest1: 0.7431171\tbest: 0.7431171 (1200)\ttotal: 12m 46s\tremaining: 8m 29s\n",
            "1300:\tlearn: 0.5103726\ttest: 0.6048223\ttest1: 0.7363276\tbest: 0.7363276 (1300)\ttotal: 13m 50s\tremaining: 7m 26s\n",
            "1400:\tlearn: 0.4868752\ttest: 0.5855023\ttest1: 0.7311919\tbest: 0.7311919 (1400)\ttotal: 14m 58s\tremaining: 6m 24s\n",
            "1500:\tlearn: 0.4658264\ttest: 0.5682049\ttest1: 0.7273712\tbest: 0.7273712 (1500)\ttotal: 16m 6s\tremaining: 5m 21s\n",
            "1600:\tlearn: 0.4455190\ttest: 0.5518308\ttest1: 0.7241953\tbest: 0.7241953 (1600)\ttotal: 17m 13s\tremaining: 4m 17s\n",
            "1700:\tlearn: 0.4266285\ttest: 0.5363280\ttest1: 0.7214135\tbest: 0.7213908 (1699)\ttotal: 18m 19s\tremaining: 3m 13s\n",
            "1800:\tlearn: 0.4097355\ttest: 0.5238805\ttest1: 0.7199269\tbest: 0.7199131 (1797)\ttotal: 19m 28s\tremaining: 2m 9s\n",
            "1900:\tlearn: 0.3934548\ttest: 0.5115419\ttest1: 0.7185953\tbest: 0.7185800 (1890)\ttotal: 20m 38s\tremaining: 1m 4s\n",
            "1999:\tlearn: 0.3782540\ttest: 0.5004932\ttest1: 0.7177137\tbest: 0.7177137 (1999)\ttotal: 21m 48s\tremaining: 0us\n",
            "\n",
            "bestTest = 0.7177137277\n",
            "bestIteration = 1999\n",
            "\n",
            "============ Fold 2 ============\n",
            "\n",
            "0:\tlearn: 1.0926228\ttest: 1.0926620\ttest1: 1.0927836\tbest: 1.0927836 (0)\ttotal: 664ms\tremaining: 22m 8s\n",
            "100:\tlearn: 0.8483269\ttest: 0.8495597\ttest1: 0.8541045\tbest: 0.8541045 (100)\ttotal: 34.6s\tremaining: 10m 51s\n",
            "200:\tlearn: 0.8010693\ttest: 0.8049436\ttest1: 0.8147779\tbest: 0.8147779 (200)\ttotal: 1m 11s\tremaining: 10m 40s\n",
            "300:\tlearn: 0.7724404\ttest: 0.7820863\ttest1: 0.8004589\tbest: 0.8004589 (300)\ttotal: 2m 7s\tremaining: 11m 59s\n",
            "400:\tlearn: 0.7428410\ttest: 0.7618262\ttest1: 0.7896266\tbest: 0.7896266 (400)\ttotal: 3m 11s\tremaining: 12m 45s\n",
            "500:\tlearn: 0.7137471\ttest: 0.7418075\ttest1: 0.7800608\tbest: 0.7800608 (500)\ttotal: 4m 21s\tremaining: 13m 2s\n",
            "600:\tlearn: 0.6854781\ttest: 0.7213074\ttest1: 0.7705686\tbest: 0.7705686 (600)\ttotal: 5m 30s\tremaining: 12m 50s\n",
            "700:\tlearn: 0.6599523\ttest: 0.7030643\ttest1: 0.7626716\tbest: 0.7626716 (700)\ttotal: 6m 42s\tremaining: 12m 25s\n",
            "800:\tlearn: 0.6361644\ttest: 0.6865329\ttest1: 0.7554592\tbest: 0.7554592 (800)\ttotal: 7m 52s\tremaining: 11m 47s\n",
            "900:\tlearn: 0.6135311\ttest: 0.6702616\ttest1: 0.7494987\tbest: 0.7494987 (900)\ttotal: 9m 3s\tremaining: 11m 2s\n",
            "1000:\tlearn: 0.5876530\ttest: 0.6514339\ttest1: 0.7432183\tbest: 0.7432183 (1000)\ttotal: 10m 16s\tremaining: 10m 15s\n",
            "1100:\tlearn: 0.5634394\ttest: 0.6325842\ttest1: 0.7371976\tbest: 0.7371976 (1100)\ttotal: 11m 32s\tremaining: 9m 25s\n",
            "1200:\tlearn: 0.5355384\ttest: 0.6075572\ttest1: 0.7308700\tbest: 0.7308700 (1200)\ttotal: 12m 39s\tremaining: 8m 25s\n",
            "1300:\tlearn: 0.5120275\ttest: 0.5866231\ttest1: 0.7264149\tbest: 0.7264149 (1300)\ttotal: 13m 46s\tremaining: 7m 23s\n",
            "1400:\tlearn: 0.4907245\ttest: 0.5671639\ttest1: 0.7224796\tbest: 0.7224796 (1400)\ttotal: 14m 57s\tremaining: 6m 23s\n",
            "1500:\tlearn: 0.4692352\ttest: 0.5480088\ttest1: 0.7193080\tbest: 0.7193050 (1499)\ttotal: 16m 11s\tremaining: 5m 23s\n",
            "1600:\tlearn: 0.4504961\ttest: 0.5325313\ttest1: 0.7172179\tbest: 0.7172179 (1600)\ttotal: 17m 17s\tremaining: 4m 18s\n",
            "1700:\tlearn: 0.4319686\ttest: 0.5169956\ttest1: 0.7151489\tbest: 0.7151376 (1699)\ttotal: 18m 34s\tremaining: 3m 15s\n",
            "1800:\tlearn: 0.4153683\ttest: 0.5027309\ttest1: 0.7138208\tbest: 0.7138208 (1800)\ttotal: 19m 38s\tremaining: 2m 10s\n",
            "1900:\tlearn: 0.3985764\ttest: 0.4878156\ttest1: 0.7131188\tbest: 0.7131188 (1900)\ttotal: 20m 39s\tremaining: 1m 4s\n",
            "1999:\tlearn: 0.3850286\ttest: 0.4769950\ttest1: 0.7127894\tbest: 0.7127722 (1986)\ttotal: 21m 47s\tremaining: 0us\n",
            "\n",
            "bestTest = 0.7127721757\n",
            "bestIteration = 1986\n",
            "\n",
            "Shrink model to first 1987 iterations.\n",
            "============ Fold 3 ============\n",
            "\n",
            "0:\tlearn: 1.0925091\ttest: 1.0925894\ttest1: 1.0927264\tbest: 1.0927264 (0)\ttotal: 700ms\tremaining: 23m 18s\n",
            "100:\tlearn: 0.8462056\ttest: 0.8473171\ttest1: 0.8524103\tbest: 0.8524103 (100)\ttotal: 37.4s\tremaining: 11m 42s\n",
            "200:\tlearn: 0.7943233\ttest: 0.7980498\ttest1: 0.8118484\tbest: 0.8118484 (200)\ttotal: 1m 25s\tremaining: 12m 48s\n",
            "300:\tlearn: 0.7678124\ttest: 0.7778905\ttest1: 0.8005045\tbest: 0.8005045 (300)\ttotal: 2m 25s\tremaining: 13m 41s\n",
            "400:\tlearn: 0.7398382\ttest: 0.7584066\ttest1: 0.7917852\tbest: 0.7917852 (400)\ttotal: 3m 36s\tremaining: 14m 24s\n",
            "500:\tlearn: 0.7120124\ttest: 0.7381217\ttest1: 0.7834241\tbest: 0.7834241 (500)\ttotal: 4m 45s\tremaining: 14m 13s\n",
            "600:\tlearn: 0.6899565\ttest: 0.7230743\ttest1: 0.7772234\tbest: 0.7772234 (600)\ttotal: 5m 54s\tremaining: 13m 46s\n",
            "700:\tlearn: 0.6667958\ttest: 0.7071296\ttest1: 0.7707715\tbest: 0.7707715 (700)\ttotal: 7m 2s\tremaining: 13m 3s\n",
            "800:\tlearn: 0.6422982\ttest: 0.6889114\ttest1: 0.7632062\tbest: 0.7632062 (800)\ttotal: 8m 10s\tremaining: 12m 13s\n"
          ],
          "name": "stdout"
        },
        {
          "output_type": "stream",
          "text": [
            "900:\tlearn: 0.6179850\ttest: 0.6706673\ttest1: 0.7564898\tbest: 0.7564898 (900)\ttotal: 9m 21s\tremaining: 11m 24s\n",
            "1000:\tlearn: 0.5949340\ttest: 0.6534986\ttest1: 0.7502196\tbest: 0.7502196 (1000)\ttotal: 10m 35s\tremaining: 10m 34s\n",
            "1100:\tlearn: 0.5690500\ttest: 0.6310175\ttest1: 0.7431042\tbest: 0.7431042 (1100)\ttotal: 11m 43s\tremaining: 9m 34s\n",
            "1200:\tlearn: 0.5440280\ttest: 0.6084217\ttest1: 0.7362105\tbest: 0.7362105 (1200)\ttotal: 12m 50s\tremaining: 8m 32s\n",
            "1300:\tlearn: 0.5200900\ttest: 0.5859605\ttest1: 0.7304804\tbest: 0.7304804 (1300)\ttotal: 13m 55s\tremaining: 7m 28s\n",
            "1400:\tlearn: 0.4978511\ttest: 0.5649077\ttest1: 0.7257539\tbest: 0.7257539 (1400)\ttotal: 15m\tremaining: 6m 24s\n",
            "1500:\tlearn: 0.4766584\ttest: 0.5453151\ttest1: 0.7218239\tbest: 0.7218239 (1500)\ttotal: 16m 4s\tremaining: 5m 20s\n",
            "1600:\tlearn: 0.4581551\ttest: 0.5289229\ttest1: 0.7191625\tbest: 0.7191625 (1600)\ttotal: 17m 11s\tremaining: 4m 17s\n",
            "1700:\tlearn: 0.4381907\ttest: 0.5129847\ttest1: 0.7166867\tbest: 0.7166432 (1696)\ttotal: 18m 17s\tremaining: 3m 12s\n",
            "1800:\tlearn: 0.4215631\ttest: 0.4991928\ttest1: 0.7148188\tbest: 0.7148188 (1800)\ttotal: 19m 22s\tremaining: 2m 8s\n",
            "1900:\tlearn: 0.4051624\ttest: 0.4857147\ttest1: 0.7137556\tbest: 0.7137556 (1900)\ttotal: 20m 33s\tremaining: 1m 4s\n",
            "1999:\tlearn: 0.3895413\ttest: 0.4735935\ttest1: 0.7129794\tbest: 0.7129043 (1984)\ttotal: 21m 41s\tremaining: 0us\n",
            "\n",
            "bestTest = 0.7129043453\n",
            "bestIteration = 1984\n",
            "\n",
            "Shrink model to first 1985 iterations.\n",
            "============ Fold 4 ============\n",
            "\n",
            "0:\tlearn: 1.0924494\ttest: 1.0925421\ttest1: 1.0927004\tbest: 1.0927004 (0)\ttotal: 664ms\tremaining: 22m 7s\n",
            "100:\tlearn: 0.8475882\ttest: 0.8492682\ttest1: 0.8502969\tbest: 0.8502969 (100)\ttotal: 36.3s\tremaining: 11m 23s\n",
            "200:\tlearn: 0.7970987\ttest: 0.8018372\ttest1: 0.8084570\tbest: 0.8084570 (200)\ttotal: 1m 19s\tremaining: 11m 50s\n",
            "300:\tlearn: 0.7678566\ttest: 0.7798027\ttest1: 0.7949080\tbest: 0.7949080 (300)\ttotal: 2m 24s\tremaining: 13m 34s\n",
            "400:\tlearn: 0.7355151\ttest: 0.7586603\ttest1: 0.7847928\tbest: 0.7847928 (400)\ttotal: 3m 32s\tremaining: 14m 8s\n",
            "500:\tlearn: 0.7102211\ttest: 0.7421577\ttest1: 0.7775642\tbest: 0.7775642 (500)\ttotal: 4m 39s\tremaining: 13m 57s\n",
            "600:\tlearn: 0.6859386\ttest: 0.7268734\ttest1: 0.7713622\tbest: 0.7713622 (600)\ttotal: 5m 50s\tremaining: 13m 36s\n",
            "700:\tlearn: 0.6616222\ttest: 0.7117366\ttest1: 0.7654142\tbest: 0.7654142 (700)\ttotal: 7m 8s\tremaining: 13m 14s\n",
            "800:\tlearn: 0.6383971\ttest: 0.6971270\ttest1: 0.7600003\tbest: 0.7600003 (800)\ttotal: 8m 9s\tremaining: 12m 12s\n",
            "900:\tlearn: 0.6151163\ttest: 0.6821270\ttest1: 0.7543831\tbest: 0.7543831 (900)\ttotal: 9m 5s\tremaining: 11m 5s\n",
            "1000:\tlearn: 0.5908998\ttest: 0.6654847\ttest1: 0.7485856\tbest: 0.7485856 (1000)\ttotal: 10m 7s\tremaining: 10m 6s\n",
            "1100:\tlearn: 0.5638193\ttest: 0.6430565\ttest1: 0.7416036\tbest: 0.7416036 (1100)\ttotal: 11m 6s\tremaining: 9m 4s\n",
            "1200:\tlearn: 0.5373217\ttest: 0.6189174\ttest1: 0.7344021\tbest: 0.7344021 (1200)\ttotal: 12m 1s\tremaining: 8m\n",
            "1300:\tlearn: 0.5142285\ttest: 0.5980403\ttest1: 0.7292341\tbest: 0.7292341 (1300)\ttotal: 12m 57s\tremaining: 6m 57s\n",
            "1400:\tlearn: 0.4910876\ttest: 0.5773146\ttest1: 0.7248614\tbest: 0.7248614 (1400)\ttotal: 13m 53s\tremaining: 5m 56s\n",
            "1500:\tlearn: 0.4693002\ttest: 0.5581610\ttest1: 0.7212796\tbest: 0.7212796 (1500)\ttotal: 14m 49s\tremaining: 4m 55s\n",
            "1600:\tlearn: 0.4482203\ttest: 0.5396505\ttest1: 0.7184669\tbest: 0.7184638 (1599)\ttotal: 15m 51s\tremaining: 3m 57s\n",
            "1700:\tlearn: 0.4307166\ttest: 0.5256969\ttest1: 0.7167409\tbest: 0.7167409 (1700)\ttotal: 16m 51s\tremaining: 2m 57s\n",
            "1800:\tlearn: 0.4131556\ttest: 0.5113464\ttest1: 0.7151076\tbest: 0.7150966 (1798)\ttotal: 17m 48s\tremaining: 1m 58s\n",
            "1900:\tlearn: 0.3973274\ttest: 0.4991262\ttest1: 0.7145436\tbest: 0.7145436 (1900)\ttotal: 18m 46s\tremaining: 58.7s\n",
            "1999:\tlearn: 0.3822213\ttest: 0.4870246\ttest1: 0.7140789\tbest: 0.7140342 (1992)\ttotal: 19m 41s\tremaining: 0us\n",
            "\n",
            "bestTest = 0.7140342097\n",
            "bestIteration = 1992\n",
            "\n",
            "Shrink model to first 1993 iterations.\n",
            "Log Loss Score: 0.71340\n",
            "\n"
          ],
          "name": "stdout"
        }
      ]
    },
    {
      "cell_type": "code",
      "metadata": {
        "id": "greatest-centre"
      },
      "source": [
        "\n",
        "\n",
        "sub = pd.read_csv(path + 'sample_submission.csv')\n",
        "sub.iloc[:, 1:] = (\n",
        "#         + xgb_preds * 0.1\n",
        "#         + cat_preds * 0.05\n",
        "        rf_preds\n",
        ")\n",
        "\n"
      ],
      "id": "greatest-centre",
      "execution_count": 31,
      "outputs": []
    },
    {
      "cell_type": "markdown",
      "metadata": {
        "id": "BHSAbDYbQlSX"
      },
      "source": [
        ""
      ],
      "id": "BHSAbDYbQlSX"
    },
    {
      "cell_type": "code",
      "metadata": {
        "id": "surgical-omaha",
        "colab": {
          "base_uri": "https://localhost:8080/",
          "height": 419
        },
        "outputId": "9e621795-5330-4812-c80a-f66b781442e9"
      },
      "source": [
        "sub"
      ],
      "id": "surgical-omaha",
      "execution_count": 32,
      "outputs": [
        {
          "output_type": "execute_result",
          "data": {
            "text/html": [
              "<div>\n",
              "<style scoped>\n",
              "    .dataframe tbody tr th:only-of-type {\n",
              "        vertical-align: middle;\n",
              "    }\n",
              "\n",
              "    .dataframe tbody tr th {\n",
              "        vertical-align: top;\n",
              "    }\n",
              "\n",
              "    .dataframe thead th {\n",
              "        text-align: right;\n",
              "    }\n",
              "</style>\n",
              "<table border=\"1\" class=\"dataframe\">\n",
              "  <thead>\n",
              "    <tr style=\"text-align: right;\">\n",
              "      <th></th>\n",
              "      <th>index</th>\n",
              "      <th>0</th>\n",
              "      <th>1</th>\n",
              "      <th>2</th>\n",
              "    </tr>\n",
              "  </thead>\n",
              "  <tbody>\n",
              "    <tr>\n",
              "      <th>0</th>\n",
              "      <td>26457</td>\n",
              "      <td>0.088656</td>\n",
              "      <td>0.267533</td>\n",
              "      <td>0.643811</td>\n",
              "    </tr>\n",
              "    <tr>\n",
              "      <th>1</th>\n",
              "      <td>26458</td>\n",
              "      <td>0.314187</td>\n",
              "      <td>0.310367</td>\n",
              "      <td>0.375446</td>\n",
              "    </tr>\n",
              "    <tr>\n",
              "      <th>2</th>\n",
              "      <td>26459</td>\n",
              "      <td>0.041737</td>\n",
              "      <td>0.072962</td>\n",
              "      <td>0.885301</td>\n",
              "    </tr>\n",
              "    <tr>\n",
              "      <th>3</th>\n",
              "      <td>26460</td>\n",
              "      <td>0.079943</td>\n",
              "      <td>0.098166</td>\n",
              "      <td>0.821890</td>\n",
              "    </tr>\n",
              "    <tr>\n",
              "      <th>4</th>\n",
              "      <td>26461</td>\n",
              "      <td>0.110093</td>\n",
              "      <td>0.171650</td>\n",
              "      <td>0.718258</td>\n",
              "    </tr>\n",
              "    <tr>\n",
              "      <th>...</th>\n",
              "      <td>...</td>\n",
              "      <td>...</td>\n",
              "      <td>...</td>\n",
              "      <td>...</td>\n",
              "    </tr>\n",
              "    <tr>\n",
              "      <th>9995</th>\n",
              "      <td>36452</td>\n",
              "      <td>0.077644</td>\n",
              "      <td>0.288647</td>\n",
              "      <td>0.633709</td>\n",
              "    </tr>\n",
              "    <tr>\n",
              "      <th>9996</th>\n",
              "      <td>36453</td>\n",
              "      <td>0.320182</td>\n",
              "      <td>0.284791</td>\n",
              "      <td>0.395027</td>\n",
              "    </tr>\n",
              "    <tr>\n",
              "      <th>9997</th>\n",
              "      <td>36454</td>\n",
              "      <td>0.031776</td>\n",
              "      <td>0.161933</td>\n",
              "      <td>0.806291</td>\n",
              "    </tr>\n",
              "    <tr>\n",
              "      <th>9998</th>\n",
              "      <td>36455</td>\n",
              "      <td>0.208517</td>\n",
              "      <td>0.441331</td>\n",
              "      <td>0.350152</td>\n",
              "    </tr>\n",
              "    <tr>\n",
              "      <th>9999</th>\n",
              "      <td>36456</td>\n",
              "      <td>0.119416</td>\n",
              "      <td>0.272637</td>\n",
              "      <td>0.607946</td>\n",
              "    </tr>\n",
              "  </tbody>\n",
              "</table>\n",
              "<p>10000 rows × 4 columns</p>\n",
              "</div>"
            ],
            "text/plain": [
              "      index         0         1         2\n",
              "0     26457  0.088656  0.267533  0.643811\n",
              "1     26458  0.314187  0.310367  0.375446\n",
              "2     26459  0.041737  0.072962  0.885301\n",
              "3     26460  0.079943  0.098166  0.821890\n",
              "4     26461  0.110093  0.171650  0.718258\n",
              "...     ...       ...       ...       ...\n",
              "9995  36452  0.077644  0.288647  0.633709\n",
              "9996  36453  0.320182  0.284791  0.395027\n",
              "9997  36454  0.031776  0.161933  0.806291\n",
              "9998  36455  0.208517  0.441331  0.350152\n",
              "9999  36456  0.119416  0.272637  0.607946\n",
              "\n",
              "[10000 rows x 4 columns]"
            ]
          },
          "metadata": {
            "tags": []
          },
          "execution_count": 32
        }
      ]
    },
    {
      "cell_type": "code",
      "metadata": {
        "id": "equal-weapon"
      },
      "source": [
        "sub.to_csv('submission0506_RF_case32.csv', index=False)"
      ],
      "id": "equal-weapon",
      "execution_count": 33,
      "outputs": []
    },
    {
      "cell_type": "code",
      "metadata": {
        "id": "spoken-blink"
      },
      "source": [
        ""
      ],
      "id": "spoken-blink",
      "execution_count": null,
      "outputs": []
    }
  ]
}